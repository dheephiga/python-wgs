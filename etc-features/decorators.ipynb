{
 "cells": [
  {
   "cell_type": "code",
   "execution_count": 2,
   "metadata": {},
   "outputs": [],
   "source": [
    "def logger(func):\n",
    "    def wrapper(*args, **kwargs):\n",
    "        print(f'calling function {func.__name__}')\n",
    "        return func(*args,**kwargs)\n",
    "    return wrapper"
   ]
  },
  {
   "cell_type": "code",
   "execution_count": 6,
   "metadata": {},
   "outputs": [
    {
     "name": "stdout",
     "output_type": "stream",
     "text": [
      "calling function greet\n",
      "Hello Corey Schaufer\n"
     ]
    }
   ],
   "source": [
    "@logger\n",
    "def greet(name):\n",
    "    return f'Hello {name}'\n",
    "\n",
    "print(greet('Corey Schaufer'))\n",
    "    "
   ]
  },
  {
   "cell_type": "code",
   "execution_count": 7,
   "metadata": {},
   "outputs": [
    {
     "ename": "SyntaxError",
     "evalue": "incomplete input (2022461275.py, line 5)",
     "output_type": "error",
     "traceback": [
      "\u001b[1;36m  Cell \u001b[1;32mIn[7], line 5\u001b[1;36m\u001b[0m\n\u001b[1;33m    @add(8,9)\u001b[0m\n\u001b[1;37m             ^\u001b[0m\n\u001b[1;31mSyntaxError\u001b[0m\u001b[1;31m:\u001b[0m incomplete input\n"
     ]
    }
   ],
   "source": [
    "def add(a,b):\n",
    "    def wrapper():\n",
    "        print(a+b)\n",
    "\n",
    "@add(8,9)"
   ]
  },
  {
   "cell_type": "code",
   "execution_count": 20,
   "metadata": {},
   "outputs": [
    {
     "name": "stdout",
     "output_type": "stream",
     "text": [
      "hello ran in 3.0006392002105713 time\n"
     ]
    }
   ],
   "source": [
    "import time\n",
    "\n",
    "def timer(fn):\n",
    "    def wrapper(*args,**kwargs):\n",
    "        start = time.time()\n",
    "        result = fn(*args,**kwargs)\n",
    "        end = time.time()\n",
    "        print(f'{fn.__name__} ran in {end-start} time')\n",
    "        return result\n",
    "    return wrapper\n",
    "\n",
    "@timer\n",
    "def hello(n):\n",
    "    time.sleep(n)\n",
    "\n",
    "hello(3)"
   ]
  },
  {
   "cell_type": "code",
   "execution_count": 18,
   "metadata": {},
   "outputs": [
    {
     "name": "stdout",
     "output_type": "stream",
     "text": [
      "3\n"
     ]
    }
   ],
   "source": [
    "def roundoff(fn):\n",
    "    def wrapper(*args,**kwargs):\n",
    "        result = round(fn(*args,**kwargs))\n",
    "        return result\n",
    "    return wrapper\n",
    "\n",
    "@roundoff\n",
    "def div(a,b):\n",
    "    return a/b\n",
    "\n",
    "print(div(10,3))"
   ]
  },
  {
   "cell_type": "code",
   "execution_count": 31,
   "metadata": {},
   "outputs": [
    {
     "name": "stdout",
     "output_type": "stream",
     "text": [
      "identifyA ran in 0.0 seconds\n",
      "a occured 7 times in the given list\n"
     ]
    }
   ],
   "source": [
    "import time\n",
    "def timer(fn):\n",
    "    def wrapper(*args,**kwargs):\n",
    "        start = time.time()\n",
    "        result = fn(*args,**kwargs)\n",
    "        end = time.time()\n",
    "        print(f'{fn.__name__} ran in {end-start} seconds')\n",
    "        return result\n",
    "    return wrapper\n",
    "\n",
    "@timer      \n",
    "def identifyA(mylist):\n",
    "    count = 0\n",
    "    for word in mylist:\n",
    "        if 'a' in word:\n",
    "            count += 1\n",
    "    return count\n",
    "\n",
    "li = [item for item in input(\"Enter \\\n",
    "                the list items : \").split()]\n",
    "countA = identifyA(li)\n",
    "print(f'a occured {countA} times in the given list')\n"
   ]
  },
  {
   "cell_type": "code",
   "execution_count": 44,
   "metadata": {},
   "outputs": [
    {
     "name": "stdout",
     "output_type": "stream",
     "text": [
      "You win\n",
      "guess_game ran in 0.0 seconds\n"
     ]
    }
   ],
   "source": [
    "import time,random\n",
    "def timer(fn):\n",
    "    def wrapper(*args,**kwargs):\n",
    "        start = time.time()\n",
    "        result = fn(*args,**kwargs)\n",
    "        end = time.time()\n",
    "        print(f'{fn.__name__} ran in {end-start} seconds')\n",
    "        return result\n",
    "    return wrapper\n",
    "\n",
    "@timer\n",
    "def guess_game(n):\n",
    "    if n == random.randint(1,3):\n",
    "        print('You win')\n",
    "    else:\n",
    "        print('You lose')\n",
    "\n",
    "val = int(input(\"Guess between 1-3: \"))\n",
    "guess_game(val)"
   ]
  },
  {
   "cell_type": "markdown",
   "metadata": {},
   "source": [
    "Create a simple decoder function that takes a string encoded using a specific rule and decodes it.\n",
    " \n",
    "Rule: Each letter in the encoded string is shifted by a certain number of positions in the alphabet. For example, if the shift is 3, 'A' becomes 'D', 'B' becomes 'E', and so on.\n",
    " \n",
    "Your decoder function should take two arguments: the encoded string and the shift value. It should return the decoded string."
   ]
  },
  {
   "cell_type": "code",
   "execution_count": null,
   "metadata": {},
   "outputs": [],
   "source": []
  },
  {
   "cell_type": "markdown",
   "metadata": {},
   "source": [
    "Debugging function calls --> deccorator to print the fn name and values of tis arguments everytime the function is called"
   ]
  },
  {
   "cell_type": "code",
   "execution_count": 3,
   "metadata": {},
   "outputs": [
    {
     "name": "stdout",
     "output_type": "stream",
     "text": [
      "calling: hello with args  and kwargs \n",
      "hello\n",
      "calling: greet with args John and kwargs greeting:Hi\n",
      "Hi, John\n"
     ]
    }
   ],
   "source": [
    "def debug(fn):\n",
    "    def wrapper(*args, **kwargs):\n",
    "        args_val = ', '.join(str(arg) for arg in args)\n",
    "        kwargs_val = ', '.join(f'{k}:{v}' for k,v in kwargs.items())\n",
    "        print(f'calling: {fn.__name__} with args {args_val} and kwargs {kwargs_val}')\n",
    "        return fn(*args,**kwargs)\n",
    "    return wrapper\n",
    "                \n",
    "@debug\n",
    "def hello():\n",
    "    print(\"hello\")\n",
    "hello()\n",
    "\n",
    "@debug\n",
    "def greet(name, greeting='Hello'):\n",
    "    print(f'{greeting}, {name}')\n",
    "\n",
    "greet('John',greeting='Hi')"
   ]
  },
  {
   "cell_type": "markdown",
   "metadata": {},
   "source": [
    "Caches the return value"
   ]
  },
  {
   "cell_type": "code",
   "execution_count": 6,
   "metadata": {},
   "outputs": [
    {
     "name": "stdout",
     "output_type": "stream",
     "text": [
      "{}\n",
      "15\n",
      "15\n",
      "11\n"
     ]
    }
   ],
   "source": [
    "import time\n",
    "def cache(fn):\n",
    "    cache_val = {}\n",
    "    print(cache_val)\n",
    "    \n",
    "    def wrapper(*args):\n",
    "        if args in cache_val:\n",
    "            return cache_val[args]\n",
    "        \n",
    "        result = fn(*args)\n",
    "        cache_val[args] = result\n",
    "        return result\n",
    "    \n",
    "    return wrapper\n",
    "\n",
    "@cache\n",
    "def long_fn(a,b):\n",
    "    time.sleep(4)\n",
    "    return a+b\n",
    "print(long_fn(6,9))\n",
    "print(long_fn(6,9))\n",
    "print(long_fn(6,5))"
   ]
  }
 ],
 "metadata": {
  "kernelspec": {
   "display_name": "Python 3",
   "language": "python",
   "name": "python3"
  },
  "language_info": {
   "codemirror_mode": {
    "name": "ipython",
    "version": 3
   },
   "file_extension": ".py",
   "mimetype": "text/x-python",
   "name": "python",
   "nbconvert_exporter": "python",
   "pygments_lexer": "ipython3",
   "version": "3.12.0"
  }
 },
 "nbformat": 4,
 "nbformat_minor": 2
}
