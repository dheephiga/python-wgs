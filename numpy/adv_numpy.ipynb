{
 "cells": [
  {
   "cell_type": "code",
   "execution_count": 1,
   "metadata": {},
   "outputs": [],
   "source": [
    "import numpy as np"
   ]
  },
  {
   "cell_type": "code",
   "execution_count": 6,
   "metadata": {},
   "outputs": [
    {
     "name": "stdout",
     "output_type": "stream",
     "text": [
      "[1 2 2 4 5]\n",
      "1\n",
      "2\n"
     ]
    }
   ],
   "source": [
    "arr = np.array([1,2,2,4,5,])\n",
    "print(arr)\n",
    "print(np.ndim(arr))\n",
    "arr2 = np.array([[1,11,1,1,1,1,1,]])\n",
    "print(np.ndim(arr2))"
   ]
  },
  {
   "cell_type": "code",
   "execution_count": 7,
   "metadata": {},
   "outputs": [
    {
     "name": "stdout",
     "output_type": "stream",
     "text": [
      "2\n"
     ]
    }
   ],
   "source": [
    "marks = np.array([[90,90,87],\n",
    "                  [90,99,97],\n",
    "                  [80,88,98],])\n",
    "print(np.ndim(marks))"
   ]
  },
  {
   "cell_type": "code",
   "execution_count": 8,
   "metadata": {},
   "outputs": [
    {
     "name": "stdout",
     "output_type": "stream",
     "text": [
      "[[1]\n",
      " [2]\n",
      " [2]\n",
      " [4]\n",
      " [5]]\n",
      "2\n"
     ]
    }
   ],
   "source": [
    "reshp = arr.reshape(5,1)\n",
    "print(reshp)\n",
    "print(np.ndim(reshp))"
   ]
  },
  {
   "cell_type": "code",
   "execution_count": 9,
   "metadata": {},
   "outputs": [
    {
     "name": "stdout",
     "output_type": "stream",
     "text": [
      "1\n",
      "[90 90 87 90 99 97 80 88 98]\n"
     ]
    }
   ],
   "source": [
    "#reshaping multi to single\n",
    "reshaped = marks.flatten()\n",
    "print(np.ndim(reshaped))\n",
    "print(reshaped)\n"
   ]
  },
  {
   "cell_type": "markdown",
   "metadata": {},
   "source": [
    "new course\n",
    "add marks\n",
    "add 2 more studetns"
   ]
  },
  {
   "cell_type": "code",
   "execution_count": 10,
   "metadata": {},
   "outputs": [
    {
     "ename": "TypeError",
     "evalue": "vstack() takes 1 positional argument but 2 were given",
     "output_type": "error",
     "traceback": [
      "\u001b[1;31m---------------------------------------------------------------------------\u001b[0m",
      "\u001b[1;31mTypeError\u001b[0m                                 Traceback (most recent call last)",
      "Cell \u001b[1;32mIn[10], line 8\u001b[0m\n\u001b[0;32m      4\u001b[0m marks \u001b[38;5;241m=\u001b[39m np\u001b[38;5;241m.\u001b[39mhstack((marks, subjs))\n\u001b[0;32m      6\u001b[0m new_students \u001b[38;5;241m=\u001b[39m np\u001b[38;5;241m.\u001b[39marray([[\u001b[38;5;241m85\u001b[39m, \u001b[38;5;241m82\u001b[39m, \u001b[38;5;241m88\u001b[39m,\u001b[38;5;241m99\u001b[39m,\u001b[38;5;241m100\u001b[39m],\n\u001b[0;32m      7\u001b[0m                         [\u001b[38;5;241m79\u001b[39m, \u001b[38;5;241m91\u001b[39m, \u001b[38;5;241m83\u001b[39m,\u001b[38;5;241m89\u001b[39m,\u001b[38;5;241m99\u001b[39m]])\n\u001b[1;32m----> 8\u001b[0m marks \u001b[38;5;241m=\u001b[39m \u001b[43mnp\u001b[49m\u001b[38;5;241;43m.\u001b[39;49m\u001b[43mvstack\u001b[49m\u001b[43m(\u001b[49m\u001b[43mmarks\u001b[49m\u001b[43m,\u001b[49m\u001b[43mnew_students\u001b[49m\u001b[43m)\u001b[49m\n\u001b[0;32m      9\u001b[0m average_marks \u001b[38;5;241m=\u001b[39m np\u001b[38;5;241m.\u001b[39mmean(marks, axis\u001b[38;5;241m=\u001b[39m\u001b[38;5;241m0\u001b[39m)\n\u001b[0;32m     10\u001b[0m marks \u001b[38;5;241m=\u001b[39m np\u001b[38;5;241m.\u001b[39mvstack([marks, average_marks])\n",
      "\u001b[1;31mTypeError\u001b[0m: vstack() takes 1 positional argument but 2 were given"
     ]
    }
   ],
   "source": [
    "subjs = np.array([[85, 82],\n",
    "                [79, 91],\n",
    "                [90, 88]])\n",
    "marks = np.hstack((marks, subjs))\n",
    "\n",
    "new_students = np.array([[85, 82, 88,99,100],\n",
    "                        [79, 91, 83,89,99]])\n",
    "marks = np.vstack(marks,new_students)\n",
    "average_marks = np.mean(marks, axis=0)\n",
    "marks = np.vstack([marks, average_marks])"
   ]
  },
  {
   "cell_type": "code",
   "execution_count": null,
   "metadata": {},
   "outputs": [],
   "source": [
    "import numpy as np\n",
    "\n",
    "# Sample array of values\n",
    "\n",
    "\n",
    "# Printing values using row and column indices\n",
    "for i in range(len(row_indices)):\n",
    "    row_idx = row_indices[i]\n",
    "    col_idx = col_indices[i]\n",
    "    print(f\"Value at ({row_idx}, {col_idx}): {values[row_idx, col_idx]}\")\n",
    "values = np.array([[10, 20, 30],\n",
    "                   [40, 50, 60],\n",
    "                   [70, 80, 90]])\n",
    "\n",
    "# Sample array of row and column indices\n",
    "row_indices = np.array([ 1, 2])\n",
    "col_indices = np.array([2])"
   ]
  },
  {
   "cell_type": "markdown",
   "metadata": {},
   "source": [
    "each student's max mark print\n",
    "what std marks are greater than 70\n"
   ]
  },
  {
   "cell_type": "code",
   "execution_count": null,
   "metadata": {},
   "outputs": [
    {
     "name": "stdout",
     "output_type": "stream",
     "text": [
      "[[90 90 87]\n",
      " [90 99 97]\n",
      " [80 88 98]]\n"
     ]
    }
   ],
   "source": [
    "print(marks)"
   ]
  },
  {
   "cell_type": "code",
   "execution_count": null,
   "metadata": {},
   "outputs": [
    {
     "name": "stdout",
     "output_type": "stream",
     "text": [
      "Updated marks array:\n",
      "[[ 78  89  67  85  82]\n",
      " [ 56  89  90  79  91]\n",
      " [ 90  56  90  90  88]\n",
      " [ 85  82  88  99 100]\n",
      " [ 79  91  83  89  99]\n",
      " [ 77  81  83  88  92]]\n"
     ]
    }
   ],
   "source": [
    "import numpy as np\n",
    "\n",
    "\n",
    "marks = np.array([[78, 89, 67],\n",
    "                  [56, 89, 90],\n",
    "                  [90, 56, 90]])\n",
    "\n",
    "\n",
    "subjs = np.array([[85, 82],\n",
    "                  [79, 91],\n",
    "                  [90, 88]])\n",
    "\n",
    "marks = np.hstack((marks, subjs))\n",
    "\n",
    "\n",
    "new_students = np.array([[85, 82, 88, 99, 100],\n",
    "                         [79, 91, 83, 89, 99]])\n",
    "\n",
    "\n",
    "marks = np.vstack((marks, new_students))\n",
    "\n",
    "\n",
    "average_marks = np.mean(marks, axis=0)\n",
    "\n",
    "marks = np.vstack([marks.astype(int), average_marks.astype(int)])\n",
    "print(\"Updated marks array:\")\n",
    "print(marks)\n"
   ]
  },
  {
   "cell_type": "code",
   "execution_count": null,
   "metadata": {},
   "outputs": [
    {
     "name": "stdout",
     "output_type": "stream",
     "text": [
      "Maximum marks for each student:\n",
      "[ 89  91  90 100  99  92]\n"
     ]
    }
   ],
   "source": [
    "max_marks_per_student = np.max(marks, axis=1)\n",
    "\n",
    "print(\"Maximum marks for each student:\")\n",
    "print(max_marks_per_student)"
   ]
  },
  {
   "cell_type": "code",
   "execution_count": 12,
   "metadata": {},
   "outputs": [
    {
     "name": "stdout",
     "output_type": "stream",
     "text": [
      "Original Matrix:\n",
      "[[ 1  2  3]\n",
      " [ 4  5  6]\n",
      " [ 7  8 10]]\n",
      "\n",
      "Inverse Matrix:\n",
      "[[-0.66666667 -1.33333333  1.        ]\n",
      " [-0.66666667  3.66666667 -2.        ]\n",
      " [ 1.         -2.          1.        ]]\n"
     ]
    }
   ],
   "source": [
    "import numpy as np\n",
    "\n",
    "# Creating a non-singular 3x3 matrix\n",
    "matrix = np.array([[1, 2, 3],\n",
    "                   [4, 5, 6],\n",
    "                   [7, 8, 10]])\n",
    "\n",
    "print(\"Original Matrix:\")\n",
    "print(matrix)\n",
    "\n",
    "# Calculating the inverse of the matrix\n",
    "try:\n",
    "    inv_matrix = np.linalg.inv(matrix)\n",
    "    print(\"\\nInverse Matrix:\")\n",
    "    print(inv_matrix)\n",
    "except np.linalg.LinAlgError as e:\n",
    "    print(\"Error:\", e)\n"
   ]
  },
  {
   "cell_type": "code",
   "execution_count": 17,
   "metadata": {},
   "outputs": [
    {
     "name": "stdout",
     "output_type": "stream",
     "text": [
      "[[1.00000000e+00 0.00000000e+00 1.11022302e-16]\n",
      " [0.00000000e+00 1.00000000e+00 2.22044605e-16]\n",
      " [8.88178420e-16 0.00000000e+00 1.00000000e+00]]\n",
      "\n",
      "\n",
      "[[ 1.00000000e+00  0.00000000e+00  2.22044605e-16]\n",
      " [ 1.33226763e-15  1.00000000e+00  8.88178420e-16]\n",
      " [-7.77156117e-16  0.00000000e+00  1.00000000e+00]]\n"
     ]
    }
   ],
   "source": [
    "result1 = np.matmul(matrix,inv_matrix)\n",
    "result2 = np.matmul(inv_matrix,matrix)\n",
    "print(result1)\n",
    "print('\\n')\n",
    "print(result2)"
   ]
  },
  {
   "cell_type": "markdown",
   "metadata": {},
   "source": []
  }
 ],
 "metadata": {
  "kernelspec": {
   "display_name": "Python 3",
   "language": "python",
   "name": "python3"
  },
  "language_info": {
   "codemirror_mode": {
    "name": "ipython",
    "version": 3
   },
   "file_extension": ".py",
   "mimetype": "text/x-python",
   "name": "python",
   "nbconvert_exporter": "python",
   "pygments_lexer": "ipython3",
   "version": "3.12.0"
  }
 },
 "nbformat": 4,
 "nbformat_minor": 2
}
