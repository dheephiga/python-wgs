{
 "cells": [
  {
   "cell_type": "code",
   "execution_count": 1,
   "metadata": {},
   "outputs": [],
   "source": [
    "import numpy as np"
   ]
  },
  {
   "cell_type": "code",
   "execution_count": 11,
   "metadata": {},
   "outputs": [
    {
     "name": "stdout",
     "output_type": "stream",
     "text": [
      "[1 2 2 4 5]\n",
      "1\n",
      "2\n"
     ]
    }
   ],
   "source": [
    "arr = np.array([1,2,2,4,5,])\n",
    "print(arr)\n",
    "print(np.ndim(arr))\n",
    "arr2 = np.array([[1,11,1,1,1,1,1,]])\n",
    "print(np.ndim(arr2))"
   ]
  },
  {
   "cell_type": "code",
   "execution_count": 14,
   "metadata": {},
   "outputs": [
    {
     "name": "stdout",
     "output_type": "stream",
     "text": [
      "2\n"
     ]
    }
   ],
   "source": [
    "marks = np.array([[90,90,87],\n",
    "                  [90,99,97],\n",
    "                  [80,88,98],])\n",
    "print(np.ndim(marks))"
   ]
  },
  {
   "cell_type": "code",
   "execution_count": 26,
   "metadata": {},
   "outputs": [
    {
     "name": "stdout",
     "output_type": "stream",
     "text": [
      "[[1]\n",
      " [2]\n",
      " [2]\n",
      " [4]\n",
      " [5]]\n",
      "2\n"
     ]
    }
   ],
   "source": [
    "reshp = arr.reshape(5,1)\n",
    "print(reshp)\n",
    "print(np.ndim(reshp))"
   ]
  },
  {
   "cell_type": "code",
   "execution_count": 22,
   "metadata": {},
   "outputs": [
    {
     "name": "stdout",
     "output_type": "stream",
     "text": [
      "1\n",
      "[90 90 87 90 99 97 80 88 98]\n"
     ]
    }
   ],
   "source": [
    "#reshaping multi to single\n",
    "reshaped = marks.flatten()\n",
    "print(np.ndim(reshaped))\n",
    "print(reshaped)\n"
   ]
  },
  {
   "cell_type": "markdown",
   "metadata": {},
   "source": [
    "new course\n",
    "add marks\n",
    "add 2 more studetns"
   ]
  },
  {
   "cell_type": "code",
   "execution_count": null,
   "metadata": {},
   "outputs": [],
   "source": [
    "subjs = np.array([[85, 82],\n",
    "                [79, 91],\n",
    "                [90, 88]])\n",
    "marks = np.hstack((marks, subjs))\n",
    "\n",
    "new_students = np.array([[85, 82, 88,99,100],\n",
    "                        [79, 91, 83,89,99]])\n",
    "marks = np.vstack(marks,new_students)\n",
    "average_marks = np.mean(marks, axis=0)\n",
    "marks = np.vstack([marks, average_marks])"
   ]
  }
 ],
 "metadata": {
  "kernelspec": {
   "display_name": "Python 3",
   "language": "python",
   "name": "python3"
  },
  "language_info": {
   "codemirror_mode": {
    "name": "ipython",
    "version": 3
   },
   "file_extension": ".py",
   "mimetype": "text/x-python",
   "name": "python",
   "nbconvert_exporter": "python",
   "pygments_lexer": "ipython3",
   "version": "3.12.0"
  }
 },
 "nbformat": 4,
 "nbformat_minor": 2
}
