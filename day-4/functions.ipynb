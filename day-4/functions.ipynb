{
 "cells": [
  {
   "cell_type": "markdown",
   "metadata": {},
   "source": [
    "## Functions"
   ]
  },
  {
   "cell_type": "markdown",
   "metadata": {},
   "source": [
    "### Without arg without return"
   ]
  },
  {
   "cell_type": "code",
   "execution_count": 3,
   "metadata": {},
   "outputs": [
    {
     "name": "stdout",
     "output_type": "stream",
     "text": [
      "8\n",
      "None\n",
      "8\n"
     ]
    }
   ],
   "source": [
    "def add():\n",
    "    a = 3+5\n",
    "    print(a)\n",
    "print(add())\n",
    "add()"
   ]
  },
  {
   "cell_type": "code",
   "execution_count": 5,
   "metadata": {},
   "outputs": [
    {
     "name": "stdout",
     "output_type": "stream",
     "text": [
      "3\n"
     ]
    }
   ],
   "source": [
    "def max_three():\n",
    "    a = int(input())\n",
    "    b = int(input())\n",
    "    c =int(input())\n",
    "    if((a>=b) and (a>=c)):\n",
    "        print(a)\n",
    "    elif((b>=a) and (b>=c)):\n",
    "        print(b)\n",
    "    else:\n",
    "        print(c)\n",
    "max_three()"
   ]
  },
  {
   "cell_type": "markdown",
   "metadata": {},
   "source": [
    "### Without arg with return type"
   ]
  },
  {
   "cell_type": "code",
   "execution_count": 6,
   "metadata": {},
   "outputs": [
    {
     "name": "stdout",
     "output_type": "stream",
     "text": [
      "99\n"
     ]
    }
   ],
   "source": [
    "def max_three():\n",
    "    a = int(input())\n",
    "    b = int(input())\n",
    "    c =int(input())\n",
    "    if((a>=b) and (a>=c)):\n",
    "        return a\n",
    "    elif((b>=a) and (b>=c)):\n",
    "        return b\n",
    "    else:\n",
    "        return c\n",
    "\n",
    "print(max_three())"
   ]
  },
  {
   "cell_type": "code",
   "execution_count": null,
   "metadata": {},
   "outputs": [],
   "source": []
  }
 ],
 "metadata": {
  "kernelspec": {
   "display_name": "Python 3",
   "language": "python",
   "name": "python3"
  },
  "language_info": {
   "codemirror_mode": {
    "name": "ipython",
    "version": 3
   },
   "file_extension": ".py",
   "mimetype": "text/x-python",
   "name": "python",
   "nbconvert_exporter": "python",
   "pygments_lexer": "ipython3",
   "version": "3.9.13"
  }
 },
 "nbformat": 4,
 "nbformat_minor": 2
}
