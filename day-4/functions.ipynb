{
 "cells": [
  {
   "cell_type": "markdown",
   "metadata": {},
   "source": [
    "## Functions"
   ]
  },
  {
   "cell_type": "markdown",
   "metadata": {},
   "source": [
    "### Without arg without return"
   ]
  },
  {
   "cell_type": "code",
   "execution_count": 3,
   "metadata": {},
   "outputs": [
    {
     "name": "stdout",
     "output_type": "stream",
     "text": [
      "8\n",
      "None\n",
      "8\n"
     ]
    }
   ],
   "source": [
    "def add():\n",
    "    a = 3+5\n",
    "    print(a)\n",
    "print(add())\n",
    "add()"
   ]
  },
  {
   "cell_type": "code",
   "execution_count": 5,
   "metadata": {},
   "outputs": [
    {
     "name": "stdout",
     "output_type": "stream",
     "text": [
      "3\n"
     ]
    }
   ],
   "source": [
    "def max_three():\n",
    "    a = int(input())\n",
    "    b = int(input())\n",
    "    c =int(input())\n",
    "    if((a>=b) and (a>=c)):\n",
    "        print(a)\n",
    "    elif((b>=a) and (b>=c)):\n",
    "        print(b)\n",
    "    else:\n",
    "        print(c)\n",
    "max_three()"
   ]
  },
  {
   "cell_type": "markdown",
   "metadata": {},
   "source": [
    "### Without arg with return type"
   ]
  },
  {
   "cell_type": "code",
   "execution_count": 6,
   "metadata": {},
   "outputs": [
    {
     "name": "stdout",
     "output_type": "stream",
     "text": [
      "99\n"
     ]
    }
   ],
   "source": [
    "def max_three():\n",
    "    a = int(input())\n",
    "    b = int(input())\n",
    "    c =int(input())\n",
    "    if((a>=b) and (a>=c)):\n",
    "        return a\n",
    "    elif((b>=a) and (b>=c)):\n",
    "        return b\n",
    "    else:\n",
    "        return c\n",
    "\n",
    "print(max_three())"
   ]
  },
  {
   "cell_type": "markdown",
   "metadata": {},
   "source": [
    "Write a Python function that takes a list as input and returns a new list with the elements reversed."
   ]
  },
  {
   "cell_type": "code",
   "execution_count": 17,
   "metadata": {},
   "outputs": [
    {
     "name": "stdout",
     "output_type": "stream",
     "text": [
      "6,3,2,1\n"
     ]
    }
   ],
   "source": [
    "def list_reverse():\n",
    "    string = input()\n",
    "    list_str = string.split(',')\n",
    "    list_str.reverse()\n",
    "    print(','.join(list_str))\n",
    "list_reverse()\n"
   ]
  },
  {
   "cell_type": "markdown",
   "metadata": {},
   "source": [
    "### with arg without return type"
   ]
  },
  {
   "cell_type": "code",
   "execution_count": 18,
   "metadata": {},
   "outputs": [
    {
     "name": "stdout",
     "output_type": "stream",
     "text": [
      "11\n"
     ]
    }
   ],
   "source": [
    "def add(x,y):\n",
    "    print(x+y)\n",
    "add(5,6)"
   ]
  },
  {
   "cell_type": "code",
   "execution_count": 21,
   "metadata": {},
   "outputs": [
    {
     "name": "stdout",
     "output_type": "stream",
     "text": [
      "5,3,2,1\n"
     ]
    }
   ],
   "source": [
    "def rev(list_i):\n",
    "    list_str.reverse()\n",
    "    print(','.join(list_str))\n",
    "\n",
    "string = input()\n",
    "list_str = string.split(',')\n",
    "rev(list_str)\n"
   ]
  },
  {
   "cell_type": "markdown",
   "metadata": {},
   "source": [
    "### with arg with return type"
   ]
  },
  {
   "cell_type": "code",
   "execution_count": 22,
   "metadata": {},
   "outputs": [
    {
     "name": "stdout",
     "output_type": "stream",
     "text": [
      "17\n"
     ]
    }
   ],
   "source": [
    "def add(x,y,z):\n",
    "    return(x+y+z)\n",
    "\n",
    "print(add(7,2,8))\n",
    "    \n",
    "    "
   ]
  },
  {
   "cell_type": "markdown",
   "metadata": {},
   "source": [
    "Write a Python function that takes a list of words as input and returns a dictionary where the keys are unique words from the input list, and the values are the frequencies of those words in the list."
   ]
  },
  {
   "cell_type": "code",
   "execution_count": 27,
   "metadata": {},
   "outputs": [
    {
     "ename": "SyntaxError",
     "evalue": "invalid syntax (3814208087.py, line 4)",
     "output_type": "error",
     "traceback": [
      "\u001b[1;36m  Cell \u001b[1;32mIn [27], line 4\u001b[1;36m\u001b[0m\n\u001b[1;33m    freq = dict{}\u001b[0m\n\u001b[1;37m               ^\u001b[0m\n\u001b[1;31mSyntaxError\u001b[0m\u001b[1;31m:\u001b[0m invalid syntax\n"
     ]
    }
   ],
   "source": [
    "def unique_frequency(list_words):\n",
    "    words = list_words.copy()\n",
    "    set_words = set(list_words)\n",
    "    freq = {}\n",
    "    for i in set_words:\n",
    "        freq.values\n",
    "    print(set_words)\n",
    "    print(words)\n",
    "\n",
    "\n",
    "string = input()\n",
    "list_str = string.split(',')\n",
    "unique_frequency(list_str)"
   ]
  },
  {
   "cell_type": "code",
   "execution_count": 28,
   "metadata": {},
   "outputs": [
    {
     "name": "stdout",
     "output_type": "stream",
     "text": [
      "{'dd': 2, 'cc': 2, 'vv': 1}\n"
     ]
    }
   ],
   "source": [
    "def unique_frequency(list_words):\n",
    "    freq = {}\n",
    "    for word in list_words:\n",
    "        if word not in freq:\n",
    "            freq[word] = 1\n",
    "        else:\n",
    "            freq[word] += 1\n",
    "    return freq\n",
    "\n",
    "string = input()\n",
    "list_str = string.split(',')\n",
    "result = unique_frequency(list_str)\n",
    "print(result)\n"
   ]
  },
  {
   "cell_type": "code",
   "execution_count": null,
   "metadata": {},
   "outputs": [],
   "source": [
    "def add(a=0,b)"
   ]
  },
  {
   "cell_type": "markdown",
   "metadata": {},
   "source": [
    "Write a Python function that takes a list of elements as input and returns the count of unique elements using sets."
   ]
  },
  {
   "cell_type": "code",
   "execution_count": 2,
   "metadata": {},
   "outputs": [
    {
     "name": "stdout",
     "output_type": "stream",
     "text": [
      "Count of unique elements:  1\n"
     ]
    }
   ],
   "source": [
    "def unique(user_list):\n",
    "    unique = set(user_list)\n",
    "    return len(unique)\n",
    "\n",
    "string = input()\n",
    "userlist = string.split(',')\n",
    "result = unique(userlist)\n",
    "print(\"Unique elements: \" ,result)"
   ]
  },
  {
   "cell_type": "code",
   "execution_count": 7,
   "metadata": {},
   "outputs": [
    {
     "name": "stdout",
     "output_type": "stream",
     "text": [
      "{'name': 'a', 'gender': 'f', 'regno': 123123, 'mark_1': 12, 'mark_2': 23, 'mark_3': 34, 'total': 69}\n"
     ]
    }
   ],
   "source": [
    "def record(name,gender,regno,m1,m2,m3):\n",
    "    record_dict = {}\n",
    "    record_dict['name'] = name\n",
    "    record_dict['gender'] = gender\n",
    "    record_dict['regno'] = regno\n",
    "    record_dict['mark_1'] = m1\n",
    "    record_dict['mark_2'] = m2\n",
    "    record_dict['mark_3'] = m3\n",
    "    record_dict['total'] = m1+m2+m3\n",
    "    print(record_dict)\n",
    "\n",
    "uname = input(\"Name: \")\n",
    "ugender = input(\"Gender: \")\n",
    "uregno = int(input(\"Reg no: \"))\n",
    "um1 = int(input(\"Mark1: \"))\n",
    "um2 = int(input(\"Mark2: \"))\n",
    "um3 = int(input(\"Mark3: \"))\n",
    "\n",
    "record(name=uname,gender=ugender,regno=uregno,m1=um1,m2=um2,m3=um3)"
   ]
  },
  {
   "cell_type": "markdown",
   "metadata": {},
   "source": [
    "### variable number of args inside a function"
   ]
  },
  {
   "cell_type": "code",
   "execution_count": 13,
   "metadata": {},
   "outputs": [
    {
     "name": "stdout",
     "output_type": "stream",
     "text": [
      "(1, 2, 5)\n",
      "<class 'tuple'>\n",
      "8\n"
     ]
    }
   ],
   "source": [
    "def course(*names):\n",
    "    print(names)\n",
    "    print(type(names))\n",
    "    print(sum(names))\n",
    "course(1,2,5)"
   ]
  },
  {
   "cell_type": "markdown",
   "metadata": {},
   "source": [
    "interested courses from 3 people, return the most liked course"
   ]
  },
  {
   "cell_type": "code",
   "execution_count": 39,
   "metadata": {},
   "outputs": [
    {
     "name": "stdout",
     "output_type": "stream",
     "text": [
      "french 3\n"
     ]
    }
   ],
   "source": [
    "def liked_course(*courses):\n",
    "    freq = {}\n",
    "    for user_courses in courses:\n",
    "        for course in user_courses:\n",
    "            if course not in freq:\n",
    "                freq[course] = 1\n",
    "            else:\n",
    "                freq[course] += 1\n",
    "    print(max(freq,key=freq.get),freq[max(freq,key=freq.get)])\n",
    "\n",
    "user1 = ['french','german','spanish']\n",
    "user2 = ['french','spanish']\n",
    "user3 = ['french']\n",
    "\n",
    "liked_course(user1,user2,user3)"
   ]
  },
  {
   "cell_type": "markdown",
   "metadata": {},
   "source": [
    "inline lambda"
   ]
  },
  {
   "cell_type": "code",
   "execution_count": 47,
   "metadata": {},
   "outputs": [
    {
     "name": "stdout",
     "output_type": "stream",
     "text": [
      "452552\n"
     ]
    }
   ],
   "source": [
    "add = lambda a: (a+10)\n",
    "print(add(452542))\n"
   ]
  },
  {
   "cell_type": "code",
   "execution_count": 48,
   "metadata": {},
   "outputs": [
    {
     "ename": "SyntaxError",
     "evalue": "invalid syntax (2184858057.py, line 1)",
     "output_type": "error",
     "traceback": [
      "\u001b[1;36m  Cell \u001b[1;32mIn [48], line 1\u001b[1;36m\u001b[0m\n\u001b[1;33m    maximum = lambda a,b,c : a if a>=b && a>=c  b elif b>=a && b>=c : else c\u001b[0m\n\u001b[1;37m                                        ^\u001b[0m\n\u001b[1;31mSyntaxError\u001b[0m\u001b[1;31m:\u001b[0m invalid syntax\n"
     ]
    }
   ],
   "source": [
    "maximum = lambda a,b,c : a if a>=b && a>=c  b elif b>=a && b>=c : else c\n",
    "print(maximum(5,5,7))"
   ]
  },
  {
   "cell_type": "code",
   "execution_count": null,
   "metadata": {},
   "outputs": [],
   "source": [
    "maximum = lambda a, b, c: a if a >= b and a >= c else (b if b >= a and b >= c else c)\n",
    "print(maximum(5, 5, 7))\n"
   ]
  }
 ],
 "metadata": {
  "kernelspec": {
   "display_name": "Python 3",
   "language": "python",
   "name": "python3"
  },
  "language_info": {
   "codemirror_mode": {
    "name": "ipython",
    "version": 3
   },
   "file_extension": ".py",
   "mimetype": "text/x-python",
   "name": "python",
   "nbconvert_exporter": "python",
   "pygments_lexer": "ipython3",
   "version": "3.9.13"
  }
 },
 "nbformat": 4,
 "nbformat_minor": 2
}
