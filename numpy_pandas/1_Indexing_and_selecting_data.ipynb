{
  "cells": [
    {
      "cell_type": "markdown",
      "metadata": {
        "id": "hsybrXxdO68t"
      },
      "source": [
        "# Indexing and selecting data"
      ]
    },
    {
      "cell_type": "code",
      "execution_count": 4,
      "metadata": {
        "collapsed": true,
        "id": "yTVS10qpO68z"
      },
      "outputs": [],
      "source": [
        "%matplotlib inline\n",
        "\n",
        "import pandas as pd\n",
        "import numpy as np\n",
        "import matplotlib as plt\n",
        "import seaborn as sns\n",
        "try:\n",
        "    import seaborn\n",
        "except ImportError:\n",
        "    pass"
      ]
    },
    {
      "cell_type": "code",
      "execution_count": 5,
      "metadata": {
        "colab": {
          "base_uri": "https://localhost:8080/",
          "height": 206
        },
        "id": "fwI0Y8p2O681",
        "outputId": "37081166-786c-42e7-fefe-347ed32a39e9"
      },
      "outputs": [
        {
          "data": {
            "text/html": [
              "<div>\n",
              "<style scoped>\n",
              "    .dataframe tbody tr th:only-of-type {\n",
              "        vertical-align: middle;\n",
              "    }\n",
              "\n",
              "    .dataframe tbody tr th {\n",
              "        vertical-align: top;\n",
              "    }\n",
              "\n",
              "    .dataframe thead th {\n",
              "        text-align: right;\n",
              "    }\n",
              "</style>\n",
              "<table border=\"1\" class=\"dataframe\">\n",
              "  <thead>\n",
              "    <tr style=\"text-align: right;\">\n",
              "      <th></th>\n",
              "      <th>country</th>\n",
              "      <th>population</th>\n",
              "      <th>area</th>\n",
              "      <th>capital</th>\n",
              "    </tr>\n",
              "  </thead>\n",
              "  <tbody>\n",
              "    <tr>\n",
              "      <th>0</th>\n",
              "      <td>Belgium</td>\n",
              "      <td>11.3</td>\n",
              "      <td>30510</td>\n",
              "      <td>Brussels</td>\n",
              "    </tr>\n",
              "    <tr>\n",
              "      <th>1</th>\n",
              "      <td>France</td>\n",
              "      <td>64.3</td>\n",
              "      <td>671308</td>\n",
              "      <td>Paris</td>\n",
              "    </tr>\n",
              "    <tr>\n",
              "      <th>2</th>\n",
              "      <td>Germany</td>\n",
              "      <td>81.3</td>\n",
              "      <td>357050</td>\n",
              "      <td>Berlin</td>\n",
              "    </tr>\n",
              "    <tr>\n",
              "      <th>3</th>\n",
              "      <td>Netherlands</td>\n",
              "      <td>16.9</td>\n",
              "      <td>41526</td>\n",
              "      <td>Amsterdam</td>\n",
              "    </tr>\n",
              "    <tr>\n",
              "      <th>4</th>\n",
              "      <td>United Kingdom</td>\n",
              "      <td>64.9</td>\n",
              "      <td>244820</td>\n",
              "      <td>London</td>\n",
              "    </tr>\n",
              "  </tbody>\n",
              "</table>\n",
              "</div>"
            ],
            "text/plain": [
              "          country  population    area    capital\n",
              "0         Belgium        11.3   30510   Brussels\n",
              "1          France        64.3  671308      Paris\n",
              "2         Germany        81.3  357050     Berlin\n",
              "3     Netherlands        16.9   41526  Amsterdam\n",
              "4  United Kingdom        64.9  244820     London"
            ]
          },
          "execution_count": 5,
          "metadata": {},
          "output_type": "execute_result"
        }
      ],
      "source": [
        "# redefining the example objects\n",
        "\n",
        "# series\n",
        "population = pd.Series({'Germany': 81.3, 'Belgium': 11.3, 'France': 64.3,\n",
        "                        'United Kingdom': 64.9, 'Netherlands': 16.9})\n",
        "\n",
        "# dataframe\n",
        "data = {'country': ['Belgium', 'France', 'Germany', 'Netherlands', 'United Kingdom'],\n",
        "        'population': [11.3, 64.3, 81.3, 16.9, 64.9],\n",
        "        'area': [30510, 671308, 357050, 41526, 244820],\n",
        "        'capital': ['Brussels', 'Paris', 'Berlin', 'Amsterdam', 'London']}\n",
        "countries = pd.DataFrame(data)\n",
        "countries"
      ]
    },
    {
      "cell_type": "markdown",
      "metadata": {
        "id": "Yas-gsuRO683"
      },
      "source": [
        "Setting the index to the country names:"
      ]
    },
    {
      "cell_type": "code",
      "execution_count": 6,
      "metadata": {
        "colab": {
          "base_uri": "https://localhost:8080/",
          "height": 237
        },
        "id": "hZXOuV7OO685",
        "outputId": "92b602c0-3d70-46ab-f4f8-a592b61d88bc"
      },
      "outputs": [
        {
          "data": {
            "text/html": [
              "<div>\n",
              "<style scoped>\n",
              "    .dataframe tbody tr th:only-of-type {\n",
              "        vertical-align: middle;\n",
              "    }\n",
              "\n",
              "    .dataframe tbody tr th {\n",
              "        vertical-align: top;\n",
              "    }\n",
              "\n",
              "    .dataframe thead th {\n",
              "        text-align: right;\n",
              "    }\n",
              "</style>\n",
              "<table border=\"1\" class=\"dataframe\">\n",
              "  <thead>\n",
              "    <tr style=\"text-align: right;\">\n",
              "      <th></th>\n",
              "      <th>population</th>\n",
              "      <th>area</th>\n",
              "      <th>capital</th>\n",
              "    </tr>\n",
              "    <tr>\n",
              "      <th>country</th>\n",
              "      <th></th>\n",
              "      <th></th>\n",
              "      <th></th>\n",
              "    </tr>\n",
              "  </thead>\n",
              "  <tbody>\n",
              "    <tr>\n",
              "      <th>Belgium</th>\n",
              "      <td>11.3</td>\n",
              "      <td>30510</td>\n",
              "      <td>Brussels</td>\n",
              "    </tr>\n",
              "    <tr>\n",
              "      <th>France</th>\n",
              "      <td>64.3</td>\n",
              "      <td>671308</td>\n",
              "      <td>Paris</td>\n",
              "    </tr>\n",
              "    <tr>\n",
              "      <th>Germany</th>\n",
              "      <td>81.3</td>\n",
              "      <td>357050</td>\n",
              "      <td>Berlin</td>\n",
              "    </tr>\n",
              "    <tr>\n",
              "      <th>Netherlands</th>\n",
              "      <td>16.9</td>\n",
              "      <td>41526</td>\n",
              "      <td>Amsterdam</td>\n",
              "    </tr>\n",
              "    <tr>\n",
              "      <th>United Kingdom</th>\n",
              "      <td>64.9</td>\n",
              "      <td>244820</td>\n",
              "      <td>London</td>\n",
              "    </tr>\n",
              "  </tbody>\n",
              "</table>\n",
              "</div>"
            ],
            "text/plain": [
              "                population    area    capital\n",
              "country                                      \n",
              "Belgium               11.3   30510   Brussels\n",
              "France                64.3  671308      Paris\n",
              "Germany               81.3  357050     Berlin\n",
              "Netherlands           16.9   41526  Amsterdam\n",
              "United Kingdom        64.9  244820     London"
            ]
          },
          "execution_count": 6,
          "metadata": {},
          "output_type": "execute_result"
        }
      ],
      "source": [
        "countries = countries.set_index('country')\n",
        "countries"
      ]
    },
    {
      "cell_type": "markdown",
      "metadata": {
        "id": "K-2_KDfkO687"
      },
      "source": [
        "## Some notes on selecting data\n",
        "\n",
        "One of pandas' basic features is the labeling of rows and columns, but this makes indexing also a bit more complex compared to numpy. We now have to distuinguish between:\n",
        "\n",
        "- selection by label\n",
        "- selection by position."
      ]
    },
    {
      "cell_type": "markdown",
      "metadata": {
        "id": "eQ_e501zO68-"
      },
      "source": [
        "### `data[]` provides some convenience shortcuts"
      ]
    },
    {
      "cell_type": "markdown",
      "metadata": {
        "id": "tdt8ywPCO69C"
      },
      "source": [
        "For a DataFrame, basic indexing selects the columns.\n",
        "\n",
        "Selecting a single column:"
      ]
    },
    {
      "cell_type": "code",
      "execution_count": 7,
      "metadata": {
        "colab": {
          "base_uri": "https://localhost:8080/"
        },
        "id": "Ee3nO-EgO69H",
        "outputId": "811a62cc-1afe-4c69-8972-ec7bc3e3ea0b"
      },
      "outputs": [
        {
          "data": {
            "text/plain": [
              "country\n",
              "Belgium            30510\n",
              "France            671308\n",
              "Germany           357050\n",
              "Netherlands        41526\n",
              "United Kingdom    244820\n",
              "Name: area, dtype: int64"
            ]
          },
          "execution_count": 7,
          "metadata": {},
          "output_type": "execute_result"
        }
      ],
      "source": [
        "countries['area']"
      ]
    },
    {
      "cell_type": "markdown",
      "metadata": {
        "id": "nkq8glSvO69b"
      },
      "source": [
        "or multiple columns:"
      ]
    },
    {
      "cell_type": "code",
      "execution_count": null,
      "metadata": {
        "colab": {
          "base_uri": "https://localhost:8080/",
          "height": 237
        },
        "id": "L44gClZNO69g",
        "outputId": "65e6d317-f9b0-4026-b588-cd8e4ca8aa10"
      },
      "outputs": [],
      "source": [
        "countries[['area', 'population']]"
      ]
    },
    {
      "cell_type": "markdown",
      "metadata": {
        "id": "RaV4-oMaO69p"
      },
      "source": [
        "But, slicing accesses the rows:"
      ]
    },
    {
      "cell_type": "code",
      "execution_count": null,
      "metadata": {
        "colab": {
          "base_uri": "https://localhost:8080/",
          "height": 174
        },
        "id": "zRDvztrIO69s",
        "outputId": "67c31859-6449-4052-a017-632ac7d754e9"
      },
      "outputs": [],
      "source": [
        "countries['France':'Netherlands']"
      ]
    },
    {
      "cell_type": "markdown",
      "metadata": {
        "id": "1qJl9-cbO69w"
      },
      "source": [
        "<div class=\"alert alert-danger\">\n",
        "    <b>NOTE</b>: Unlike slicing in numpy, the end label is **included**.\n",
        "</div>"
      ]
    },
    {
      "cell_type": "markdown",
      "metadata": {
        "id": "czzs4myDO69y"
      },
      "source": [
        "So as a summary, `[]` provides the following convenience shortcuts:\n",
        "\n",
        "- Series: selecting a label: `s[label]`\n",
        "- DataFrame: selecting a single or multiple columns: `df['col']` or `df[['col1', 'col2']]`\n",
        "- DataFrame: slicing the rows: `df['row_label1':'row_label2']` or `df[mask]`"
      ]
    },
    {
      "cell_type": "markdown",
      "metadata": {
        "id": "_dh6RAf9O69z"
      },
      "source": [
        "### Systematic indexing with `loc` and `iloc`"
      ]
    },
    {
      "cell_type": "markdown",
      "metadata": {
        "id": "pYqLngKEO691"
      },
      "source": [
        "When using `[]` like above, you can only select from one axis at once (rows or columns, not both). For more advanced indexing, you have some extra attributes:\n",
        "    \n",
        "* `loc`: selection by label\n",
        "* `iloc`: selection by position\n",
        "\n",
        "These methods index the different dimensions of the frame:\n",
        "\n",
        "* `df.loc[row_indexer, column_indexer]`\n",
        "* `df.iloc[row_indexer, column_indexer]`"
      ]
    },
    {
      "cell_type": "markdown",
      "metadata": {
        "id": "0y80trbkO692"
      },
      "source": [
        "Selecting a single element:"
      ]
    },
    {
      "cell_type": "code",
      "execution_count": null,
      "metadata": {
        "colab": {
          "base_uri": "https://localhost:8080/"
        },
        "id": "sG1wIm9BO693",
        "outputId": "df91e67a-4ee1-4631-e2fc-badc684724f7"
      },
      "outputs": [],
      "source": [
        "countries.loc['Germany', 'area']"
      ]
    },
    {
      "cell_type": "markdown",
      "metadata": {
        "id": "sdAvI-6rO694"
      },
      "source": [
        "But the row or column indexer can also be a list, slice, boolean array, .."
      ]
    },
    {
      "cell_type": "code",
      "execution_count": null,
      "metadata": {
        "colab": {
          "base_uri": "https://localhost:8080/",
          "height": 143
        },
        "id": "CDmNFcusO695",
        "outputId": "3a19a26d-45c8-4a3e-c0b9-f59589f5e29e"
      },
      "outputs": [],
      "source": [
        "countries.loc['France':'Germany', ['area', 'population']]"
      ]
    },
    {
      "cell_type": "markdown",
      "metadata": {
        "id": "MNkGPPKrO69_"
      },
      "source": [
        "---\n",
        "Selecting by position with `iloc` works similar as indexing numpy arrays:"
      ]
    },
    {
      "cell_type": "code",
      "execution_count": null,
      "metadata": {
        "colab": {
          "base_uri": "https://localhost:8080/",
          "height": 143
        },
        "id": "cylBab1nO6-B",
        "outputId": "f66b6314-93e8-486d-cda0-5776b61bd2fc"
      },
      "outputs": [],
      "source": [
        "countries.iloc[0:2,1:3]"
      ]
    },
    {
      "cell_type": "markdown",
      "metadata": {
        "id": "C-kwYO0aO6-F"
      },
      "source": [
        "The different indexing methods can also be used to assign data:"
      ]
    },
    {
      "cell_type": "code",
      "execution_count": null,
      "metadata": {
        "collapsed": true,
        "id": "fnYH889aO6-G"
      },
      "outputs": [],
      "source": [
        "countries2 = countries.copy()\n",
        "countries2.loc['Belgium':'Germany', 'population'] = 10"
      ]
    },
    {
      "cell_type": "code",
      "execution_count": null,
      "metadata": {
        "colab": {
          "base_uri": "https://localhost:8080/",
          "height": 237
        },
        "id": "Rts3ni87O6-G",
        "outputId": "6cf13c5f-70fc-494d-d55d-be45add93224"
      },
      "outputs": [],
      "source": [
        "countries2"
      ]
    },
    {
      "cell_type": "markdown",
      "metadata": {
        "id": "-QdLFIk3O6-H"
      },
      "source": [
        "## Boolean indexing (filtering)"
      ]
    },
    {
      "cell_type": "markdown",
      "metadata": {
        "id": "uUatZ3UdO6-H"
      },
      "source": [
        "Often, you want to select rows based on a certain condition. This can be done with 'boolean indexing' (like a where clause in SQL).\n",
        "\n",
        "The indexer (or boolean mask) should be 1-dimensional and the same length as the thing being indexed."
      ]
    },
    {
      "cell_type": "code",
      "execution_count": null,
      "metadata": {
        "colab": {
          "base_uri": "https://localhost:8080/"
        },
        "id": "6EFZ678wO6-I",
        "outputId": "e65ce044-4eee-4cca-cf6d-d2f23fe7531b"
      },
      "outputs": [],
      "source": [
        "countries['area'] > 100000"
      ]
    },
    {
      "cell_type": "code",
      "execution_count": null,
      "metadata": {
        "colab": {
          "base_uri": "https://localhost:8080/",
          "height": 174
        },
        "id": "A2PhQ68rO6-K",
        "outputId": "bf56f576-0d7d-41e7-8791-0f9ce43a3d45"
      },
      "outputs": [],
      "source": [
        "countries[countries['area'] > 100000]"
      ]
    },
    {
      "cell_type": "markdown",
      "metadata": {
        "id": "Y7q83aDNO6-K"
      },
      "source": [
        "---\n",
        "\n",
        "<div class=\"alert alert-success\">\n",
        "    <b>EXERCISE</b>: Add a column `density` with the population density (note: population column is expressed in millions)\n",
        "</div>"
      ]
    },
    {
      "cell_type": "code",
      "execution_count": null,
      "metadata": {
        "clear_cell": true,
        "id": "MJQn4zOAO6-L"
      },
      "outputs": [],
      "source": []
    },
    {
      "cell_type": "markdown",
      "metadata": {
        "id": "8mM1zNggO6-M"
      },
      "source": [
        "<div class=\"alert alert-success\">\n",
        "    <b>EXERCISE</b>: Select the capital and the population column of those countries where the density is larger than 300\n",
        "</div>"
      ]
    },
    {
      "cell_type": "code",
      "execution_count": null,
      "metadata": {
        "clear_cell": true,
        "id": "DjW5ppFDO6-N"
      },
      "outputs": [],
      "source": []
    },
    {
      "cell_type": "markdown",
      "metadata": {
        "id": "gASeOJk8O6-O"
      },
      "source": [
        "<div class=\"alert alert-success\">\n",
        "    <b>EXERCISE</b>: Add a column 'density_ratio' with the ratio of the density to the mean density\n",
        "</div>"
      ]
    },
    {
      "cell_type": "code",
      "execution_count": null,
      "metadata": {
        "clear_cell": true,
        "id": "PCqD-HQAO6-P"
      },
      "outputs": [],
      "source": []
    },
    {
      "cell_type": "markdown",
      "metadata": {
        "id": "N7e2OLSUO6-P"
      },
      "source": [
        "<div class=\"alert alert-success\">\n",
        "    <b>EXERCISE</b>: Change the capital of the UK to Cambridge\n",
        "</div>"
      ]
    },
    {
      "cell_type": "code",
      "execution_count": null,
      "metadata": {
        "clear_cell": true,
        "id": "OnqOKXvaO6-P"
      },
      "outputs": [],
      "source": []
    },
    {
      "cell_type": "markdown",
      "metadata": {
        "collapsed": true,
        "id": "j2nhVlemO6-Q"
      },
      "source": [
        "<div class=\"alert alert-success\">\n",
        "    <b>EXERCISE</b>: Select all countries whose population density is between 100 and 300 people/km²\n",
        "</div>"
      ]
    },
    {
      "cell_type": "code",
      "execution_count": null,
      "metadata": {
        "clear_cell": true,
        "id": "MLBadg2lO6-T"
      },
      "outputs": [],
      "source": []
    },
    {
      "cell_type": "markdown",
      "metadata": {
        "collapsed": true,
        "id": "prbpU98YO6-U"
      },
      "source": [
        "## Some other useful methods: `isin` and string methods"
      ]
    },
    {
      "cell_type": "markdown",
      "metadata": {
        "id": "Gs2-aTguO6-V"
      },
      "source": [
        "The `isin` method of Series is very useful to select rows that may contain certain values:"
      ]
    },
    {
      "cell_type": "code",
      "execution_count": null,
      "metadata": {
        "collapsed": true,
        "id": "uw66oUE2O6-V"
      },
      "outputs": [],
      "source": [
        "s = countries['capital']"
      ]
    },
    {
      "cell_type": "code",
      "execution_count": null,
      "metadata": {
        "collapsed": true,
        "id": "6AKqemm1O6-W"
      },
      "outputs": [],
      "source": [
        "s.isin?"
      ]
    },
    {
      "cell_type": "code",
      "execution_count": null,
      "metadata": {
        "colab": {
          "base_uri": "https://localhost:8080/"
        },
        "id": "vIfAqcG-O6-Z",
        "outputId": "b4e3bfd9-b46b-4e1b-b1a2-f8653d899a88"
      },
      "outputs": [],
      "source": [
        "s.isin(['Berlin', 'London'])"
      ]
    },
    {
      "cell_type": "markdown",
      "metadata": {
        "id": "YNLHXgM7O6-d"
      },
      "source": [
        "This can then be used to filter the dataframe with boolean indexing:"
      ]
    },
    {
      "cell_type": "code",
      "execution_count": null,
      "metadata": {
        "colab": {
          "base_uri": "https://localhost:8080/",
          "height": 143
        },
        "id": "hpVpiMWpO6-e",
        "outputId": "c83add63-96ad-4977-b500-b8ea1a2aa7ff"
      },
      "outputs": [],
      "source": [
        "countries[countries['capital'].isin(['Berlin', 'London'])]"
      ]
    },
    {
      "cell_type": "markdown",
      "metadata": {
        "id": "M8mquFXgO6-f"
      },
      "source": [
        "Let's say we want to select all data for which the capital starts with a 'B'. In Python, when having a string, we could use the `startswith` method:"
      ]
    },
    {
      "cell_type": "code",
      "execution_count": null,
      "metadata": {
        "colab": {
          "base_uri": "https://localhost:8080/"
        },
        "id": "049DnIM0O6-j",
        "outputId": "071a1c67-177b-4009-85a3-4f6944defbb4"
      },
      "outputs": [],
      "source": [
        "'Berlin'.startswith('B')"
      ]
    },
    {
      "cell_type": "markdown",
      "metadata": {
        "id": "SFh940RFO6-k"
      },
      "source": [
        "In pandas, these are available on a Series through the `str` namespace:"
      ]
    },
    {
      "cell_type": "code",
      "execution_count": null,
      "metadata": {
        "colab": {
          "base_uri": "https://localhost:8080/"
        },
        "id": "WPbrHpueO6-m",
        "outputId": "707f9314-9224-449a-b64d-eb3ead5042f4"
      },
      "outputs": [],
      "source": [
        "countries['capital'].str.startswith('B')"
      ]
    },
    {
      "cell_type": "markdown",
      "metadata": {
        "id": "nifWIBqHO6-n"
      },
      "source": [
        "For an overview of all string methods, see: http://pandas.pydata.org/pandas-docs/stable/api.html#string-handling"
      ]
    },
    {
      "cell_type": "markdown",
      "metadata": {
        "id": "tw0zUbvFO6-n"
      },
      "source": [
        "<div class=\"alert alert-success\">\n",
        "    <b>EXERCISE</b>: Select all countries that have capital names with more than 7 characters\n",
        "</div>"
      ]
    },
    {
      "cell_type": "code",
      "execution_count": null,
      "metadata": {
        "clear_cell": true,
        "id": "acKchvjYO6-o"
      },
      "outputs": [],
      "source": []
    },
    {
      "cell_type": "markdown",
      "metadata": {
        "id": "3Sa_EC5FO6-q"
      },
      "source": [
        "<div class=\"alert alert-success\">\n",
        "    <b>EXERCISE</b>: Select all countries that have capital names that contain the character sequence 'am'\n",
        "</div>"
      ]
    },
    {
      "cell_type": "code",
      "execution_count": null,
      "metadata": {
        "clear_cell": true,
        "id": "-UOfh2fzO6-r"
      },
      "outputs": [],
      "source": []
    },
    {
      "cell_type": "markdown",
      "metadata": {
        "id": "X_HEgX3qO6-r"
      },
      "source": [
        "## Pitfall: chained indexing (and the 'SettingWithCopyWarning')"
      ]
    },
    {
      "cell_type": "code",
      "execution_count": null,
      "metadata": {
        "collapsed": true,
        "id": "hMNyXKi8O6-s"
      },
      "outputs": [],
      "source": [
        "countries.loc['Belgium', 'capital'] = 'Ghent'"
      ]
    },
    {
      "cell_type": "code",
      "execution_count": null,
      "metadata": {
        "colab": {
          "base_uri": "https://localhost:8080/",
          "height": 237
        },
        "id": "TcUMkcorO6-t",
        "outputId": "c936865f-21ba-4f1f-fec4-9c62a4f07e25"
      },
      "outputs": [],
      "source": [
        "countries"
      ]
    },
    {
      "cell_type": "code",
      "execution_count": null,
      "metadata": {
        "colab": {
          "base_uri": "https://localhost:8080/"
        },
        "id": "SDsC7ZrMO6-u",
        "outputId": "1022faca-df1a-4203-89c8-c8c6b59075d1"
      },
      "outputs": [],
      "source": [
        "countries['capital']['Belgium'] = 'Antwerp'"
      ]
    },
    {
      "cell_type": "code",
      "execution_count": null,
      "metadata": {
        "colab": {
          "base_uri": "https://localhost:8080/",
          "height": 237
        },
        "id": "ACpIcFJlO6-u",
        "outputId": "61e7820b-6084-4a4a-abeb-214b98634e4d"
      },
      "outputs": [],
      "source": [
        "countries"
      ]
    },
    {
      "cell_type": "code",
      "execution_count": null,
      "metadata": {
        "colab": {
          "base_uri": "https://localhost:8080/"
        },
        "id": "NgE585Y5O6-v",
        "outputId": "f67087cc-235c-4608-8ce0-caa53092c947"
      },
      "outputs": [],
      "source": [
        "countries[countries['capital'] == 'Antwerp']['capital'] = 'Brussels'"
      ]
    },
    {
      "cell_type": "code",
      "execution_count": null,
      "metadata": {
        "colab": {
          "base_uri": "https://localhost:8080/",
          "height": 237
        },
        "id": "mCwjA2pZO6-w",
        "outputId": "d6c4d2fd-c641-4527-d979-1cbd1dc60855"
      },
      "outputs": [],
      "source": [
        "countries"
      ]
    },
    {
      "cell_type": "markdown",
      "metadata": {
        "id": "3Iy4dlwqO6-3"
      },
      "source": [
        "How to avoid this?\n",
        "\n",
        "* Use `loc` instead of chained indexing if possible!\n",
        "* Or `copy` explicitly if you don't want to change the original data."
      ]
    }
  ],
  "metadata": {
    "celltoolbar": "Nbtutor - export exercises",
    "colab": {
      "provenance": []
    },
    "kernelspec": {
      "display_name": "Python 3",
      "language": "python",
      "name": "python3"
    },
    "language_info": {
      "codemirror_mode": {
        "name": "ipython",
        "version": 3
      },
      "file_extension": ".py",
      "mimetype": "text/x-python",
      "name": "python",
      "nbconvert_exporter": "python",
      "pygments_lexer": "ipython3",
      "version": "3.12.0"
    }
  },
  "nbformat": 4,
  "nbformat_minor": 0
}
