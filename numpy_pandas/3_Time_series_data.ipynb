{
  "cells": [
    {
      "cell_type": "code",
      "execution_count": 1,
      "metadata": {
        "collapsed": true,
        "id": "Caq6YWQmPqxF",
        "run_control": {
          "frozen": false,
          "read_only": false
        }
      },
      "outputs": [],
      "source": [
        "import pandas as pd\n",
        "import numpy as np\n",
        "import matplotlib.pyplot as plt\n",
        "\n",
        "pd.options.display.max_rows = 8"
      ]
    },
    {
      "cell_type": "markdown",
      "metadata": {
        "id": "lOMLSVocPqxG"
      },
      "source": [
        "# Introduction: `datetime` module"
      ]
    },
    {
      "cell_type": "markdown",
      "metadata": {
        "id": "TEXyLRotPqxH"
      },
      "source": [
        "Standard Python contains the `datetime` module to handle with date and time data:"
      ]
    },
    {
      "cell_type": "code",
      "execution_count": 2,
      "metadata": {
        "collapsed": true,
        "id": "iHDvmOEDPqxH",
        "run_control": {
          "frozen": false,
          "read_only": false
        }
      },
      "outputs": [],
      "source": [
        "import datetime"
      ]
    },
    {
      "cell_type": "code",
      "execution_count": 3,
      "metadata": {
        "colab": {
          "base_uri": "https://localhost:8080/"
        },
        "collapsed": true,
        "id": "kO4mgbjXPqxI",
        "outputId": "b36e24c4-c2bf-4642-cf4e-8bdccb209e1a",
        "run_control": {
          "frozen": false,
          "read_only": false
        }
      },
      "outputs": [
        {
          "data": {
            "text/plain": [
              "datetime.datetime(2016, 12, 19, 13, 30)"
            ]
          },
          "execution_count": 3,
          "metadata": {},
          "output_type": "execute_result"
        }
      ],
      "source": [
        "dt = datetime.datetime(year=2016, month=12, day=19, hour=13, minute=30)\n",
        "dt"
      ]
    },
    {
      "cell_type": "code",
      "execution_count": 4,
      "metadata": {
        "colab": {
          "base_uri": "https://localhost:8080/"
        },
        "collapsed": true,
        "id": "tj8NOU1KPqxI",
        "outputId": "333f3a73-a349-4a0f-8f5f-ece23ed8fa0e",
        "run_control": {
          "frozen": false,
          "read_only": false
        }
      },
      "outputs": [
        {
          "name": "stdout",
          "output_type": "stream",
          "text": [
            "2016-12-19 13:30:00\n"
          ]
        }
      ],
      "source": [
        "print(dt) # .day,..."
      ]
    },
    {
      "cell_type": "code",
      "execution_count": 5,
      "metadata": {
        "colab": {
          "base_uri": "https://localhost:8080/"
        },
        "collapsed": true,
        "id": "inokSPfZPqxI",
        "outputId": "fc3fc6c5-060c-4077-8f99-a54cc02eac51",
        "run_control": {
          "frozen": false,
          "read_only": false
        }
      },
      "outputs": [
        {
          "name": "stdout",
          "output_type": "stream",
          "text": [
            "19 December 2016\n"
          ]
        }
      ],
      "source": [
        "print(dt.strftime(\"%d %B %Y\"))"
      ]
    },
    {
      "cell_type": "markdown",
      "metadata": {
        "id": "7vNOY4fuPqxJ"
      },
      "source": [
        "# Dates and times in pandas"
      ]
    },
    {
      "cell_type": "markdown",
      "metadata": {
        "id": "E0jdsOejPqxJ"
      },
      "source": [
        "## The ``Timestamp`` object"
      ]
    },
    {
      "cell_type": "markdown",
      "metadata": {
        "id": "GlULcnvkPqxK"
      },
      "source": [
        "Pandas has its own date and time objects, which are compatible with the standard `datetime` objects, but provide some more functionality to work with.  \n",
        "\n",
        "The `Timestamp` object can also be constructed from a string:"
      ]
    },
    {
      "cell_type": "code",
      "execution_count": 6,
      "metadata": {
        "colab": {
          "base_uri": "https://localhost:8080/"
        },
        "collapsed": true,
        "id": "C8E6ZKSuPqxK",
        "outputId": "55a6e528-3f0a-40f8-8636-a9931cabe57f",
        "run_control": {
          "frozen": false,
          "read_only": false
        }
      },
      "outputs": [
        {
          "data": {
            "text/plain": [
              "Timestamp('2016-12-19 00:00:00')"
            ]
          },
          "execution_count": 6,
          "metadata": {},
          "output_type": "execute_result"
        }
      ],
      "source": [
        "ts = pd.Timestamp('2016-12-19')\n",
        "ts"
      ]
    },
    {
      "cell_type": "markdown",
      "metadata": {
        "id": "yOK9EJRYPqxK"
      },
      "source": [
        "Like with `datetime.datetime` objects, there are several useful attributes available on the `Timestamp`. For example, we can get the month:"
      ]
    },
    {
      "cell_type": "code",
      "execution_count": 7,
      "metadata": {
        "colab": {
          "base_uri": "https://localhost:8080/"
        },
        "collapsed": true,
        "id": "blcK8CgpPqxL",
        "outputId": "e43d432f-2105-4151-b5d3-fe2f9a84caa0",
        "run_control": {
          "frozen": false,
          "read_only": false
        }
      },
      "outputs": [
        {
          "data": {
            "text/plain": [
              "12"
            ]
          },
          "execution_count": 7,
          "metadata": {},
          "output_type": "execute_result"
        }
      ],
      "source": [
        "ts.month"
      ]
    },
    {
      "cell_type": "code",
      "execution_count": 8,
      "metadata": {
        "colab": {
          "base_uri": "https://localhost:8080/"
        },
        "collapsed": true,
        "id": "z5Nqh5cTPqxL",
        "outputId": "b9237668-bcc3-4c9d-8f44-ea0c121048ea",
        "run_control": {
          "frozen": false,
          "read_only": false
        }
      },
      "outputs": [
        {
          "data": {
            "text/plain": [
              "Timestamp('2016-12-24 00:00:00')"
            ]
          },
          "execution_count": 8,
          "metadata": {},
          "output_type": "execute_result"
        }
      ],
      "source": [
        "ts + pd.Timedelta('5 days')"
      ]
    },
    {
      "cell_type": "markdown",
      "metadata": {
        "id": "Fq93gxBVPqxL"
      },
      "source": [
        "### Parsing datetime strings"
      ]
    },
    {
      "cell_type": "markdown",
      "metadata": {
        "id": "6RXmqLp8PqxL"
      },
      "source": [
        "![](http://imgs.xkcd.com/comics/iso_8601.png)\n"
      ]
    },
    {
      "cell_type": "markdown",
      "metadata": {
        "id": "PdtpExAzPqxL"
      },
      "source": [
        "Unfortunately, when working with real world data, you encounter many different `datetime` formats. Most of the time when you have to deal with them, they come in text format, e.g. from a `CSV` file. To work with those data in Pandas, we first have to *parse* the strings to actual `Timestamp` objects."
      ]
    },
    {
      "cell_type": "markdown",
      "metadata": {
        "id": "mmLUgEGEPqxL"
      },
      "source": [
        "<div class=\"alert alert-info\">\n",
        "<b>REMEMBER</b>: <br><br>\n",
        "\n",
        "from string formatted dates to Timestamp objects: `to_datetime` function\n",
        "</div>\n",
        "\n"
      ]
    },
    {
      "cell_type": "code",
      "execution_count": null,
      "metadata": {
        "colab": {
          "base_uri": "https://localhost:8080/"
        },
        "collapsed": true,
        "id": "XXhqpSe3PqxM",
        "outputId": "0c4d4302-f3b4-432f-9238-e8cc251801ec",
        "run_control": {
          "frozen": false,
          "read_only": false
        }
      },
      "outputs": [
        {
          "data": {
            "text/plain": [
              "Timestamp('2016-12-09 00:00:00')"
            ]
          },
          "execution_count": 9,
          "metadata": {},
          "output_type": "execute_result"
        }
      ],
      "source": [
        "pd.to_datetime(\"2016-12-09\")"
      ]
    },
    {
      "cell_type": "code",
      "execution_count": null,
      "metadata": {
        "colab": {
          "base_uri": "https://localhost:8080/"
        },
        "collapsed": true,
        "id": "pNfU7qI7PqxM",
        "outputId": "d51d748d-7e6f-448f-931e-e55dce1475ae",
        "run_control": {
          "frozen": false,
          "read_only": false
        }
      },
      "outputs": [
        {
          "data": {
            "text/plain": [
              "Timestamp('2016-09-12 00:00:00')"
            ]
          },
          "execution_count": 10,
          "metadata": {},
          "output_type": "execute_result"
        }
      ],
      "source": [
        "pd.to_datetime(\"09/12/2016\")"
      ]
    },
    {
      "cell_type": "code",
      "execution_count": null,
      "metadata": {
        "colab": {
          "base_uri": "https://localhost:8080/"
        },
        "collapsed": true,
        "id": "lkt5o_-XPqxM",
        "outputId": "7adc9e29-ede8-4f7d-d9bc-b8db428aed43",
        "run_control": {
          "frozen": false,
          "read_only": false
        }
      },
      "outputs": [
        {
          "data": {
            "text/plain": [
              "Timestamp('2016-12-09 00:00:00')"
            ]
          },
          "execution_count": 11,
          "metadata": {},
          "output_type": "execute_result"
        }
      ],
      "source": [
        "pd.to_datetime(\"09/12/2016\", dayfirst=True)"
      ]
    },
    {
      "cell_type": "code",
      "execution_count": null,
      "metadata": {
        "colab": {
          "base_uri": "https://localhost:8080/"
        },
        "collapsed": true,
        "id": "Eir7szmZPqxM",
        "outputId": "3d68a9f7-0ef8-4d16-9070-15b740420534",
        "run_control": {
          "frozen": false,
          "read_only": false
        }
      },
      "outputs": [
        {
          "data": {
            "text/plain": [
              "Timestamp('2016-12-09 00:00:00')"
            ]
          },
          "execution_count": 12,
          "metadata": {},
          "output_type": "execute_result"
        }
      ],
      "source": [
        "pd.to_datetime(\"09/12/2016\", format=\"%d/%m/%Y\")"
      ]
    },
    {
      "cell_type": "markdown",
      "metadata": {
        "collapsed": true,
        "id": "Uy0Q29tzPqxM"
      },
      "source": [
        "A detailed overview of how to specify the `format` string, see the table in the python documentation: https://docs.python.org/3.5/library/datetime.html#strftime-and-strptime-behavior"
      ]
    },
    {
      "cell_type": "markdown",
      "metadata": {
        "id": "5UImk5bqPqxM"
      },
      "source": [
        "## `Timestamp` data in a Series or DataFrame column"
      ]
    },
    {
      "cell_type": "code",
      "execution_count": null,
      "metadata": {
        "collapsed": true,
        "id": "1dW9aQ-6PqxM",
        "run_control": {
          "frozen": false,
          "read_only": false
        }
      },
      "outputs": [],
      "source": [
        "s = pd.Series(['2016-12-09 10:00:00', '2016-12-09, 11:00:00', '2016-12-09 12:00:00'])"
      ]
    },
    {
      "cell_type": "markdown",
      "metadata": {
        "id": "l0sPhY9HPqxN"
      },
      "source": [
        "The `to_datetime` function can also be used to convert a full series of strings:"
      ]
    },
    {
      "cell_type": "code",
      "execution_count": null,
      "metadata": {
        "collapsed": true,
        "id": "relV2NyxPqxN",
        "run_control": {
          "frozen": false,
          "read_only": false
        }
      },
      "outputs": [],
      "source": [
        "ts = pd.to_datetime(s)"
      ]
    },
    {
      "cell_type": "code",
      "execution_count": null,
      "metadata": {
        "colab": {
          "base_uri": "https://localhost:8080/"
        },
        "collapsed": true,
        "id": "GJxqirv0PqxN",
        "outputId": "cb49ddfb-a770-41e6-ebd2-a69076752530",
        "run_control": {
          "frozen": false,
          "read_only": false
        }
      },
      "outputs": [
        {
          "data": {
            "text/plain": [
              "0   2016-12-09 10:00:00\n",
              "1   2016-12-09 11:00:00\n",
              "2   2016-12-09 12:00:00\n",
              "dtype: datetime64[ns]"
            ]
          },
          "execution_count": 15,
          "metadata": {},
          "output_type": "execute_result"
        }
      ],
      "source": [
        "ts"
      ]
    },
    {
      "cell_type": "markdown",
      "metadata": {
        "id": "YkGu1GJUPqxN"
      },
      "source": [
        "Notice the data type of this series: the `datetime64[ns]` dtype. This indicates that we have a series of actual datetime values."
      ]
    },
    {
      "cell_type": "markdown",
      "metadata": {
        "id": "eTVAfiTFPqxN"
      },
      "source": [
        "The same attributes as on single `Timestamp`s are also available on a Series with datetime data, using the **`.dt`** accessor:"
      ]
    },
    {
      "cell_type": "code",
      "execution_count": null,
      "metadata": {
        "colab": {
          "base_uri": "https://localhost:8080/"
        },
        "collapsed": true,
        "id": "ldkr6596PqxN",
        "outputId": "f1baed60-a72e-4fe5-a9fc-e53c57521b5b",
        "run_control": {
          "frozen": false,
          "read_only": false
        },
        "scrolled": true
      },
      "outputs": [
        {
          "data": {
            "text/plain": [
              "0    10\n",
              "1    11\n",
              "2    12\n",
              "dtype: int64"
            ]
          },
          "execution_count": 16,
          "metadata": {},
          "output_type": "execute_result"
        }
      ],
      "source": [
        "ts.dt.hour"
      ]
    },
    {
      "cell_type": "code",
      "execution_count": null,
      "metadata": {
        "colab": {
          "base_uri": "https://localhost:8080/"
        },
        "collapsed": true,
        "id": "xl0nJ-nlPqxN",
        "outputId": "6d43ff4f-903c-4de6-c84e-2e497cffc19e",
        "run_control": {
          "frozen": false,
          "read_only": false
        }
      },
      "outputs": [
        {
          "data": {
            "text/plain": [
              "0    4\n",
              "1    4\n",
              "2    4\n",
              "dtype: int64"
            ]
          },
          "execution_count": 17,
          "metadata": {},
          "output_type": "execute_result"
        }
      ],
      "source": [
        "ts.dt.weekday"
      ]
    },
    {
      "cell_type": "markdown",
      "metadata": {
        "id": "bY2lvtDzPqxO"
      },
      "source": [
        "To quickly construct some regular time series data, the [``pd.date_range``](http://pandas.pydata.org/pandas-docs/stable/generated/pandas.date_range.html) function comes in handy:"
      ]
    },
    {
      "cell_type": "code",
      "execution_count": null,
      "metadata": {
        "colab": {
          "base_uri": "https://localhost:8080/"
        },
        "collapsed": true,
        "id": "MVrZSNURPqxO",
        "outputId": "990ce6ce-62c4-4346-d12d-59a5cd89300b",
        "run_control": {
          "frozen": false,
          "read_only": false
        }
      },
      "outputs": [
        {
          "data": {
            "text/plain": [
              "0   2016-01-01 00:00:00\n",
              "1   2016-01-01 03:00:00\n",
              "2   2016-01-01 06:00:00\n",
              "3   2016-01-01 09:00:00\n",
              "            ...        \n",
              "6   2016-01-01 18:00:00\n",
              "7   2016-01-01 21:00:00\n",
              "8   2016-01-02 00:00:00\n",
              "9   2016-01-02 03:00:00\n",
              "Length: 10, dtype: datetime64[ns]"
            ]
          },
          "execution_count": 18,
          "metadata": {},
          "output_type": "execute_result"
        }
      ],
      "source": [
        "pd.Series(pd.date_range(start=\"2016-01-01\", periods=10, freq='3H'))"
      ]
    },
    {
      "cell_type": "markdown",
      "metadata": {
        "id": "Z8VrxCgpPqxO"
      },
      "source": [
        "# Time series data: `Timestamp` in the index"
      ]
    },
    {
      "cell_type": "markdown",
      "metadata": {
        "id": "UTONwLpMPqxO"
      },
      "source": [
        "## River discharge example data"
      ]
    },
    {
      "cell_type": "markdown",
      "metadata": {
        "id": "dvmTuCJBPqxO"
      },
      "source": [
        "For the following demonstration of the time series functionality, we use a sample of discharge data of the Maarkebeek (Flanders) with 3 hour averaged values, derived from the [Waterinfo website](https://www.waterinfo.be/)."
      ]
    },
    {
      "cell_type": "code",
      "execution_count": 3,
      "metadata": {
        "colab": {
          "base_uri": "https://localhost:8080/",
          "height": 309
        },
        "collapsed": true,
        "id": "_9MPirf3PqxO",
        "outputId": "87316dbf-b6c8-432b-f640-4fa7c5012c7c",
        "run_control": {
          "frozen": false,
          "read_only": false
        }
      },
      "outputs": [],
      "source": [
        "data = pd.read_csv(\"flowdata.csv\")"
      ]
    },
    {
      "cell_type": "code",
      "execution_count": 4,
      "metadata": {
        "collapsed": true,
        "id": "GT0KQxWZPqxO",
        "run_control": {
          "frozen": false,
          "read_only": false
        }
      },
      "outputs": [
        {
          "data": {
            "text/html": [
              "<div>\n",
              "<style scoped>\n",
              "    .dataframe tbody tr th:only-of-type {\n",
              "        vertical-align: middle;\n",
              "    }\n",
              "\n",
              "    .dataframe tbody tr th {\n",
              "        vertical-align: top;\n",
              "    }\n",
              "\n",
              "    .dataframe thead th {\n",
              "        text-align: right;\n",
              "    }\n",
              "</style>\n",
              "<table border=\"1\" class=\"dataframe\">\n",
              "  <thead>\n",
              "    <tr style=\"text-align: right;\">\n",
              "      <th></th>\n",
              "      <th>Time</th>\n",
              "      <th>L06_347</th>\n",
              "      <th>LS06_347</th>\n",
              "      <th>LS06_348</th>\n",
              "    </tr>\n",
              "  </thead>\n",
              "  <tbody>\n",
              "    <tr>\n",
              "      <th>0</th>\n",
              "      <td>2009-01-01 00:00:00</td>\n",
              "      <td>0.137417</td>\n",
              "      <td>0.097500</td>\n",
              "      <td>0.016833</td>\n",
              "    </tr>\n",
              "    <tr>\n",
              "      <th>1</th>\n",
              "      <td>2009-01-01 03:00:00</td>\n",
              "      <td>0.131250</td>\n",
              "      <td>0.088833</td>\n",
              "      <td>0.016417</td>\n",
              "    </tr>\n",
              "    <tr>\n",
              "      <th>2</th>\n",
              "      <td>2009-01-01 06:00:00</td>\n",
              "      <td>0.113500</td>\n",
              "      <td>0.091250</td>\n",
              "      <td>0.016750</td>\n",
              "    </tr>\n",
              "    <tr>\n",
              "      <th>3</th>\n",
              "      <td>2009-01-01 09:00:00</td>\n",
              "      <td>0.135750</td>\n",
              "      <td>0.091500</td>\n",
              "      <td>0.016250</td>\n",
              "    </tr>\n",
              "    <tr>\n",
              "      <th>4</th>\n",
              "      <td>2009-01-01 12:00:00</td>\n",
              "      <td>0.140917</td>\n",
              "      <td>0.096167</td>\n",
              "      <td>0.017000</td>\n",
              "    </tr>\n",
              "  </tbody>\n",
              "</table>\n",
              "</div>"
            ],
            "text/plain": [
              "                  Time   L06_347  LS06_347  LS06_348\n",
              "0  2009-01-01 00:00:00  0.137417  0.097500  0.016833\n",
              "1  2009-01-01 03:00:00  0.131250  0.088833  0.016417\n",
              "2  2009-01-01 06:00:00  0.113500  0.091250  0.016750\n",
              "3  2009-01-01 09:00:00  0.135750  0.091500  0.016250\n",
              "4  2009-01-01 12:00:00  0.140917  0.096167  0.017000"
            ]
          },
          "execution_count": 4,
          "metadata": {},
          "output_type": "execute_result"
        }
      ],
      "source": [
        "data.head()"
      ]
    },
    {
      "cell_type": "markdown",
      "metadata": {
        "id": "ZYlCbPn4PqxP"
      },
      "source": [
        "We already know how to parse a date column with Pandas:"
      ]
    },
    {
      "cell_type": "code",
      "execution_count": 5,
      "metadata": {
        "collapsed": true,
        "id": "ZbrU5KHNPqxP",
        "run_control": {
          "frozen": false,
          "read_only": false
        }
      },
      "outputs": [],
      "source": [
        "data['Time'] = pd.to_datetime(data['Time'])"
      ]
    },
    {
      "cell_type": "markdown",
      "metadata": {
        "id": "OJiHPYITPqxP"
      },
      "source": [
        "With `set_index('datetime')`, we set the column with datetime values as the index, which can be done by both `Series` and `DataFrame`."
      ]
    },
    {
      "cell_type": "code",
      "execution_count": 6,
      "metadata": {
        "collapsed": true,
        "id": "MSQqnxdBPqxP",
        "run_control": {
          "frozen": false,
          "read_only": false
        }
      },
      "outputs": [],
      "source": [
        "data = data.set_index(\"Time\")"
      ]
    },
    {
      "cell_type": "code",
      "execution_count": 7,
      "metadata": {
        "collapsed": true,
        "id": "6GrjzBo1PqxP",
        "run_control": {
          "frozen": false,
          "read_only": false
        }
      },
      "outputs": [
        {
          "data": {
            "text/html": [
              "<div>\n",
              "<style scoped>\n",
              "    .dataframe tbody tr th:only-of-type {\n",
              "        vertical-align: middle;\n",
              "    }\n",
              "\n",
              "    .dataframe tbody tr th {\n",
              "        vertical-align: top;\n",
              "    }\n",
              "\n",
              "    .dataframe thead th {\n",
              "        text-align: right;\n",
              "    }\n",
              "</style>\n",
              "<table border=\"1\" class=\"dataframe\">\n",
              "  <thead>\n",
              "    <tr style=\"text-align: right;\">\n",
              "      <th></th>\n",
              "      <th>L06_347</th>\n",
              "      <th>LS06_347</th>\n",
              "      <th>LS06_348</th>\n",
              "    </tr>\n",
              "    <tr>\n",
              "      <th>Time</th>\n",
              "      <th></th>\n",
              "      <th></th>\n",
              "      <th></th>\n",
              "    </tr>\n",
              "  </thead>\n",
              "  <tbody>\n",
              "    <tr>\n",
              "      <th>2009-01-01 00:00:00</th>\n",
              "      <td>0.137417</td>\n",
              "      <td>0.097500</td>\n",
              "      <td>0.016833</td>\n",
              "    </tr>\n",
              "    <tr>\n",
              "      <th>2009-01-01 03:00:00</th>\n",
              "      <td>0.131250</td>\n",
              "      <td>0.088833</td>\n",
              "      <td>0.016417</td>\n",
              "    </tr>\n",
              "    <tr>\n",
              "      <th>2009-01-01 06:00:00</th>\n",
              "      <td>0.113500</td>\n",
              "      <td>0.091250</td>\n",
              "      <td>0.016750</td>\n",
              "    </tr>\n",
              "    <tr>\n",
              "      <th>2009-01-01 09:00:00</th>\n",
              "      <td>0.135750</td>\n",
              "      <td>0.091500</td>\n",
              "      <td>0.016250</td>\n",
              "    </tr>\n",
              "    <tr>\n",
              "      <th>...</th>\n",
              "      <td>...</td>\n",
              "      <td>...</td>\n",
              "      <td>...</td>\n",
              "    </tr>\n",
              "    <tr>\n",
              "      <th>2013-01-01 15:00:00</th>\n",
              "      <td>1.420000</td>\n",
              "      <td>1.420000</td>\n",
              "      <td>0.096333</td>\n",
              "    </tr>\n",
              "    <tr>\n",
              "      <th>2013-01-01 18:00:00</th>\n",
              "      <td>1.178583</td>\n",
              "      <td>1.178583</td>\n",
              "      <td>0.083083</td>\n",
              "    </tr>\n",
              "    <tr>\n",
              "      <th>2013-01-01 21:00:00</th>\n",
              "      <td>0.898250</td>\n",
              "      <td>0.898250</td>\n",
              "      <td>0.077167</td>\n",
              "    </tr>\n",
              "    <tr>\n",
              "      <th>2013-01-02 00:00:00</th>\n",
              "      <td>0.860000</td>\n",
              "      <td>0.860000</td>\n",
              "      <td>0.075000</td>\n",
              "    </tr>\n",
              "  </tbody>\n",
              "</table>\n",
              "<p>11697 rows × 3 columns</p>\n",
              "</div>"
            ],
            "text/plain": [
              "                      L06_347  LS06_347  LS06_348\n",
              "Time                                             \n",
              "2009-01-01 00:00:00  0.137417  0.097500  0.016833\n",
              "2009-01-01 03:00:00  0.131250  0.088833  0.016417\n",
              "2009-01-01 06:00:00  0.113500  0.091250  0.016750\n",
              "2009-01-01 09:00:00  0.135750  0.091500  0.016250\n",
              "...                       ...       ...       ...\n",
              "2013-01-01 15:00:00  1.420000  1.420000  0.096333\n",
              "2013-01-01 18:00:00  1.178583  1.178583  0.083083\n",
              "2013-01-01 21:00:00  0.898250  0.898250  0.077167\n",
              "2013-01-02 00:00:00  0.860000  0.860000  0.075000\n",
              "\n",
              "[11697 rows x 3 columns]"
            ]
          },
          "execution_count": 7,
          "metadata": {},
          "output_type": "execute_result"
        }
      ],
      "source": [
        "data"
      ]
    },
    {
      "cell_type": "markdown",
      "metadata": {
        "id": "RX6rGl6_PqxP"
      },
      "source": [
        "The steps above are provided as built-in functionality of `read_csv`:"
      ]
    },
    {
      "cell_type": "code",
      "execution_count": null,
      "metadata": {
        "collapsed": true,
        "id": "LZu9En8-PqxQ",
        "run_control": {
          "frozen": false,
          "read_only": false
        }
      },
      "outputs": [],
      "source": [
        "data = pd.read_csv(\"data/flowdata.csv\", index_col=0, parse_dates=True)"
      ]
    },
    {
      "cell_type": "markdown",
      "metadata": {
        "id": "Ls9h7mw7PqxQ"
      },
      "source": [
        "<div class=\"alert alert-info\">\n",
        "<b>REMEMBER</b>: <br><br>\n",
        "\n",
        "`pd.read_csv` provides a lot of built-in functionality to support this kind of transactions when reading in a file! Check the help of the read_csv function...\n",
        "</div>"
      ]
    },
    {
      "cell_type": "markdown",
      "metadata": {
        "id": "UGy1Y3PZPqxQ"
      },
      "source": [
        "## The DatetimeIndex"
      ]
    },
    {
      "cell_type": "markdown",
      "metadata": {
        "id": "GILsP2miPqxQ"
      },
      "source": [
        "When we ensure the DataFrame has a `DatetimeIndex`, time-series related functionality becomes available:"
      ]
    },
    {
      "cell_type": "code",
      "execution_count": null,
      "metadata": {
        "collapsed": true,
        "id": "vXQtW1nUPqxQ",
        "run_control": {
          "frozen": false,
          "read_only": false
        },
        "scrolled": true
      },
      "outputs": [],
      "source": [
        "data.index"
      ]
    },
    {
      "cell_type": "markdown",
      "metadata": {
        "id": "v1NxuNylPqxQ"
      },
      "source": [
        "Similar to a Series with datetime data, there are some attributes of the timestamp values available:"
      ]
    },
    {
      "cell_type": "code",
      "execution_count": null,
      "metadata": {
        "collapsed": true,
        "id": "1nq0jNAmPqxQ",
        "run_control": {
          "frozen": false,
          "read_only": false
        }
      },
      "outputs": [],
      "source": [
        "data.index.day"
      ]
    },
    {
      "cell_type": "code",
      "execution_count": null,
      "metadata": {
        "collapsed": true,
        "id": "_UjfY5TfPqxQ",
        "run_control": {
          "frozen": false,
          "read_only": false
        }
      },
      "outputs": [],
      "source": [
        "data.index.dayofyear"
      ]
    },
    {
      "cell_type": "code",
      "execution_count": 9,
      "metadata": {
        "collapsed": true,
        "id": "Su8B1oIMPqxQ",
        "run_control": {
          "frozen": false,
          "read_only": false
        }
      },
      "outputs": [
        {
          "data": {
            "text/plain": [
              "Index([2009, 2009, 2009, 2009, 2009, 2009, 2009, 2009, 2009, 2009,\n",
              "       ...\n",
              "       2012, 2013, 2013, 2013, 2013, 2013, 2013, 2013, 2013, 2013],\n",
              "      dtype='int32', name='Time', length=11697)"
            ]
          },
          "execution_count": 9,
          "metadata": {},
          "output_type": "execute_result"
        }
      ],
      "source": [
        "data.index.year"
      ]
    },
    {
      "cell_type": "markdown",
      "metadata": {
        "id": "ME6cRR3xPqxR"
      },
      "source": [
        "The `plot` method will also adapt it's labels (when you zoom in, you can see the different levels of detail of the datetime labels):\n"
      ]
    },
    {
      "cell_type": "code",
      "execution_count": null,
      "metadata": {
        "collapsed": true,
        "id": "Pmt_9ap0PqxR",
        "run_control": {
          "frozen": false,
          "read_only": false
        }
      },
      "outputs": [],
      "source": [
        "data.plot()"
      ]
    },
    {
      "cell_type": "markdown",
      "metadata": {
        "id": "B-lGz_lhPqxR"
      },
      "source": [
        "We have to much data to sensibly plot on one figure. Let's see how we can easily select part of the data or aggregate the data to other time resolutions in the next sections."
      ]
    },
    {
      "cell_type": "markdown",
      "metadata": {
        "id": "TvfmBX3YPqxR"
      },
      "source": [
        "## Selecting data from a time series"
      ]
    },
    {
      "cell_type": "markdown",
      "metadata": {
        "id": "g2oBNeSQPqxR"
      },
      "source": [
        "We can use label based indexing on a timeseries as expected:"
      ]
    },
    {
      "cell_type": "code",
      "execution_count": null,
      "metadata": {
        "collapsed": true,
        "id": "EkqfHzclPqxR",
        "run_control": {
          "frozen": false,
          "read_only": false
        }
      },
      "outputs": [],
      "source": [
        "data[pd.Timestamp(\"2012-01-01 09:00\"):pd.Timestamp(\"2012-01-01 19:00\")]"
      ]
    },
    {
      "cell_type": "markdown",
      "metadata": {
        "id": "qH_DaomlPqxS"
      },
      "source": [
        "But, for convenience, indexing a time series also works with strings:"
      ]
    },
    {
      "cell_type": "code",
      "execution_count": null,
      "metadata": {
        "collapsed": true,
        "id": "fWB9H1qpPqxS",
        "run_control": {
          "frozen": false,
          "read_only": false
        }
      },
      "outputs": [],
      "source": [
        "data[\"2012-01-01 09:00\":\"2012-01-01 19:00\"]"
      ]
    },
    {
      "cell_type": "markdown",
      "metadata": {
        "id": "2EZUxQChPqxS"
      },
      "source": [
        "A nice feature is **\"partial string\" indexing**, where we can do implicit slicing by providing a partial datetime string.\n",
        "\n",
        "E.g. all data of 2013:"
      ]
    },
    {
      "cell_type": "code",
      "execution_count": null,
      "metadata": {
        "collapsed": true,
        "id": "9PLB0scvPqxS",
        "run_control": {
          "frozen": false,
          "read_only": false
        },
        "scrolled": true
      },
      "outputs": [],
      "source": [
        "data['2013']"
      ]
    },
    {
      "cell_type": "markdown",
      "metadata": {
        "id": "2G51KCvKPqxS"
      },
      "source": [
        "Normally you would expect this to access a column named '2013', but as for a DatetimeIndex, pandas also tries to interprete it as a datetime slice."
      ]
    },
    {
      "cell_type": "markdown",
      "metadata": {
        "id": "rsVqMgKoPqxS"
      },
      "source": [
        "Or all data of January up to March 2012:"
      ]
    },
    {
      "cell_type": "code",
      "execution_count": null,
      "metadata": {
        "collapsed": true,
        "id": "1nX4PV5UPqxS",
        "run_control": {
          "frozen": false,
          "read_only": false
        }
      },
      "outputs": [],
      "source": [
        "data['2012-01':'2012-03']"
      ]
    },
    {
      "cell_type": "markdown",
      "metadata": {
        "id": "xUkrlLPpPqxS"
      },
      "source": [
        "<div class=\"alert alert-success\">\n",
        "\n",
        "<b>EXERCISE</b>:\n",
        "\n",
        " <ul>\n",
        "  <li>select all data starting from 2012</li>\n",
        "</ul>\n",
        "</div>"
      ]
    },
    {
      "cell_type": "code",
      "execution_count": 10,
      "metadata": {
        "clear_cell": true,
        "collapsed": true,
        "id": "PbQu-mrZPqxS",
        "run_control": {
          "frozen": false,
          "read_only": false
        }
      },
      "outputs": [
        {
          "data": {
            "text/html": [
              "<div>\n",
              "<style scoped>\n",
              "    .dataframe tbody tr th:only-of-type {\n",
              "        vertical-align: middle;\n",
              "    }\n",
              "\n",
              "    .dataframe tbody tr th {\n",
              "        vertical-align: top;\n",
              "    }\n",
              "\n",
              "    .dataframe thead th {\n",
              "        text-align: right;\n",
              "    }\n",
              "</style>\n",
              "<table border=\"1\" class=\"dataframe\">\n",
              "  <thead>\n",
              "    <tr style=\"text-align: right;\">\n",
              "      <th></th>\n",
              "      <th>L06_347</th>\n",
              "      <th>LS06_347</th>\n",
              "      <th>LS06_348</th>\n",
              "    </tr>\n",
              "    <tr>\n",
              "      <th>Time</th>\n",
              "      <th></th>\n",
              "      <th></th>\n",
              "      <th></th>\n",
              "    </tr>\n",
              "  </thead>\n",
              "  <tbody>\n",
              "    <tr>\n",
              "      <th>2012-01-01 00:00:00</th>\n",
              "      <td>0.307167</td>\n",
              "      <td>0.273917</td>\n",
              "      <td>0.028000</td>\n",
              "    </tr>\n",
              "    <tr>\n",
              "      <th>2012-01-01 03:00:00</th>\n",
              "      <td>0.302917</td>\n",
              "      <td>0.270833</td>\n",
              "      <td>0.030583</td>\n",
              "    </tr>\n",
              "    <tr>\n",
              "      <th>2012-01-01 06:00:00</th>\n",
              "      <td>0.331500</td>\n",
              "      <td>0.284750</td>\n",
              "      <td>0.030917</td>\n",
              "    </tr>\n",
              "    <tr>\n",
              "      <th>2012-01-01 09:00:00</th>\n",
              "      <td>0.330750</td>\n",
              "      <td>0.293583</td>\n",
              "      <td>0.029750</td>\n",
              "    </tr>\n",
              "    <tr>\n",
              "      <th>...</th>\n",
              "      <td>...</td>\n",
              "      <td>...</td>\n",
              "      <td>...</td>\n",
              "    </tr>\n",
              "    <tr>\n",
              "      <th>2013-01-01 15:00:00</th>\n",
              "      <td>1.420000</td>\n",
              "      <td>1.420000</td>\n",
              "      <td>0.096333</td>\n",
              "    </tr>\n",
              "    <tr>\n",
              "      <th>2013-01-01 18:00:00</th>\n",
              "      <td>1.178583</td>\n",
              "      <td>1.178583</td>\n",
              "      <td>0.083083</td>\n",
              "    </tr>\n",
              "    <tr>\n",
              "      <th>2013-01-01 21:00:00</th>\n",
              "      <td>0.898250</td>\n",
              "      <td>0.898250</td>\n",
              "      <td>0.077167</td>\n",
              "    </tr>\n",
              "    <tr>\n",
              "      <th>2013-01-02 00:00:00</th>\n",
              "      <td>0.860000</td>\n",
              "      <td>0.860000</td>\n",
              "      <td>0.075000</td>\n",
              "    </tr>\n",
              "  </tbody>\n",
              "</table>\n",
              "<p>2937 rows × 3 columns</p>\n",
              "</div>"
            ],
            "text/plain": [
              "                      L06_347  LS06_347  LS06_348\n",
              "Time                                             \n",
              "2012-01-01 00:00:00  0.307167  0.273917  0.028000\n",
              "2012-01-01 03:00:00  0.302917  0.270833  0.030583\n",
              "2012-01-01 06:00:00  0.331500  0.284750  0.030917\n",
              "2012-01-01 09:00:00  0.330750  0.293583  0.029750\n",
              "...                       ...       ...       ...\n",
              "2013-01-01 15:00:00  1.420000  1.420000  0.096333\n",
              "2013-01-01 18:00:00  1.178583  1.178583  0.083083\n",
              "2013-01-01 21:00:00  0.898250  0.898250  0.077167\n",
              "2013-01-02 00:00:00  0.860000  0.860000  0.075000\n",
              "\n",
              "[2937 rows x 3 columns]"
            ]
          },
          "execution_count": 10,
          "metadata": {},
          "output_type": "execute_result"
        }
      ],
      "source": [
        "data[data.index.year >= 2012]"
      ]
    },
    {
      "cell_type": "markdown",
      "metadata": {
        "id": "XPOKNTg6PqxT"
      },
      "source": [
        "<div class=\"alert alert-success\">\n",
        "\n",
        "<b>EXERCISE</b>:\n",
        "\n",
        " <ul>\n",
        "  <li>select all data in January for all different years</li>\n",
        "</ul>\n",
        "</div>"
      ]
    },
    {
      "cell_type": "code",
      "execution_count": null,
      "metadata": {
        "clear_cell": true,
        "collapsed": true,
        "id": "6fJWG9xXPqxT",
        "run_control": {
          "frozen": false,
          "read_only": false
        }
      },
      "outputs": [],
      "source": [
        "# %load snippets/05 - Time series data37.py"
      ]
    },
    {
      "cell_type": "markdown",
      "metadata": {
        "id": "UOYj43dLPqxT"
      },
      "source": [
        "<div class=\"alert alert-success\">\n",
        "\n",
        "<b>EXERCISE</b>:\n",
        "\n",
        " <ul>\n",
        "  <li>select all data in January, February and March for all different years</li>\n",
        "</ul>\n",
        "</div>"
      ]
    },
    {
      "cell_type": "code",
      "execution_count": null,
      "metadata": {
        "clear_cell": true,
        "collapsed": true,
        "id": "5to2wueLPqxT",
        "run_control": {
          "frozen": false,
          "read_only": false
        }
      },
      "outputs": [],
      "source": [
        "# %load snippets/05 - Time series data38.py"
      ]
    },
    {
      "cell_type": "code",
      "execution_count": null,
      "metadata": {
        "collapsed": true,
        "id": "JtJtvUbePqxT",
        "run_control": {
          "frozen": false,
          "read_only": false
        }
      },
      "outputs": [],
      "source": [
        "data = data.drop(\"months\", axis=1)"
      ]
    },
    {
      "cell_type": "markdown",
      "metadata": {
        "id": "V1c894QgPqxT"
      },
      "source": [
        "<div class=\"alert alert-success\">\n",
        "\n",
        "<b>EXERCISE</b>:\n",
        "\n",
        " <ul>\n",
        "  <li>select all 'daytime' data (between 8h and 20h) for all days</li>\n",
        "</ul>\n",
        "</div>"
      ]
    },
    {
      "cell_type": "code",
      "execution_count": null,
      "metadata": {
        "clear_cell": true,
        "collapsed": true,
        "id": "4k9pPxWSPqxT",
        "run_control": {
          "frozen": false,
          "read_only": false
        }
      },
      "outputs": [],
      "source": [
        "# %load snippets/05 - Time series data40.py"
      ]
    },
    {
      "cell_type": "code",
      "execution_count": null,
      "metadata": {
        "clear_cell": true,
        "collapsed": true,
        "id": "-8wiCBWYPqxU",
        "run_control": {
          "frozen": false,
          "read_only": false
        }
      },
      "outputs": [],
      "source": [
        "# %load snippets/05 - Time series data41.py"
      ]
    },
    {
      "cell_type": "markdown",
      "metadata": {
        "id": "yUYXyp_iPqxU"
      },
      "source": [
        "## The power of pandas: `resample`"
      ]
    },
    {
      "cell_type": "markdown",
      "metadata": {
        "id": "C0ni8ySKPqxU"
      },
      "source": [
        "A very powerfull method is **`resample`: converting the frequency of the time series** (e.g. from hourly to daily data).\n",
        "\n",
        "The time series has a frequency of 1 hour. I want to change this to daily:"
      ]
    },
    {
      "cell_type": "code",
      "execution_count": null,
      "metadata": {
        "collapsed": true,
        "id": "nEbldR5-PqxU",
        "run_control": {
          "frozen": false,
          "read_only": false
        }
      },
      "outputs": [],
      "source": [
        "data.resample('D').mean().head()"
      ]
    },
    {
      "cell_type": "markdown",
      "metadata": {
        "id": "V8dOlnJEPqxU"
      },
      "source": [
        "<div class=\"alert alert-danger\">\n",
        "\n",
        "<b>NOTE</b>:\n",
        "\n",
        " <ul>\n",
        "  <li>with older versions of pandas, <code>data.resample('D').mean()</code> was expressed as <code>data.resample('D', how='mean')</code>.</li>\n",
        "</ul>\n",
        "</div>"
      ]
    },
    {
      "cell_type": "markdown",
      "metadata": {
        "id": "cCuX3sVePqxU"
      },
      "source": [
        "Other mathematical methods can also be specified:"
      ]
    },
    {
      "cell_type": "code",
      "execution_count": null,
      "metadata": {
        "collapsed": true,
        "id": "ExWjFbJxPqxU",
        "run_control": {
          "frozen": false,
          "read_only": false
        }
      },
      "outputs": [],
      "source": [
        "data.resample('D').max().head()"
      ]
    },
    {
      "cell_type": "markdown",
      "metadata": {
        "id": "IyBSAF-nPqxU"
      },
      "source": [
        "<div class=\"alert alert-info\">\n",
        "<b>REMEMBER</b>: <br><br>\n",
        "\n",
        "    The string to specify the new time frequency: http://pandas.pydata.org/pandas-docs/stable/timeseries.html#offset-aliases <br><br>\n",
        "            \n",
        "    These strings can also be combined with numbers, eg `'10D'`...\n",
        "\n",
        "</div>\n",
        "\n"
      ]
    },
    {
      "cell_type": "code",
      "execution_count": null,
      "metadata": {
        "collapsed": true,
        "id": "cY8NJ7M4PqxV",
        "run_control": {
          "frozen": false,
          "read_only": false
        }
      },
      "outputs": [],
      "source": [
        "data.resample('A').mean().plot() # 10D"
      ]
    },
    {
      "cell_type": "markdown",
      "metadata": {
        "id": "RF3WIYOcPqxV"
      },
      "source": [
        "<div class=\"alert alert-success\">\n",
        "\n",
        "<b>EXERCISE</b>:\n",
        "\n",
        " <ul>\n",
        "  <li>plot the monthly standard deviation of the columns</li>\n",
        "</ul>\n",
        "</div>"
      ]
    },
    {
      "cell_type": "code",
      "execution_count": null,
      "metadata": {
        "clear_cell": true,
        "collapsed": true,
        "id": "HstUiSZ8PqxV",
        "run_control": {
          "frozen": false,
          "read_only": false
        }
      },
      "outputs": [],
      "source": [
        "# %load snippets/05 - Time series data45.py"
      ]
    },
    {
      "cell_type": "markdown",
      "metadata": {
        "id": "nkU34winPqxV"
      },
      "source": [
        "<div class=\"alert alert-success\">\n",
        "\n",
        "<b>EXERCISE</b>:\n",
        "\n",
        " <ul>\n",
        "  <li>plot the monthly mean and median values for the years 2011-2012 for 'L06_347'<br><br></li>\n",
        "</ul>\n",
        "    \n",
        "    **Note** <br>You can create a new figure with `fig, ax = plt.subplots()` and add each of the plots to the created `ax` object (see documentation of pandas plot function)\n",
        "</div>"
      ]
    },
    {
      "cell_type": "code",
      "execution_count": null,
      "metadata": {
        "clear_cell": true,
        "collapsed": true,
        "id": "SFLowH3cPqxV",
        "run_control": {
          "frozen": false,
          "read_only": false
        }
      },
      "outputs": [],
      "source": [
        "# %load snippets/05 - Time series data46.py"
      ]
    },
    {
      "cell_type": "code",
      "execution_count": null,
      "metadata": {
        "clear_cell": true,
        "collapsed": true,
        "id": "2FpU4bZYPqxV",
        "run_control": {
          "frozen": false,
          "read_only": false
        }
      },
      "outputs": [],
      "source": [
        "# %load snippets/05 - Time series data47.py"
      ]
    },
    {
      "cell_type": "markdown",
      "metadata": {
        "id": "oOWDx6PnPqxV"
      },
      "source": [
        "<div class=\"alert alert-success\">\n",
        "\n",
        "<b>EXERCISE</b>:\n",
        "\n",
        " <ul>\n",
        "  <li>plot the monthly mininum and maximum daily average value of the 'LS06_348' column</li>\n",
        "</ul>\n",
        "</div>"
      ]
    },
    {
      "cell_type": "code",
      "execution_count": null,
      "metadata": {
        "clear_cell": true,
        "collapsed": true,
        "id": "xSsN5T4EPqxW",
        "run_control": {
          "frozen": false,
          "read_only": false
        }
      },
      "outputs": [],
      "source": [
        "# %load snippets/05 - Time series data48.py"
      ]
    },
    {
      "cell_type": "code",
      "execution_count": null,
      "metadata": {
        "clear_cell": true,
        "collapsed": true,
        "id": "53QFDM8wPqxW",
        "run_control": {
          "frozen": false,
          "read_only": false
        }
      },
      "outputs": [],
      "source": [
        "# %load snippets/05 - Time series data49.py"
      ]
    },
    {
      "cell_type": "markdown",
      "metadata": {
        "id": "WqPWrhXYPqxW"
      },
      "source": [
        "<div class=\"alert alert-success\">\n",
        "<b>EXERCISE</b>:\n",
        "\n",
        " <ul>\n",
        "  <li>make a bar plot of the mean of the stations in year of 2013 (Remark: create a `fig, ax = plt.subplots()` object and add the plot to the created ax</li>\n",
        "</ul>\n",
        "\n",
        "</div>"
      ]
    },
    {
      "cell_type": "code",
      "execution_count": null,
      "metadata": {
        "clear_cell": true,
        "collapsed": true,
        "id": "S7bcX9l5PqxW",
        "run_control": {
          "frozen": false,
          "read_only": false
        }
      },
      "outputs": [],
      "source": [
        "# %load snippets/05 - Time series data50.py"
      ]
    },
    {
      "cell_type": "code",
      "execution_count": null,
      "metadata": {
        "collapsed": true,
        "id": "WIG2fplsPqxW"
      },
      "outputs": [],
      "source": []
    },
    {
      "cell_type": "markdown",
      "metadata": {
        "id": "2_mffFkVPqxW"
      },
      "source": [
        "<div class=\"alert alert-success\">\n",
        "<b>EXERCISE</b>:\n",
        "\n",
        " <ul>\n",
        "  <li>Calculate the typical yearly pattern with monthly resolution (plot of the typical monthly average over the years)</li>\n",
        "</ul>\n",
        "\n",
        "</div>"
      ]
    },
    {
      "cell_type": "code",
      "execution_count": null,
      "metadata": {
        "collapsed": true,
        "id": "kmSSNQCJPqxW"
      },
      "outputs": [],
      "source": []
    },
    {
      "cell_type": "code",
      "execution_count": null,
      "metadata": {
        "collapsed": true,
        "id": "ZabILFb6PqxW"
      },
      "outputs": [],
      "source": []
    }
  ],
  "metadata": {
    "colab": {
      "provenance": []
    },
    "kernelspec": {
      "display_name": "Python 3",
      "language": "python",
      "name": "python3"
    },
    "language_info": {
      "codemirror_mode": {
        "name": "ipython",
        "version": 3
      },
      "file_extension": ".py",
      "mimetype": "text/x-python",
      "name": "python",
      "nbconvert_exporter": "python",
      "pygments_lexer": "ipython3",
      "version": "3.12.0"
    },
    "nav_menu": {},
    "toc": {
      "navigate_menu": true,
      "number_sections": true,
      "sideBar": true,
      "threshold": 6,
      "toc_cell": false,
      "toc_section_display": "block",
      "toc_window_display": true
    },
    "toc_position": {
      "height": "500px",
      "left": "0px",
      "right": "986px",
      "top": "106px",
      "width": "214px"
    }
  },
  "nbformat": 4,
  "nbformat_minor": 0
}
