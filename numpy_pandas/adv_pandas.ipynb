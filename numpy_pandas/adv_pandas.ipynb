{
 "cells": [
  {
   "cell_type": "markdown",
   "metadata": {},
   "source": [
    "regno, name, 3 course marks"
   ]
  },
  {
   "cell_type": "code",
   "execution_count": 4,
   "metadata": {},
   "outputs": [],
   "source": [
    "import pandas as pd"
   ]
  },
  {
   "cell_type": "code",
   "execution_count": 5,
   "metadata": {},
   "outputs": [
    {
     "name": "stdout",
     "output_type": "stream",
     "text": [
      "       Name  Course1  Course2  Course3\n",
      "Reg_no                                \n",
      "101       A       99       66       90\n",
      "102       B       93       89       80\n",
      "103       C       92       88       85\n",
      "104       D       90       78       75\n",
      "105       E       89       77       77\n"
     ]
    }
   ],
   "source": [
    "data = {'Reg_no': [101,102,103,104,105],\n",
    "        'Name': ['A','B','C','D','E'],\n",
    "        'Course1': [99,93,92,90,89],\n",
    "        'Course2': [66,89,88,78,77],\n",
    "        'Course3': [90,80,85,75,77],}\n",
    "df = pd.DataFrame(data)\n",
    "df = df.set_index('Reg_no')\n",
    "print(df)"
   ]
  },
  {
   "cell_type": "code",
   "execution_count": 8,
   "metadata": {},
   "outputs": [
    {
     "name": "stdout",
     "output_type": "stream",
     "text": [
      "       Name  Course1\n",
      "Reg_no              \n",
      "101       A       99\n",
      "102       B       93\n",
      "103       C       92\n",
      "104       D       90\n",
      "105       E       89\n"
     ]
    }
   ],
   "source": [
    "cols = input(\"Enter Columns to view separated by comma\\n\").split(',')\n",
    "cols = [col.strip() for col in cols]\n",
    "cols1 = df[cols]\n",
    "print(cols1)"
   ]
  }
 ],
 "metadata": {
  "kernelspec": {
   "display_name": "Python 3",
   "language": "python",
   "name": "python3"
  },
  "language_info": {
   "codemirror_mode": {
    "name": "ipython",
    "version": 3
   },
   "file_extension": ".py",
   "mimetype": "text/x-python",
   "name": "python",
   "nbconvert_exporter": "python",
   "pygments_lexer": "ipython3",
   "version": "3.12.0"
  }
 },
 "nbformat": 4,
 "nbformat_minor": 2
}
