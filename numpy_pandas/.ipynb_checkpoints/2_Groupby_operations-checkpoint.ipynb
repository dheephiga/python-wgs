{
  "cells": [
    {
      "cell_type": "markdown",
      "metadata": {
        "id": "N7euzgmgPZCP"
      },
      "source": [
        "# Groupby operations"
      ]
    },
    {
      "cell_type": "markdown",
      "metadata": {
        "id": "Vsk3dRBhPZCR"
      },
      "source": [
        "Some imports:"
      ]
    },
    {
      "cell_type": "code",
      "execution_count": 5,
      "metadata": {
        "id": "vbR4aAKIPZCR"
      },
      "outputs": [],
      "source": [
        "%matplotlib inline\n",
        "import pandas as pd\n",
        "import numpy as np\n",
        "import matplotlib.pyplot as plt\n",
        "try:\n",
        "    import seaborn\n",
        "except ImportError:\n",
        "    pass\n",
        "\n",
        "pd.options.display.max_rows = 10"
      ]
    },
    {
      "cell_type": "markdown",
      "metadata": {
        "id": "2cFDqsioPZCS"
      },
      "source": [
        "## Some 'theory': the groupby operation (split-apply-combine)\n",
        "\n",
        "The \"group by\" concept: we want to **apply the same function on subsets of your dataframe, based on some key to split the dataframe in subsets**\n",
        "\n",
        "This operation is also referred to as the \"split-apply-combine\" operation, involving the following steps:\n",
        "\n",
        "* **Splitting** the data into groups based on some criteria\n",
        "* **Applying** a function to each group independently\n",
        "* **Combining** the results into a data structure\n",
        "\n",
        "<img src=\"img/splitApplyCombine.png\">\n",
        "\n",
        "Similar to SQL `GROUP BY`"
      ]
    },
    {
      "cell_type": "markdown",
      "metadata": {
        "id": "MPRoShhEPZCS"
      },
      "source": [
        "The example of the image in pandas syntax:"
      ]
    },
    {
      "cell_type": "code",
      "execution_count": 6,
      "metadata": {
        "colab": {
          "base_uri": "https://localhost:8080/",
          "height": 331
        },
        "id": "RXxyykRJPZCS",
        "outputId": "e311514a-49fa-4730-869a-cc092d875a99"
      },
      "outputs": [
        {
          "data": {
            "text/html": [
              "<div>\n",
              "<style scoped>\n",
              "    .dataframe tbody tr th:only-of-type {\n",
              "        vertical-align: middle;\n",
              "    }\n",
              "\n",
              "    .dataframe tbody tr th {\n",
              "        vertical-align: top;\n",
              "    }\n",
              "\n",
              "    .dataframe thead th {\n",
              "        text-align: right;\n",
              "    }\n",
              "</style>\n",
              "<table border=\"1\" class=\"dataframe\">\n",
              "  <thead>\n",
              "    <tr style=\"text-align: right;\">\n",
              "      <th></th>\n",
              "      <th>key</th>\n",
              "      <th>data</th>\n",
              "    </tr>\n",
              "  </thead>\n",
              "  <tbody>\n",
              "    <tr>\n",
              "      <th>0</th>\n",
              "      <td>A</td>\n",
              "      <td>0</td>\n",
              "    </tr>\n",
              "    <tr>\n",
              "      <th>1</th>\n",
              "      <td>B</td>\n",
              "      <td>5</td>\n",
              "    </tr>\n",
              "    <tr>\n",
              "      <th>2</th>\n",
              "      <td>C</td>\n",
              "      <td>10</td>\n",
              "    </tr>\n",
              "    <tr>\n",
              "      <th>3</th>\n",
              "      <td>A</td>\n",
              "      <td>5</td>\n",
              "    </tr>\n",
              "    <tr>\n",
              "      <th>4</th>\n",
              "      <td>B</td>\n",
              "      <td>10</td>\n",
              "    </tr>\n",
              "    <tr>\n",
              "      <th>5</th>\n",
              "      <td>C</td>\n",
              "      <td>15</td>\n",
              "    </tr>\n",
              "    <tr>\n",
              "      <th>6</th>\n",
              "      <td>A</td>\n",
              "      <td>10</td>\n",
              "    </tr>\n",
              "    <tr>\n",
              "      <th>7</th>\n",
              "      <td>B</td>\n",
              "      <td>15</td>\n",
              "    </tr>\n",
              "    <tr>\n",
              "      <th>8</th>\n",
              "      <td>C</td>\n",
              "      <td>20</td>\n",
              "    </tr>\n",
              "  </tbody>\n",
              "</table>\n",
              "</div>"
            ],
            "text/plain": [
              "  key  data\n",
              "0   A     0\n",
              "1   B     5\n",
              "2   C    10\n",
              "3   A     5\n",
              "4   B    10\n",
              "5   C    15\n",
              "6   A    10\n",
              "7   B    15\n",
              "8   C    20"
            ]
          },
          "execution_count": 6,
          "metadata": {},
          "output_type": "execute_result"
        }
      ],
      "source": [
        "df = pd.DataFrame({'key':['A','B','C','A','B','C','A','B','C'],\n",
        "                   'data': [0, 5, 10, 5, 10, 15, 10, 15, 20]})\n",
        "df"
      ]
    },
    {
      "cell_type": "markdown",
      "metadata": {
        "id": "hD2o6oP0PZCT"
      },
      "source": [
        "Using the filtering and reductions operations we have seen in the previous notebooks, we could do something like:\n",
        "\n",
        "\n",
        "    df[df['key'] == \"A\"].sum()\n",
        "    df[df['key'] == \"B\"].sum()\n",
        "    ...\n",
        "\n",
        "But pandas provides the `groupby` method to do this:"
      ]
    },
    {
      "cell_type": "code",
      "execution_count": null,
      "metadata": {
        "colab": {
          "base_uri": "https://localhost:8080/",
          "height": 174
        },
        "id": "Np0_GUIqPZCT",
        "outputId": "990cfa0f-c345-4b2f-f13a-f84639a9ce01"
      },
      "outputs": [],
      "source": [
        "df.groupby('key').aggregate(np.sum)  # 'sum'"
      ]
    },
    {
      "cell_type": "code",
      "execution_count": null,
      "metadata": {
        "colab": {
          "base_uri": "https://localhost:8080/",
          "height": 174
        },
        "id": "APZQX7pjPZCT",
        "outputId": "07c84821-9d0e-4ca7-ffef-13ba8d497b02"
      },
      "outputs": [],
      "source": [
        "df.groupby('key').sum()"
      ]
    },
    {
      "cell_type": "markdown",
      "metadata": {
        "id": "ZQ9zLo1JPZCU"
      },
      "source": [
        "And many more methods are available."
      ]
    },
    {
      "cell_type": "markdown",
      "metadata": {
        "id": "zRPSJN-7PZCU"
      },
      "source": [
        "## And now applying this on some real data"
      ]
    },
    {
      "cell_type": "markdown",
      "metadata": {
        "id": "aaog4VwnPZCU"
      },
      "source": [
        "We go back to the titanic survival data:"
      ]
    },
    {
      "cell_type": "code",
      "execution_count": null,
      "metadata": {
        "colab": {
          "base_uri": "https://localhost:8080/",
          "height": 309
        },
        "collapsed": true,
        "id": "SMV3-djEPZCU",
        "outputId": "4fcb0b3c-49a2-4e69-f105-61757f820b8c"
      },
      "outputs": [],
      "source": [
        "df = pd.read_csv(\"titanic.csv\")"
      ]
    },
    {
      "cell_type": "code",
      "execution_count": null,
      "metadata": {
        "id": "Lr7bnn8jPZCV"
      },
      "outputs": [],
      "source": [
        "df.head()"
      ]
    },
    {
      "cell_type": "markdown",
      "metadata": {
        "id": "2lFTEOwTPZCV"
      },
      "source": [
        "<div class=\"alert alert-success\">\n",
        "    <b>EXERCISE</b>: Using groupby(), calculate the average age for each sex.\n",
        "</div>"
      ]
    },
    {
      "cell_type": "code",
      "execution_count": null,
      "metadata": {
        "clear_cell": true,
        "id": "vmnpkec0PZCV"
      },
      "outputs": [],
      "source": []
    },
    {
      "cell_type": "markdown",
      "metadata": {
        "id": "RKJr4Oa-PZCV"
      },
      "source": [
        "<div class=\"alert alert-success\">\n",
        "    <b>EXERCISE</b>: Calculate the average survival ratio for all passengers.\n",
        "</div>"
      ]
    },
    {
      "cell_type": "code",
      "execution_count": null,
      "metadata": {
        "clear_cell": true,
        "id": "fAhRTsAaPZCV"
      },
      "outputs": [],
      "source": []
    },
    {
      "cell_type": "markdown",
      "metadata": {
        "id": "InwYTqpxPZCV"
      },
      "source": [
        "<div class=\"alert alert-success\">\n",
        "    <b>EXERCISE</b>: Calculate this survival ratio for all passengers younger that 25 (remember: filtering/boolean indexing).\n",
        "</div>"
      ]
    },
    {
      "cell_type": "code",
      "execution_count": null,
      "metadata": {
        "clear_cell": true,
        "id": "_UvGKRnCPZCV"
      },
      "outputs": [],
      "source": []
    },
    {
      "cell_type": "markdown",
      "metadata": {
        "id": "eJtMHziqPZCW"
      },
      "source": [
        "<div class=\"alert alert-success\">\n",
        "    <b>EXERCISE</b>: Is there a difference in this survival ratio between the sexes? (tip: write the above calculation of the survival ratio as a function)\n",
        "</div>"
      ]
    },
    {
      "cell_type": "code",
      "execution_count": null,
      "metadata": {
        "clear_cell": true,
        "collapsed": true,
        "id": "srAUl350PZCW"
      },
      "outputs": [],
      "source": []
    },
    {
      "cell_type": "code",
      "execution_count": null,
      "metadata": {
        "clear_cell": true,
        "id": "C34QhAk6PZCW"
      },
      "outputs": [],
      "source": []
    },
    {
      "cell_type": "markdown",
      "metadata": {
        "id": "z3jl2kxSPZCW"
      },
      "source": [
        "<div class=\"alert alert-success\">\n",
        "    <b>EXERCISE</b>: Make a bar plot of the survival ratio for the different classes ('Pclass' column).\n",
        "</div>"
      ]
    },
    {
      "cell_type": "code",
      "execution_count": null,
      "metadata": {
        "clear_cell": true,
        "id": "WV-VKEUiPZCW"
      },
      "outputs": [],
      "source": []
    },
    {
      "cell_type": "markdown",
      "metadata": {
        "id": "IDC_jwQkPZCW"
      },
      "source": [
        "If you are ready, more groupby exercises can be found in the \"Advanded groupby operations\" notebook."
      ]
    }
  ],
  "metadata": {
    "celltoolbar": "Nbtutor - export exercises",
    "colab": {
      "provenance": []
    },
    "kernelspec": {
      "display_name": "Python 3",
      "language": "python",
      "name": "python3"
    },
    "language_info": {
      "codemirror_mode": {
        "name": "ipython",
        "version": 3
      },
      "file_extension": ".py",
      "mimetype": "text/x-python",
      "name": "python",
      "nbconvert_exporter": "python",
      "pygments_lexer": "ipython3",
      "version": "3.12.0"
    }
  },
  "nbformat": 4,
  "nbformat_minor": 0
}
