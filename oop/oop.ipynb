{
 "cells": [
  {
   "cell_type": "code",
   "execution_count": 10,
   "metadata": {},
   "outputs": [],
   "source": [
    "class Rocket:    \n",
    "    def __init__(self):\n",
    "        self.x = 0\n",
    "        self.y = 0\n",
    "    #self means, to access any variables, it refers to the class\n",
    "    def move_up(self):\n",
    "        self.y += 1"
   ]
  },
  {
   "cell_type": "code",
   "execution_count": 11,
   "metadata": {},
   "outputs": [],
   "source": [
    "class Numerical:\n",
    "    def __init__(self):\n",
    "        self.x = 0\n",
    "        self.y =0\n",
    "        self.z = 0\n",
    "    \n",
    "    def add(self,x,y):\n",
    "        self.x = x\n",
    "        self.y = y\n",
    "        self.z = self.x + self.y\n",
    "        return self.z"
   ]
  },
  {
   "cell_type": "markdown",
   "metadata": {},
   "source": [
    "## creating objects"
   ]
  },
  {
   "cell_type": "code",
   "execution_count": 12,
   "metadata": {},
   "outputs": [
    {
     "name": "stdout",
     "output_type": "stream",
     "text": [
      "<__main__.Rocket object at 0x000001A16B2BF800>\n"
     ]
    }
   ],
   "source": [
    "myRocket = Rocket()\n",
    "print(myRocket)"
   ]
  },
  {
   "cell_type": "code",
   "execution_count": 13,
   "metadata": {},
   "outputs": [
    {
     "name": "stdout",
     "output_type": "stream",
     "text": [
      "Rocket is flyiiingggggggggg:  0\n"
     ]
    }
   ],
   "source": [
    "print(\"Rocket is flyiiingggggggggg: \",myRocket.y)"
   ]
  },
  {
   "cell_type": "code",
   "execution_count": 17,
   "metadata": {},
   "outputs": [
    {
     "name": "stdout",
     "output_type": "stream",
     "text": [
      "Flyin up and up:  4\n"
     ]
    }
   ],
   "source": [
    "myRocket.move_up()\n",
    "print(\"Flyin up and up: \",myRocket.y)"
   ]
  },
  {
   "cell_type": "code",
   "execution_count": 20,
   "metadata": {},
   "outputs": [
    {
     "name": "stdout",
     "output_type": "stream",
     "text": [
      "<__main__.Numerical object at 0x000001A16B2B8AA0>\n",
      "Sum is 57\n"
     ]
    }
   ],
   "source": [
    "num = Numerical()\n",
    "#print(num)\n",
    "sum = num.add(12,45)\n",
    "print(f'Sum is {num.z}')"
   ]
  },
  {
   "cell_type": "code",
   "execution_count": 19,
   "metadata": {},
   "outputs": [
    {
     "name": "stdout",
     "output_type": "stream",
     "text": [
      "Sum is 20\n"
     ]
    }
   ],
   "source": [
    "print(f'Sum is {num.add(10,10)}')"
   ]
  },
  {
   "cell_type": "markdown",
   "metadata": {},
   "source": [
    "creating multiple objects at once"
   ]
  },
  {
   "cell_type": "code",
   "execution_count": 28,
   "metadata": {},
   "outputs": [
    {
     "name": "stdout",
     "output_type": "stream",
     "text": [
      "[<__main__.Rocket object at 0x000001A16B225280>, <__main__.Rocket object at 0x000001A16B2BA120>, <__main__.Rocket object at 0x000001A16B2B9E80>, <__main__.Rocket object at 0x000001A16B2BB320>, <__main__.Rocket object at 0x000001A16B2BA480>]\n"
     ]
    }
   ],
   "source": [
    "myRockets = []\n",
    "for i in range(0,5):\n",
    "    newRocket = Rocket()\n",
    "    myRockets.append(newRocket)\n",
    "\n",
    "print(myRockets)"
   ]
  },
  {
   "cell_type": "markdown",
   "metadata": {},
   "source": []
  },
  {
   "cell_type": "code",
   "execution_count": 30,
   "metadata": {},
   "outputs": [
    {
     "ename": "TypeError",
     "evalue": "'int' object is not iterable",
     "output_type": "error",
     "traceback": [
      "\u001b[1;31m---------------------------------------------------------------------------\u001b[0m",
      "\u001b[1;31mTypeError\u001b[0m                                 Traceback (most recent call last)",
      "Cell \u001b[1;32mIn[30], line 2\u001b[0m\n\u001b[0;32m      1\u001b[0m n \u001b[38;5;241m=\u001b[39m \u001b[38;5;28mint\u001b[39m(\u001b[38;5;28minput\u001b[39m(\u001b[38;5;124m\"\u001b[39m\u001b[38;5;124mNo. of pairs to be added: \u001b[39m\u001b[38;5;124m\"\u001b[39m))\n\u001b[1;32m----> 2\u001b[0m \u001b[38;5;28;43;01mfor\u001b[39;49;00m\u001b[43m \u001b[49m\u001b[43mi\u001b[49m\u001b[43m \u001b[49m\u001b[38;5;129;43;01min\u001b[39;49;00m\u001b[43m \u001b[49m\u001b[43mn\u001b[49m\u001b[43m:\u001b[49m\n\u001b[0;32m      3\u001b[0m \u001b[43m    \u001b[49m\u001b[43mnewNum\u001b[49m\u001b[43m \u001b[49m\u001b[38;5;241;43m=\u001b[39;49m\u001b[43m \u001b[49m\u001b[43mNumerical\u001b[49m\u001b[43m(\u001b[49m\u001b[43m)\u001b[49m\n\u001b[0;32m      4\u001b[0m \u001b[43m    \u001b[49m\u001b[43mnewNum\u001b[49m\u001b[38;5;241;43m.\u001b[39;49m\u001b[43mx\u001b[49m\u001b[43m \u001b[49m\u001b[38;5;241;43m=\u001b[39;49m\u001b[43m \u001b[49m\u001b[38;5;28;43mint\u001b[39;49m\u001b[43m(\u001b[49m\u001b[38;5;28;43minput\u001b[39;49m\u001b[43m(\u001b[49m\u001b[38;5;124;43m\"\u001b[39;49m\u001b[38;5;124;43mValue1: \u001b[39;49m\u001b[38;5;124;43m\"\u001b[39;49m\u001b[43m)\u001b[49m\u001b[43m)\u001b[49m\n",
      "\u001b[1;31mTypeError\u001b[0m: 'int' object is not iterable"
     ]
    }
   ],
   "source": [
    "n = int(input(\"No. of pairs to be added: \"))\n",
    "for i in n:\n",
    "    newNum = Numerical()\n",
    "    newNum.x = int(input(\"Value1: \"))\n",
    "    newNum.y = int(input(\"Value2: \"))\n",
    "    newNum.add(newNum.x,newNumy)\n",
    "    print(f'Sum is {newNum.z}')\n",
    "   \n",
    "\n"
   ]
  },
  {
   "cell_type": "code",
   "execution_count": 37,
   "metadata": {},
   "outputs": [
    {
     "name": "stdout",
     "output_type": "stream",
     "text": [
      "sum: 6\n",
      "sum: 18\n",
      "sum: 14\n"
     ]
    }
   ],
   "source": [
    "nums = [Numerical() for i in range(0,3)]\n",
    "# nums[0].add(3,4)\n",
    "for num in nums:\n",
    "    num.x = int(input(\"x: \"))\n",
    "    num.y = int(input(\"y: \"))\n",
    "    num.add(num.x, num.y)\n",
    "    print(f'sum: {num.z}')"
   ]
  },
  {
   "cell_type": "markdown",
   "metadata": {},
   "source": [
    "this can also be done"
   ]
  },
  {
   "cell_type": "code",
   "execution_count": 38,
   "metadata": {},
   "outputs": [
    {
     "name": "stdout",
     "output_type": "stream",
     "text": [
      "Sum of 0 and 1 is 1\n",
      "Sum of 2 and 3 is 5\n",
      "Sum of 4 and 5 is 9\n",
      "Sum of 6 and 7 is 13\n",
      "Sum of 8 and 9 is 17\n"
     ]
    }
   ],
   "source": [
    "class Numerical:\n",
    "    def __init__(self, x, y):\n",
    "        self.x = x\n",
    "        self.y = y\n",
    "        self.z = self.x + self.y\n",
    "for i in range(0, 10, 2):\n",
    "    num = Numerical(i, i + 1)\n",
    "    print(\"Sum of\", num.x, \"and\", num.y, \"is\", num.z)"
   ]
  },
  {
   "cell_type": "code",
   "execution_count": null,
   "metadata": {},
   "outputs": [],
   "source": []
  }
 ],
 "metadata": {
  "kernelspec": {
   "display_name": "Python 3",
   "language": "python",
   "name": "python3"
  },
  "language_info": {
   "codemirror_mode": {
    "name": "ipython",
    "version": 3
   },
   "file_extension": ".py",
   "mimetype": "text/x-python",
   "name": "python",
   "nbconvert_exporter": "python",
   "pygments_lexer": "ipython3",
   "version": "3.12.0"
  }
 },
 "nbformat": 4,
 "nbformat_minor": 2
}
