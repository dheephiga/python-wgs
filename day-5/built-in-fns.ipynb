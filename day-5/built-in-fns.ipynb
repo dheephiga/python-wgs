{
 "cells": [
  {
   "cell_type": "markdown",
   "metadata": {},
   "source": [
    "### Built-in Functions in Python"
   ]
  },
  {
   "cell_type": "markdown",
   "metadata": {},
   "source": [
    "abs() -- returns the absolute value of the number"
   ]
  },
  {
   "cell_type": "code",
   "execution_count": 5,
   "metadata": {},
   "outputs": [
    {
     "name": "stdout",
     "output_type": "stream",
     "text": [
      "10.3\n"
     ]
    }
   ],
   "source": [
    "a = 10\n",
    "b = 10.3\n",
    "print(abs(b))"
   ]
  },
  {
   "cell_type": "markdown",
   "metadata": {},
   "source": [
    "len() -- is used only for sequential data type like string, list, tuple, dict, set"
   ]
  },
  {
   "cell_type": "code",
   "execution_count": 10,
   "metadata": {},
   "outputs": [
    {
     "name": "stdout",
     "output_type": "stream",
     "text": [
      "4\n",
      "7\n"
     ]
    }
   ],
   "source": [
    "li = [1,2,4,[3,5,[345]]]\n",
    "print(len(li))\n",
    "lis = 'welcome'\n",
    "print(len(lis))"
   ]
  },
  {
   "cell_type": "markdown",
   "metadata": {},
   "source": [
    "- both max and min will return the alphabet wrt highest/lowest ascii value.\n",
    "- in dictionary, it is based on the ascii value of the keys and not the values,"
   ]
  },
  {
   "cell_type": "code",
   "execution_count": 12,
   "metadata": {},
   "outputs": [
    {
     "data": {
      "text/plain": [
       "'c'"
      ]
     },
     "execution_count": 12,
     "metadata": {},
     "output_type": "execute_result"
    }
   ],
   "source": [
    "dictionary = {'a':344444,'b':0,'c':89}\n",
    "max(dictionary)"
   ]
  },
  {
   "cell_type": "code",
   "execution_count": null,
   "metadata": {},
   "outputs": [],
   "source": [
    "dictionary = {'a':344444,'b':0,'c':89,'d'}\n"
   ]
  },
  {
   "cell_type": "markdown",
   "metadata": {},
   "source": [
    "problem"
   ]
  },
  {
   "cell_type": "code",
   "execution_count": 26,
   "metadata": {},
   "outputs": [
    {
     "ename": "TypeError",
     "evalue": "'int' object is not callable",
     "output_type": "error",
     "traceback": [
      "\u001b[1;31m---------------------------------------------------------------------------\u001b[0m",
      "\u001b[1;31mTypeError\u001b[0m                                 Traceback (most recent call last)",
      "Cell \u001b[1;32mIn [26], line 5\u001b[0m\n\u001b[0;32m      3\u001b[0m list_num \u001b[38;5;241m=\u001b[39m [\u001b[38;5;28mint\u001b[39m(x) \u001b[38;5;28;01mfor\u001b[39;00m x \u001b[38;5;129;01min\u001b[39;00m list_num]\n\u001b[0;32m      4\u001b[0m size \u001b[38;5;241m=\u001b[39m \u001b[38;5;28mlen\u001b[39m(list_num)\n\u001b[1;32m----> 5\u001b[0m sums \u001b[38;5;241m=\u001b[39m \u001b[38;5;28msum\u001b[39m(list_num) \n\u001b[0;32m      6\u001b[0m average \u001b[38;5;241m=\u001b[39m \u001b[38;5;28mint\u001b[39m(sums\u001b[38;5;241m/\u001b[39m size)\n\u001b[0;32m      7\u001b[0m \u001b[38;5;28mprint\u001b[39m(\u001b[38;5;124m\"\u001b[39m\u001b[38;5;124mAverage of the numbers is: \u001b[39m\u001b[38;5;124m\"\u001b[39m, average)\n",
      "\u001b[1;31mTypeError\u001b[0m: 'int' object is not callable"
     ]
    }
   ],
   "source": [
    "numbers = input()\n",
    "list_num = numbers.split(',')\n",
    "list_num = [int(x) for x in list_num]\n",
    "size = len(list_num)\n",
    "sums = sum(list_num) \n",
    "average = int(sums/ size)\n",
    "print(\"Average of the numbers is: \", average)\n",
    "\n",
    "if average in list_num:\n",
    "    i = list_num.index(average)\n",
    "    a = list_num[i+1]\n",
    "    b = list_num[i-1]\n",
    "\n",
    "print(\"The nearest elements are: \",a,b)"
   ]
  },
  {
   "cell_type": "markdown",
   "metadata": {},
   "source": [
    "type of data the user enters"
   ]
  },
  {
   "cell_type": "code",
   "execution_count": 30,
   "metadata": {},
   "outputs": [
    {
     "name": "stdout",
     "output_type": "stream",
     "text": [
      "966  is interger number\n"
     ]
    }
   ],
   "source": [
    "x = input()\n",
    "if type(eval(x)) == float:\n",
    "    print(x, \" is floating point number\")\n",
    "elif type(eval(x)) == int:\n",
    "    print(x, \" is interger number\")    \n",
    "elif type(eval(x)) == bool:\n",
    "     print(x, \" is a boolean\")   \n",
    "else:\n",
    "    print(x, \" is a string\") "
   ]
  },
  {
   "cell_type": "markdown",
   "metadata": {},
   "source": [
    "sorted()"
   ]
  },
  {
   "cell_type": "code",
   "execution_count": null,
   "metadata": {},
   "outputs": [],
   "source": []
  },
  {
   "cell_type": "markdown",
   "metadata": {},
   "source": [
    "range()\n",
    "default arg for step is 1"
   ]
  }
 ],
 "metadata": {
  "kernelspec": {
   "display_name": "Python 3",
   "language": "python",
   "name": "python3"
  },
  "language_info": {
   "codemirror_mode": {
    "name": "ipython",
    "version": 3
   },
   "file_extension": ".py",
   "mimetype": "text/x-python",
   "name": "python",
   "nbconvert_exporter": "python",
   "pygments_lexer": "ipython3",
   "version": "3.9.13"
  }
 },
 "nbformat": 4,
 "nbformat_minor": 2
}
