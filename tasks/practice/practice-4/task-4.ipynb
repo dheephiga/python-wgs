{
 "cells": [
  {
   "cell_type": "code",
   "execution_count": 1,
   "metadata": {},
   "outputs": [],
   "source": [
    "import numpy as np\n",
    "import pandas as pd\n",
    "import seaborn as sns\n",
    "import matplotlib as plt"
   ]
  },
  {
   "cell_type": "code",
   "execution_count": 3,
   "metadata": {},
   "outputs": [],
   "source": [
    "#2D 5x5 of random integers\n",
    "array1 = np.random.randint(0,101,size=(5,5))"
   ]
  },
  {
   "cell_type": "code",
   "execution_count": 4,
   "metadata": {},
   "outputs": [
    {
     "data": {
      "text/plain": [
       "array([85, 44, 89, 65, 32, 43, 76, 77, 44, 28, 48, 88, 99, 41, 52, 93,  7,\n",
       "       52, 59,  5, 75, 78, 62, 78, 69])"
      ]
     },
     "execution_count": 4,
     "metadata": {},
     "output_type": "execute_result"
    }
   ],
   "source": [
    "#reshaping the created array to 1D array\n",
    "array2 = array1.flatten()\n",
    "array2\n"
   ]
  },
  {
   "cell_type": "code",
   "execution_count": 5,
   "metadata": {},
   "outputs": [
    {
     "name": "stdout",
     "output_type": "stream",
     "text": [
      "[  85  129  218  283  315  358  434  511  555  583  631  719  818  859\n",
      "  911 1004 1011 1063 1122 1127 1202 1280 1342 1420 1489]\n"
     ]
    }
   ],
   "source": [
    "#calculating the cumulatinve sum along the rows of the reshaped array\n",
    "cumulativeSum = np.cumsum(array2)\n",
    "print(cumulativeSum)"
   ]
  },
  {
   "cell_type": "code",
   "execution_count": 12,
   "metadata": {},
   "outputs": [
    {
     "name": "stdout",
     "output_type": "stream",
     "text": [
      "[2]\n"
     ]
    }
   ],
   "source": [
    "#a function that takes two arrays as input and returns the intersection\n",
    "def intersection(a,b):\n",
    "    return np.intersect1d(a,b)\n",
    "\n",
    "n= int(input('Enter number of elements: '))\n",
    "arr1 = list(map(int, \n",
    "    input(\"\\nEnter the numbers : \").strip().split()))[:n]\n",
    "\n",
    "n= int(input('Enter number of elements: '))\n",
    "arr2 = list(map(int,input('\\nEnter numbers: ').strip().split()))[:n]\n",
    "\n",
    "print(intersection(np.array(arr1),np.array(arr2)))\n"
   ]
  },
  {
   "cell_type": "code",
   "execution_count": 14,
   "metadata": {},
   "outputs": [
    {
     "name": "stdout",
     "output_type": "stream",
     "text": [
      "[8.29420591e-07 1.29628667e-24 4.52848299e-05 1.70956326e-15\n",
      " 7.96466057e-30 4.76877216e-25 1.02358633e-10 2.78239611e-10\n",
      " 1.29628667e-24 1.45877847e-31 7.07748541e-23 1.66593579e-05\n",
      " 9.97464757e-01 6.45383130e-26 3.86417610e-21 2.47246794e-03\n",
      " 1.10612759e-40 3.86417610e-21 4.23758364e-18 1.49698091e-41\n",
      " 3.76556366e-11 7.56333679e-10 8.51141427e-17 7.56333679e-10\n",
      " 9.33389912e-14]\n"
     ]
    }
   ],
   "source": [
    "#implementing softmax function\n",
    "softmax = np.exp(array2)/sum(np.exp(array2))\n",
    "print(softmax)\n"
   ]
  },
  {
   "cell_type": "code",
   "execution_count": 21,
   "metadata": {},
   "outputs": [
    {
     "name": "stdout",
     "output_type": "stream",
     "text": [
      "[ 16  -3 -17  13 -18  19  18  13   6   8   9  17 -18   5 -14]\n",
      "[16, 9, 289, 13, 324, 19, 18, 13, 6, 8, 9, 17, 324, 5, 196]\n"
     ]
    }
   ],
   "source": [
    "#creating a matrix with random integers and replace negative integers with their abs square\n",
    "array3 = np.random.randint(-20,20,size=(15))\n",
    "print(array3)\n",
    "arr3 = [x*x if x < 0 else x for x in array3]\n",
    "print(arr3)"
   ]
  },
  {
   "cell_type": "code",
   "execution_count": 29,
   "metadata": {},
   "outputs": [
    {
     "name": "stdout",
     "output_type": "stream",
     "text": [
      "[[25.  83.  61.  75.  27.  42.5]\n",
      " [83.  67.  26.  52.  50.  36. ]\n",
      " [61.  26.  32.  47.  39.5 11.5]\n",
      " [75.  52.  47.  99.  36.5 75. ]\n",
      " [27.  50.  39.5 36.5 63.  72. ]\n",
      " [42.5 36.  11.5 75.  72.  85. ]]\n",
      "EigResult(eigenvalues=array([315.17486845, -62.80850764, -19.32844574,  70.14649819,\n",
      "        23.01521007,  44.80037667]), eigenvectors=array([[-0.40674191, -0.74618613, -0.35747343, -0.38087961,  0.06672802,\n",
      "        -0.02140385],\n",
      "       [-0.41008601,  0.41627601,  0.0895258 , -0.33629963,  0.56583395,\n",
      "        -0.4661152 ],\n",
      "       [-0.27943384,  0.4158835 , -0.32337248, -0.33516754, -0.72470611,\n",
      "        -0.0827747 ],\n",
      "       [-0.51360362,  0.0703166 ,  0.51337428, -0.11181552, -0.01601234,\n",
      "         0.67450325],\n",
      "       [-0.36729506, -0.25249129,  0.45820767,  0.4269677 , -0.3435798 ,\n",
      "        -0.53948098],\n",
      "       [-0.4354456 ,  0.16812254, -0.53490251,  0.65931166,  0.17854102,\n",
      "         0.17155898]]))\n"
     ]
    }
   ],
   "source": [
    "array4 = np.random.randint(0,100,size=(6,6))\n",
    "symmetricArray = (array4+array4.T)/2\n",
    "print(symmetricArray)\n",
    "\n",
    "eigenVal = np.linalg.eig(symmetricArray)\n",
    "print(eigenVal)\n"
   ]
  },
  {
   "cell_type": "code",
   "execution_count": 30,
   "metadata": {},
   "outputs": [
    {
     "name": "stdout",
     "output_type": "stream",
     "text": [
      "Moving averages: [2. 3. 4. 5. 6. 7. 8. 9.]\n"
     ]
    }
   ],
   "source": [
    "#calculating moving average of 1D array\n",
    "import numpy as np\n",
    "\n",
    "def moving_average(arr, window_size):\n",
    "    if window_size <= 0 or window_size > len(arr):\n",
    "        raise ValueError(\"Window size must be a positive integer less than or equal to the length of the array.\")\n",
    "    \n",
    "    moving_averages = np.convolve(arr, np.ones(window_size)/window_size, mode='valid')\n",
    "    return moving_averages\n",
    "\n",
    "\n",
    "array5 = np.array([1, 2, 3, 4, 5, 6, 7, 8, 9, 10])\n",
    "window = 3\n",
    "result = moving_average(array5, window)\n",
    "print(\"Moving averages:\", result)\n"
   ]
  },
  {
   "cell_type": "code",
   "execution_count": 50,
   "metadata": {},
   "outputs": [
    {
     "name": "stdout",
     "output_type": "stream",
     "text": [
      "[[0 1 0 1 0 1 0 1]\n",
      " [1 0 1 0 1 0 1 0]\n",
      " [0 1 0 1 0 1 0 1]\n",
      " [1 0 1 0 1 0 1 0]\n",
      " [0 1 0 1 0 1 0 1]\n",
      " [1 0 1 0 1 0 1 0]\n",
      " [0 1 0 1 0 1 0 1]\n",
      " [1 0 1 0 1 0 1 0]]\n"
     ]
    }
   ],
   "source": [
    "#checkerboard pattern using zeros and ones\n",
    "checkerboard = np.zeros((8, 8), dtype=int)\n",
    "checkerboard[1::2, ::2] = 1\n",
    "checkerboard[::2, 1::2] = 1\n",
    "\n",
    "print(checkerboard)\n"
   ]
  },
  {
   "cell_type": "code",
   "execution_count": 52,
   "metadata": {},
   "outputs": [
    {
     "name": "stdout",
     "output_type": "stream",
     "text": [
      "[[ 1.         -0.55541867 -0.3592106   0.97893383 -0.39828092 -0.256683  ]\n",
      " [-0.55541867  1.         -0.57655666 -0.37392985 -0.54155693 -0.66114309]\n",
      " [-0.3592106  -0.57655666  1.         -0.54219364  0.99910887  0.99419163]\n",
      " [ 0.97893383 -0.37392985 -0.54219364  1.         -0.57717547 -0.44861259]\n",
      " [-0.39828092 -0.54155693  0.99910887 -0.57717547  1.          0.98876311]\n",
      " [-0.256683   -0.66114309  0.99419163 -0.44861259  0.98876311  1.        ]]\n"
     ]
    }
   ],
   "source": [
    "#pearson correlation coefficient of two random arrays of same length\n",
    "\n",
    "array5 = np.random.randint(1,20,size=(3,3))\n",
    "array6 = np.random.randint(1,30,size=(3,3))\n",
    "\n",
    "print(np.corrcoef(array5,array6))"
   ]
  },
  {
   "cell_type": "code",
   "execution_count": 65,
   "metadata": {},
   "outputs": [
    {
     "name": "stdout",
     "output_type": "stream",
     "text": [
      "axis-1: [[ 79 138  14  34]\n",
      " [ 41 131 172  78]\n",
      " [ 55 138 141 161]]\n",
      "\n",
      "axis-2:[[ 98 180 169 162]\n",
      " [ 77 227 158 111]]\n",
      "\n",
      " axis-3:[[154 166 289]\n",
      " [111 256 206]]\n",
      "\n"
     ]
    }
   ],
   "source": [
    "#Generate a random 3D array and compute the sum along each axis\n",
    "\n",
    "array3d = np.random.randint(1,100, size=(2,3,4))\n",
    "\n",
    "print(f'axis-1: {np.sum(array3d,axis=0)}\\n\\naxis-2:{np.sum(array3d,axis=1)}\\n\\n axis-3:{np.sum(array3d,axis=2)}\\n' )"
   ]
  },
  {
   "cell_type": "markdown",
   "metadata": {},
   "source": [
    "## Pandas"
   ]
  },
  {
   "cell_type": "code",
   "execution_count": 71,
   "metadata": {},
   "outputs": [],
   "source": [
    "#Read multiple CSV files from a directory into a single pandas DataFrame and concatenate them.\n",
    "\n",
    "df = pd.concat(map(pd.read_csv, ['train.csv', 'test.csv']))"
   ]
  },
  {
   "cell_type": "code",
   "execution_count": 72,
   "metadata": {},
   "outputs": [
    {
     "name": "stdout",
     "output_type": "stream",
     "text": [
      "   PassengerId  Survived  Pclass  \\\n",
      "0            1       0.0       3   \n",
      "1            2       1.0       1   \n",
      "2            3       1.0       3   \n",
      "3            4       1.0       1   \n",
      "4            5       0.0       3   \n",
      "\n",
      "                                                Name     Sex   Age  SibSp  \\\n",
      "0                            Braund, Mr. Owen Harris    male  22.0      1   \n",
      "1  Cumings, Mrs. John Bradley (Florence Briggs Th...  female  38.0      1   \n",
      "2                             Heikkinen, Miss. Laina  female  26.0      0   \n",
      "3       Futrelle, Mrs. Jacques Heath (Lily May Peel)  female  35.0      1   \n",
      "4                           Allen, Mr. William Henry    male  35.0      0   \n",
      "\n",
      "   Parch            Ticket     Fare Cabin Embarked  \n",
      "0      0         A/5 21171   7.2500   NaN        S  \n",
      "1      0          PC 17599  71.2833   C85        C  \n",
      "2      0  STON/O2. 3101282   7.9250   NaN        S  \n",
      "3      0            113803  53.1000  C123        S  \n",
      "4      0            373450   8.0500   NaN        S  \n"
     ]
    }
   ],
   "source": [
    "print(df.head())"
   ]
  },
  {
   "cell_type": "code",
   "execution_count": 83,
   "metadata": {},
   "outputs": [
    {
     "name": "stdout",
     "output_type": "stream",
     "text": [
      "    PassengerId  Survived  Pclass  \\\n",
      "2             3       1.0       3   \n",
      "3             4       1.0       1   \n",
      "4             5       0.0       3   \n",
      "8             9       1.0       3   \n",
      "18           19       0.0       3   \n",
      "\n",
      "                                                 Name     Sex   Age  SibSp  \\\n",
      "2                              Heikkinen, Miss. Laina  female  26.0      0   \n",
      "3        Futrelle, Mrs. Jacques Heath (Lily May Peel)  female  35.0      1   \n",
      "4                            Allen, Mr. William Henry    male  35.0      0   \n",
      "8   Johnson, Mrs. Oscar W (Elisabeth Vilhelmina Berg)  female  27.0      0   \n",
      "18  Vander Planke, Mrs. Julius (Emelia Maria Vande...  female  31.0      1   \n",
      "\n",
      "    Parch            Ticket     Fare Cabin Embarked  \n",
      "2       0  STON/O2. 3101282   7.9250   NaN        S  \n",
      "3       0            113803  53.1000  C123        S  \n",
      "4       0            373450   8.0500   NaN        S  \n",
      "8       2            347742  11.1333   NaN        S  \n",
      "18      0            345763  18.0000   NaN        S  \n",
      "PassengerId    315\n",
      "Survived       219\n",
      "Pclass         315\n",
      "Name           315\n",
      "Sex            315\n",
      "Age            315\n",
      "SibSp          315\n",
      "Parch          315\n",
      "Ticket         315\n",
      "Fare           315\n",
      "Cabin           63\n",
      "Embarked       315\n",
      "dtype: int64\n"
     ]
    }
   ],
   "source": [
    "specificAge = df[(df['Age']>= 25) & (df['Age']<=35)]\n",
    "print(specificAge.head())\n",
    "print(specificAge.count())"
   ]
  },
  {
   "cell_type": "code",
   "execution_count": 84,
   "metadata": {},
   "outputs": [
    {
     "name": "stdout",
     "output_type": "stream",
     "text": [
      "<class 'pandas.core.frame.DataFrame'>\n",
      "Index: 1309 entries, 0 to 417\n",
      "Data columns (total 12 columns):\n",
      " #   Column       Non-Null Count  Dtype  \n",
      "---  ------       --------------  -----  \n",
      " 0   PassengerId  1309 non-null   int64  \n",
      " 1   Survived     891 non-null    float64\n",
      " 2   Pclass       1309 non-null   int64  \n",
      " 3   Name         1309 non-null   object \n",
      " 4   Sex          1309 non-null   object \n",
      " 5   Age          1046 non-null   float64\n",
      " 6   SibSp        1309 non-null   int64  \n",
      " 7   Parch        1309 non-null   int64  \n",
      " 8   Ticket       1309 non-null   object \n",
      " 9   Fare         1308 non-null   float64\n",
      " 10  Cabin        295 non-null    object \n",
      " 11  Embarked     1307 non-null   object \n",
      "dtypes: float64(3), int64(4), object(5)\n",
      "memory usage: 132.9+ KB\n"
     ]
    }
   ],
   "source": [
    "df.info()"
   ]
  },
  {
   "cell_type": "code",
   "execution_count": 85,
   "metadata": {},
   "outputs": [],
   "source": [
    "df_store = pd.read_csv('Global_Superstore(CSV).csv')"
   ]
  },
  {
   "cell_type": "code",
   "execution_count": 87,
   "metadata": {},
   "outputs": [
    {
     "data": {
      "text/plain": [
       "Index(['Row ID', 'Order ID', 'Order Date', 'Ship Date', 'Ship Mode',\n",
       "       'Customer ID', 'Customer Name', 'Segment', 'Postal Code', 'City',\n",
       "       'State', 'Country', 'Region', 'Market', 'Product ID', 'Category',\n",
       "       'Sub-Category', 'Product Name', 'Sales', 'Quantity', 'Discount',\n",
       "       'Profit', 'Shipping Cost', 'Order Priority'],\n",
       "      dtype='object')"
      ]
     },
     "execution_count": 87,
     "metadata": {},
     "output_type": "execute_result"
    }
   ],
   "source": [
    "df_store.columns"
   ]
  },
  {
   "cell_type": "code",
   "execution_count": null,
   "metadata": {},
   "outputs": [],
   "source": []
  }
 ],
 "metadata": {
  "kernelspec": {
   "display_name": "Python 3",
   "language": "python",
   "name": "python3"
  },
  "language_info": {
   "codemirror_mode": {
    "name": "ipython",
    "version": 3
   },
   "file_extension": ".py",
   "mimetype": "text/x-python",
   "name": "python",
   "nbconvert_exporter": "python",
   "pygments_lexer": "ipython3",
   "version": "3.12.0"
  }
 },
 "nbformat": 4,
 "nbformat_minor": 2
}
