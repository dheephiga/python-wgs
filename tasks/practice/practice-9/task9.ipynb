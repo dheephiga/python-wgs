{
 "cells": [
  {
   "cell_type": "markdown",
   "metadata": {},
   "source": [
    "Name: Dheephiga A M"
   ]
  },
  {
   "cell_type": "markdown",
   "metadata": {},
   "source": [
    "Temp ID: WDGET2024067"
   ]
  },
  {
   "cell_type": "markdown",
   "metadata": {},
   "source": [
    "Task - 9"
   ]
  },
  {
   "cell_type": "code",
   "execution_count": 1,
   "metadata": {},
   "outputs": [],
   "source": [
    "import numpy as np"
   ]
  },
  {
   "cell_type": "code",
   "execution_count": null,
   "metadata": {},
   "outputs": [],
   "source": [
    "\"\"\"Function to perform matrix addition\"\"\"\n",
    "\n",
    "def matrix_addition(matrix_a,matrix_b):\n",
    "    return matrix_a + matrix_b\n",
    "\n",
    "def matrix_subtraction(matrix_a,matrix_b):\n",
    "    return matrix_a - matrix_b\n",
    "\n",
    "def matrix_validation(rows_a,columns_a,rows_b,columns_b):\n",
    "    if(rows_a==rows_b and columns_a==columns_b):\n",
    "        get_elements()\n",
    "\n",
    "    else:\n",
    "        print(f'Rows and Columns not compatiable for the operation')\n",
    "    \n",
    "def get_elements():    \n",
    "    print('Elements for Matrix A\\n')\n",
    "    entries = list(map(int, input().split()))\n",
    "    matrix_1 = np.array(entries).reshape(rows_a,columns_a)\n",
    "        \n",
    "    print('Elements for Matrix B\\n')\n",
    "    entries = list(map(int, input().split()))\n",
    "    matrix_2 = np.array(entries).reshape(rows_b,columns_b)\n",
    "    \n",
    "    addition_result = matrix_addition(matrix_1,matrix_2)\n",
    "    subtraction_result = matrix_subtraction(matrix_1,matrix_2)\n",
    "    print(f'Sum of the matrices are {addition_result}\\n\\n Difference of the matrices are {subtraction_result}')\n",
    "    \n",
    "    \n",
    "print(f'Addition & Subtraction\\nDimensions for Matrix A\\n')\n",
    "rows_a = int(input('No. of rows: '))\n",
    "columns_a = int(input('No. of columns: '))\n",
    "\n",
    "print(f'Dimensions for Matrix B\\n')\n",
    "rows_b = int(input('No. of rows: '))\n",
    "columns_b = int(input('No. of rows: '))\n",
    "\n",
    "matrix_validation(rows_a,columns_a,rows_b,columns_b)"
   ]
  },
  {
   "cell_type": "code",
   "execution_count": null,
   "metadata": {},
   "outputs": [],
   "source": [
    "\"\"\"Function to perform matrix multiplication\"\"\"\n",
    "\n",
    "def matrix_validation(columns_a,rows_b):\n",
    "    if(columns_a==rows_b):\n",
    "        get_elements()\n",
    "\n",
    "    else:\n",
    "        print(f'Rows and Columns not compatiable for the operation')\n",
    "    \n",
    "def get_elements():    \n",
    "    print('Elements for Matrix A\\n')\n",
    "    entries = list(map(int, input().split()))\n",
    "    matrix_1 = np.array(entries).reshape(rows_a,columns_a)\n",
    "        \n",
    "    print('Elements for Matrix B\\n')\n",
    "    entries = list(map(int, input().split()))\n",
    "    matrix_2 = np.array(entries).reshape(rows_b,columns_b)\n",
    "    \n",
    "    print(f'Product of the matrices are {np.matmul(matrix_1,matrix_2)}')\n",
    "    print(f'Dot Product of the matrices are {np.dot(matrix_1,matrix_2)}')\n",
    "    \n",
    "    \n",
    "print(f'Multiplication\\nDimensions for Matrix A\\n')\n",
    "rows_a = int(input('No. of rows: '))\n",
    "columns_a = int(input('No. of columns: '))\n",
    "\n",
    "print(f'Dimensions for Matrix B\\n')\n",
    "rows_b = int(input('No. of rows: '))\n",
    "columns_b = int(input('No. of rows: '))\n",
    "\n",
    "matrix_validation(columns_a,rows_b)"
   ]
  },
  {
   "cell_type": "code",
   "execution_count": null,
   "metadata": {},
   "outputs": [],
   "source": [
    "\"\"\"Function to perform matrix transposition\"\"\"\n",
    "def get_elements():    \n",
    "    print('Elements for Matrix A\\n')\n",
    "    entries = list(map(int, input().split()))\n",
    "    matrix_1 = np.array(entries).reshape(rows_a,columns_a)\n",
    "    print(f'Matrix transpose of {matrix_1} is\\n {np.transpose(matrix_1)}')\n",
    "    \n",
    "print(f'Dimensions for Matrix A\\n')\n",
    "rows_a = int(input('No. of rows: '))\n",
    "columns_a = int(input('No. of columns: '))"
   ]
  },
  {
   "cell_type": "code",
   "execution_count": 6,
   "metadata": {},
   "outputs": [
    {
     "ename": "IndentationError",
     "evalue": "expected an indented block after function definition on line 11 (1979947566.py, line 14)",
     "output_type": "error",
     "traceback": [
      "\u001b[1;36m  Cell \u001b[1;32mIn[6], line 14\u001b[1;36m\u001b[0m\n\u001b[1;33m    choice = input(\"Do you want to generate matrix of\\n1. Float datatype\\n2. Integer datatype\")\u001b[0m\n\u001b[1;37m    ^\u001b[0m\n\u001b[1;31mIndentationError\u001b[0m\u001b[1;31m:\u001b[0m expected an indented block after function definition on line 11\n"
     ]
    }
   ],
   "source": [
    "\"\"\"Function to perform matrix factorization using Singular Value decomposition\"\"\"\n",
    "\n",
    "def generate_matrix(choice, rows, columns):\n",
    "    if choice == 1:\n",
    "        matrix = np.random.rand(rows,columns)\n",
    "    else:\n",
    "        matrix = np.random.randint(size=(rows,columns))\n",
    "        \n",
    "    matrix_factorization(matrix)\n",
    "    \n",
    "def matrix_factorization(matrix):\n",
    "    u, s, v = np.linalg.svd(matrix)\n",
    "    print(f\"u: {u}\\n\\ns: {s}\\n\\nv: {v}\\n\")\n",
    "    reconstruct_matrix(u,s,v)\n",
    "\n",
    "def reconstruct_matrix(u,s,v):\n",
    "    reconstruct = np.dot(u, np.dot(np.diag(s), v))\n",
    "    print(f'\\nReconstructed Matrix: {reconstruct}')\n",
    "      \n",
    "    \n",
    "choice = input(\"Do you want to generate matrix of\\n1. Float datatype\\n2. Integer datatype\")    \n",
    "\n",
    "if choice == 'Float datatype':\n",
    "    choice = 1\n",
    "else:\n",
    "    choice = 0\n",
    "    \n",
    "rows= int(input('No. of rows: '))\n",
    "columns = int(input('No. of columns: '))\n",
    "generate_matrix(choice,rows,columns)"
   ]
  },
  {
   "cell_type": "code",
   "execution_count": null,
   "metadata": {},
   "outputs": [],
   "source": []
  }
 ],
 "metadata": {
  "kernelspec": {
   "display_name": "Python 3",
   "language": "python",
   "name": "python3"
  },
  "language_info": {
   "codemirror_mode": {
    "name": "ipython",
    "version": 3
   },
   "file_extension": ".py",
   "mimetype": "text/x-python",
   "name": "python",
   "nbconvert_exporter": "python",
   "pygments_lexer": "ipython3",
   "version": "3.12.0"
  }
 },
 "nbformat": 4,
 "nbformat_minor": 2
}
