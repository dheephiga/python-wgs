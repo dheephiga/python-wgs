{
 "cells": [
  {
   "cell_type": "markdown",
   "metadata": {},
   "source": [
    "Name: Dheephiga A M\n"
   ]
  },
  {
   "cell_type": "markdown",
   "metadata": {},
   "source": [
    "Temp ID: WDGET2024067\n"
   ]
  },
  {
   "cell_type": "markdown",
   "metadata": {},
   "source": [
    "Task 3"
   ]
  },
  {
   "cell_type": "code",
   "execution_count": 15,
   "metadata": {},
   "outputs": [
    {
     "name": "stdout",
     "output_type": "stream",
     "text": [
      "The rectangle is of dimension 32x10\n",
      "Area of the rectangle is 320 units\n",
      "Perimeter of the rectangle is 84 units\n"
     ]
    }
   ],
   "source": [
    "\"\"\" \n",
    "A class to calculate the area\n",
    "and perimeter of a rectangle\n",
    "\"\"\"\n",
    "class Rectangle:\n",
    "    def __init__(self,breadth,length):\n",
    "        self.breadth = breadth \n",
    "        self.length = length\n",
    "    \n",
    "    def area(self):\n",
    "        return self.breadth*self.length\n",
    "    \n",
    "    def perimeter(self):\n",
    "        return (2*(self.length+self.breadth))\n",
    "\n",
    "rectangle1 = Rectangle(10,32)\n",
    "print(f'The rectangle is of dimension {rectangle1.length}x{rectangle1.breadth}\\nArea of the rectangle is {rectangle1.area()} units\\nPerimeter of the rectangle is {rectangle1.perimeter()} units')"
   ]
  },
  {
   "cell_type": "code",
   "execution_count": 2,
   "metadata": {},
   "outputs": [
    {
     "name": "stdout",
     "output_type": "stream",
     "text": [
      "Error: division by zero\n"
     ]
    }
   ],
   "source": [
    "\"\"\"\n",
    "Exception handling for \n",
    "zero division error\n",
    "\"\"\"\n",
    "a = 9\n",
    "b = 0\n",
    "\n",
    "try:\n",
    "    print(a/b)\n",
    "\n",
    "except Exception as e:\n",
    "    print(f'Error: {e}')"
   ]
  },
  {
   "cell_type": "code",
   "execution_count": 17,
   "metadata": {},
   "outputs": [
    {
     "name": "stdout",
     "output_type": "stream",
     "text": [
      "Function Greet_User execution started at 1711817637.9702613\n",
      "Function has the args John,NY\n",
      "Function has the kwargs \n",
      "Function Greet_User execution ended at 1711817637.9702613\n",
      "Hey John, NY this function is running under a decorator property!\n",
      "\n",
      "Using keyword args\n",
      "\n",
      "Function Greet_User execution started at 1711817637.9712613\n",
      "Function has the args \n",
      "Function has the kwargs name: Jane, city: Delhi\n",
      "Function Greet_User execution ended at 1711817637.9712613\n",
      "Hey Jane, Delhi this function is running under a decorator property!\n"
     ]
    }
   ],
   "source": [
    "\"\"\"\n",
    "Decorator function which\n",
    "does sample functions before\n",
    "executing a function\n",
    "\"\"\"\n",
    "import time\n",
    "def Precursor(fn):\n",
    "    def wrapper(*args,**kwargs):\n",
    "        args_val = ','.join(str(arg) for arg in args)\n",
    "        kwargs_val = ', '.join(f'{k}: {v}' for k,v in kwargs.items())\n",
    "        print(f'Function {fn.__name__} execution started at {time.time()}')\n",
    "        print(f'Function has the args {args_val}')\n",
    "        print(f'Function has the kwargs {kwargs_val}')\n",
    "        print(f'Function {fn.__name__} execution ended at {time.time()}')\n",
    "        return fn(*args,**kwargs)\n",
    "    return wrapper\n",
    "\n",
    "@Precursor\n",
    "def Greet_User(name,city):\n",
    "    print(f'Hey {name}, {city} this function is running under a decorator property!') \n",
    "\n",
    "Greet_User('John', 'NY')\n",
    "print('\\nUsing keyword args\\n')\n",
    "Greet_User(name='Jane',city='Delhi')"
   ]
  },
  {
   "cell_type": "code",
   "execution_count": 18,
   "metadata": {},
   "outputs": [
    {
     "name": "stdout",
     "output_type": "stream",
     "text": [
      "Fibonacci numbers between, 1 and 10 : [1, 1, 2, 3, 5, 8]\n"
     ]
    }
   ],
   "source": [
    "\"\"\"\n",
    "Fibonacci Generator\n",
    "\"\"\"\n",
    "def fibonacci_generator(lower, upper):\n",
    "    a, b = 0, 1\n",
    "    while a <= upper:\n",
    "        if a >= lower:\n",
    "            yield a\n",
    "        a, b = b, a + b\n",
    "\n",
    "\n",
    "lower_limit = int(input(\"lower limit: \"))\n",
    "upper_limit = int(input(\"upper limit: \"))\n",
    "fibonacci_result = list(fibonacci_generator(lower_limit, upper_limit))\n",
    "print(f'Fibonacci numbers between, {lower_limit} and {upper_limit} : {fibonacci_result}')\n"
   ]
  },
  {
   "cell_type": "code",
   "execution_count": 20,
   "metadata": {},
   "outputs": [
    {
     "name": "stdout",
     "output_type": "stream",
     "text": [
      "e\n",
      "o\n",
      "o\n",
      "a\n",
      "e\n",
      "o\n",
      "u\n"
     ]
    }
   ],
   "source": [
    "\"\"\"\n",
    "Vowel Iterator\n",
    "\"\"\"\n",
    "\n",
    "class Vowels:\n",
    "    def __init__(self, text):\n",
    "        self.text = text\n",
    "        self.index = 0\n",
    "\n",
    "    def __iter__(self):\n",
    "        return self\n",
    "\n",
    "    def __next__(self):\n",
    "        vowels = 'aeiou'\n",
    "        while self.index < len(self.text):\n",
    "            char = self.text[self.index]\n",
    "            self.index += 1\n",
    "            if char.lower() in vowels:\n",
    "                return char\n",
    "        raise StopIteration\n",
    "\n",
    "text_to_iterate = \"Hello, how are you?\"\n",
    "vowel_iterator = Vowels(text_to_iterate)\n",
    "\n",
    "for vowel in vowel_iterator:\n",
    "    print(vowel)"
   ]
  }
 ],
 "metadata": {
  "kernelspec": {
   "display_name": "Python 3",
   "language": "python",
   "name": "python3"
  },
  "language_info": {
   "codemirror_mode": {
    "name": "ipython",
    "version": 3
   },
   "file_extension": ".py",
   "mimetype": "text/x-python",
   "name": "python",
   "nbconvert_exporter": "python",
   "pygments_lexer": "ipython3",
   "version": "3.12.0"
  }
 },
 "nbformat": 4,
 "nbformat_minor": 2
}
