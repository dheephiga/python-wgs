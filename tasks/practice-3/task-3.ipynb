{
 "cells": [
  {
   "cell_type": "markdown",
   "metadata": {},
   "source": []
  },
  {
   "cell_type": "code",
   "execution_count": 15,
   "metadata": {},
   "outputs": [
    {
     "name": "stdout",
     "output_type": "stream",
     "text": [
      "The rectangle is of dimension 32x10\n",
      "Area of the rectangle is 320 units\n",
      "Perimeter of the rectangle is 84 units\n"
     ]
    }
   ],
   "source": [
    "\"\"\" \n",
    "A class to calculate the area\n",
    "and perimeter of a rectangle\n",
    "\"\"\"\n",
    "class Rectangle:\n",
    "    def __init__(self,breadth,length):\n",
    "        self.breadth = breadth \n",
    "        self.length = length\n",
    "    \n",
    "    def area(self):\n",
    "        return self.breadth*self.length\n",
    "    \n",
    "    def perimeter(self):\n",
    "        return (2*(self.length+self.breadth))\n",
    "\n",
    "rectangle1 = Rectangle(10,32)\n",
    "print(f'The rectangle is of dimension {rectangle1.length}x{rectangle1.breadth}\\nArea of the rectangle is {rectangle1.area()} units\\nPerimeter of the rectangle is {rectangle1.perimeter()} units')"
   ]
  },
  {
   "cell_type": "code",
   "execution_count": 13,
   "metadata": {},
   "outputs": [
    {
     "name": "stdout",
     "output_type": "stream",
     "text": [
      "The rectangle is of dimension 32x10\n",
      " Area of the rectangle is 320 units\n",
      " Perimeter of the rectangle is 84 units\n"
     ]
    }
   ],
   "source": []
  }
 ],
 "metadata": {
  "kernelspec": {
   "display_name": "Python 3",
   "language": "python",
   "name": "python3"
  },
  "language_info": {
   "codemirror_mode": {
    "name": "ipython",
    "version": 3
   },
   "file_extension": ".py",
   "mimetype": "text/x-python",
   "name": "python",
   "nbconvert_exporter": "python",
   "pygments_lexer": "ipython3",
   "version": "3.12.0"
  }
 },
 "nbformat": 4,
 "nbformat_minor": 2
}
