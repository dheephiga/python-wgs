{
 "cells": [
  {
   "cell_type": "markdown",
   "metadata": {},
   "source": [
    "### Name: Dheephiga A M \n",
    "### Worldline Temp ID: WDGET2024067\n",
    "### Assessment - 2"
   ]
  },
  {
   "cell_type": "markdown",
   "metadata": {},
   "source": [
    "### Numpy"
   ]
  },
  {
   "cell_type": "code",
   "execution_count": 1,
   "metadata": {},
   "outputs": [],
   "source": [
    "import numpy as np\n",
    "import pandas as pd"
   ]
  },
  {
   "cell_type": "code",
   "execution_count": 8,
   "metadata": {},
   "outputs": [
    {
     "data": {
      "text/plain": [
       "array([88, 47, 31,  9, 82, 28, 22, 87, 78, 32, 69, 52, 58, 83, 69, 43, 41,\n",
       "        3, 89, 88])"
      ]
     },
     "execution_count": 8,
     "metadata": {},
     "output_type": "execute_result"
    }
   ],
   "source": [
    "array1 = np.random.randint(1,101, size=(20))"
   ]
  },
  {
   "cell_type": "code",
   "execution_count": 20,
   "metadata": {},
   "outputs": [
    {
     "data": {
      "text/plain": [
       "array([[88, 47, 31,  9, 82],\n",
       "       [28, 22, 87, 78, 32],\n",
       "       [69, 52, 58, 83, 69],\n",
       "       [43, 41,  3, 89, 88]])"
      ]
     },
     "execution_count": 20,
     "metadata": {},
     "output_type": "execute_result"
    }
   ],
   "source": [
    "#reshaping the array\n",
    "matrix1 = array1.reshape(4,5)\n",
    "matrix1"
   ]
  },
  {
   "cell_type": "code",
   "execution_count": 17,
   "metadata": {},
   "outputs": [
    {
     "name": "stdout",
     "output_type": "stream",
     "text": [
      "mean of matrix: 54.95\n",
      "median of matrix: 55.0\n",
      "mean of matrix: 27.34680054412216\n"
     ]
    }
   ],
   "source": [
    "#mean, median, standard deviation of the matrix\n",
    "print(f'mean of matrix: {matrix1.mean()}')\n",
    "print(f'median of matrix: {np.median(matrix1)}')\n",
    "print(f'mean of matrix: {matrix1.std()}')"
   ]
  },
  {
   "cell_type": "code",
   "execution_count": 19,
   "metadata": {},
   "outputs": [
    {
     "data": {
      "text/plain": [
       "array([[1., 0., 0.],\n",
       "       [0., 1., 0.],\n",
       "       [0., 0., 1.]])"
      ]
     },
     "execution_count": 19,
     "metadata": {},
     "output_type": "execute_result"
    }
   ],
   "source": [
    "#3x3 identity matrix\n",
    "identityMatrix = np.eye(3)\n",
    "identityMatrix"
   ]
  },
  {
   "cell_type": "code",
   "execution_count": 22,
   "metadata": {},
   "outputs": [
    {
     "data": {
      "text/plain": [
       "array([0.        , 0.55555556, 1.11111111, 1.66666667, 2.22222222,\n",
       "       2.77777778, 3.33333333, 3.88888889, 4.44444444, 5.        ])"
      ]
     },
     "execution_count": 22,
     "metadata": {},
     "output_type": "execute_result"
    }
   ],
   "source": [
    "#evenly spaced numbers\n",
    "array3 = np.linspace(0,5,10)\n",
    "array3"
   ]
  },
  {
   "cell_type": "code",
   "execution_count": 35,
   "metadata": {},
   "outputs": [
    {
     "data": {
      "text/plain": [
       "array([-1,  1, -1,  3, -1,  5, -1,  7, -1,  9])"
      ]
     },
     "execution_count": 35,
     "metadata": {},
     "output_type": "execute_result"
    }
   ],
   "source": [
    "#replacing values in an array\n",
    "array4 = np.arange(0,10)\n",
    "array4 = np.where(array4 % 2 == 0, -1, array4)\n",
    "array4"
   ]
  },
  {
   "cell_type": "code",
   "execution_count": 44,
   "metadata": {},
   "outputs": [
    {
     "name": "stdout",
     "output_type": "stream",
     "text": [
      "Dot product of the matrices:\n",
      "[[11  6  4]\n",
      " [27 16 10]\n",
      " [43 26 16]]\n"
     ]
    }
   ],
   "source": [
    "#dot product of 2 matrices\n",
    "mat1 = np.array([[1,2],\n",
    "                [3,4],\n",
    "                [5,6]])\n",
    "# print(np.shape(mat1))\n",
    "mat2 = np.array([[5,4,2],\n",
    "                 [3,1,1]])\n",
    "# print(np.shape(mat2))\n",
    "print(f'Dot product of the matrices:\\n{np.dot(mat1,mat2)}')"
   ]
  },
  {
   "cell_type": "code",
   "execution_count": 46,
   "metadata": {},
   "outputs": [
    {
     "name": "stdout",
     "output_type": "stream",
     "text": [
      "Maximum value is 89\n",
      "Index is 18\n",
      "Minimum value is 3\n",
      "Index is 17\n"
     ]
    }
   ],
   "source": [
    "#finding the indices of the min and max values in the array\n",
    "max_value = np.max(array1)\n",
    "max_index = np.argmax(array1)\n",
    "\n",
    "min_value = np.min(array1)\n",
    "min_index = np.argmin(array1)\n",
    "\n",
    "print(f'Maximum value is {max_value}\\nIndex is {max_index}')\n",
    "print(f'Minimum value is {min_value}\\nIndex is {min_index}')"
   ]
  },
  {
   "cell_type": "code",
   "execution_count": 51,
   "metadata": {},
   "outputs": [
    {
     "data": {
      "text/plain": [
       "array([31, 32, 33, 34, 35, 36, 37, 38, 39, 40, 41, 42, 43, 44, 45, 46, 47,\n",
       "       48, 49, 50])"
      ]
     },
     "execution_count": 51,
     "metadata": {},
     "output_type": "execute_result"
    }
   ],
   "source": [
    "#using filter in an array\n",
    "array5 = np.arange(1,51)\n",
    "array6 = array5[array5>30]\n",
    "array6"
   ]
  },
  {
   "cell_type": "code",
   "execution_count": null,
   "metadata": {},
   "outputs": [],
   "source": []
  }
 ],
 "metadata": {
  "kernelspec": {
   "display_name": "Python 3",
   "language": "python",
   "name": "python3"
  },
  "language_info": {
   "codemirror_mode": {
    "name": "ipython",
    "version": 3
   },
   "file_extension": ".py",
   "mimetype": "text/x-python",
   "name": "python",
   "nbconvert_exporter": "python",
   "pygments_lexer": "ipython3",
   "version": "3.12.0"
  }
 },
 "nbformat": 4,
 "nbformat_minor": 2
}
