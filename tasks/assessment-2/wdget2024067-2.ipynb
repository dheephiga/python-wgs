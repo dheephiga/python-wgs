{
 "cells": [
  {
   "cell_type": "markdown",
   "metadata": {},
   "source": [
    "### Name: Dheephiga A M\n"
   ]
  },
  {
   "cell_type": "markdown",
   "metadata": {},
   "source": [
    "### Worldline Temp ID: WDGET2024067\n"
   ]
  },
  {
   "cell_type": "markdown",
   "metadata": {},
   "source": [
    "### Assessment - 2"
   ]
  },
  {
   "cell_type": "markdown",
   "metadata": {},
   "source": [
    "### Task -1"
   ]
  },
  {
   "cell_type": "code",
   "execution_count": 2,
   "metadata": {},
   "outputs": [],
   "source": [
    "import numpy as np\n",
    "import pandas as pd"
   ]
  },
  {
   "cell_type": "markdown",
   "metadata": {},
   "source": [
    "creating a numpy array of 10 random integers between 1 to 100"
   ]
  },
  {
   "cell_type": "code",
   "execution_count": 12,
   "metadata": {},
   "outputs": [
    {
     "name": "stdout",
     "output_type": "stream",
     "text": [
      "[10 91 29 94 63 22 63  2  1 56]\n"
     ]
    }
   ],
   "source": [
    "array = np.random.randint(low=1,high=101,size=(10,))\n",
    "print(array)"
   ]
  },
  {
   "cell_type": "markdown",
   "metadata": {},
   "source": [
    "Reshaping the array to 2x5 matrix"
   ]
  },
  {
   "cell_type": "code",
   "execution_count": 52,
   "metadata": {},
   "outputs": [],
   "source": [
    "rearray1= array.reshape(2,5)"
   ]
  },
  {
   "cell_type": "markdown",
   "metadata": {},
   "source": [
    "assigning a repeated value to perform removing duplicates as next step"
   ]
  },
  {
   "cell_type": "code",
   "execution_count": 39,
   "metadata": {},
   "outputs": [
    {
     "name": "stdout",
     "output_type": "stream",
     "text": [
      "[[10 91 29 94 63]\n",
      " [10 63  2  1 56]]\n"
     ]
    }
   ],
   "source": [
    "rearray1[1,0] = 10\n",
    "print(rearray1)"
   ]
  },
  {
   "cell_type": "markdown",
   "metadata": {},
   "source": [
    "Removing duplicates from the matrix"
   ]
  },
  {
   "cell_type": "code",
   "execution_count": 84,
   "metadata": {},
   "outputs": [
    {
     "name": "stdout",
     "output_type": "stream",
     "text": [
      "    0\n",
      "0  10\n",
      "1  91\n",
      "2  29\n",
      "3  94\n",
      "4  63\n",
      "5   2\n",
      "6   1\n",
      "7  56\n"
     ]
    }
   ],
   "source": [
    "df = pd.DataFrame(rearray1)\n",
    "unique_elements = pd.DataFrame(df.stack().unique())\n",
    "df = unique_elements\n",
    "print(unique_elements)"
   ]
  },
  {
   "cell_type": "markdown",
   "metadata": {},
   "source": [
    "Arranging in ascending and descending order"
   ]
  },
  {
   "cell_type": "code",
   "execution_count": 85,
   "metadata": {},
   "outputs": [
    {
     "data": {
      "text/html": [
       "<div>\n",
       "<style scoped>\n",
       "    .dataframe tbody tr th:only-of-type {\n",
       "        vertical-align: middle;\n",
       "    }\n",
       "\n",
       "    .dataframe tbody tr th {\n",
       "        vertical-align: top;\n",
       "    }\n",
       "\n",
       "    .dataframe thead th {\n",
       "        text-align: right;\n",
       "    }\n",
       "</style>\n",
       "<table border=\"1\" class=\"dataframe\">\n",
       "  <thead>\n",
       "    <tr style=\"text-align: right;\">\n",
       "      <th></th>\n",
       "      <th>0</th>\n",
       "    </tr>\n",
       "  </thead>\n",
       "  <tbody>\n",
       "    <tr>\n",
       "      <th>6</th>\n",
       "      <td>1</td>\n",
       "    </tr>\n",
       "    <tr>\n",
       "      <th>5</th>\n",
       "      <td>2</td>\n",
       "    </tr>\n",
       "    <tr>\n",
       "      <th>0</th>\n",
       "      <td>10</td>\n",
       "    </tr>\n",
       "    <tr>\n",
       "      <th>2</th>\n",
       "      <td>29</td>\n",
       "    </tr>\n",
       "    <tr>\n",
       "      <th>7</th>\n",
       "      <td>56</td>\n",
       "    </tr>\n",
       "    <tr>\n",
       "      <th>4</th>\n",
       "      <td>63</td>\n",
       "    </tr>\n",
       "    <tr>\n",
       "      <th>1</th>\n",
       "      <td>91</td>\n",
       "    </tr>\n",
       "    <tr>\n",
       "      <th>3</th>\n",
       "      <td>94</td>\n",
       "    </tr>\n",
       "  </tbody>\n",
       "</table>\n",
       "</div>"
      ],
      "text/plain": [
       "    0\n",
       "6   1\n",
       "5   2\n",
       "0  10\n",
       "2  29\n",
       "7  56\n",
       "4  63\n",
       "1  91\n",
       "3  94"
      ]
     },
     "execution_count": 85,
     "metadata": {},
     "output_type": "execute_result"
    }
   ],
   "source": [
    "df.sort_values(by=0,ascending=True)\n"
   ]
  },
  {
   "cell_type": "code",
   "execution_count": 86,
   "metadata": {},
   "outputs": [
    {
     "data": {
      "text/html": [
       "<div>\n",
       "<style scoped>\n",
       "    .dataframe tbody tr th:only-of-type {\n",
       "        vertical-align: middle;\n",
       "    }\n",
       "\n",
       "    .dataframe tbody tr th {\n",
       "        vertical-align: top;\n",
       "    }\n",
       "\n",
       "    .dataframe thead th {\n",
       "        text-align: right;\n",
       "    }\n",
       "</style>\n",
       "<table border=\"1\" class=\"dataframe\">\n",
       "  <thead>\n",
       "    <tr style=\"text-align: right;\">\n",
       "      <th></th>\n",
       "      <th>0</th>\n",
       "    </tr>\n",
       "  </thead>\n",
       "  <tbody>\n",
       "    <tr>\n",
       "      <th>3</th>\n",
       "      <td>94</td>\n",
       "    </tr>\n",
       "    <tr>\n",
       "      <th>1</th>\n",
       "      <td>91</td>\n",
       "    </tr>\n",
       "    <tr>\n",
       "      <th>4</th>\n",
       "      <td>63</td>\n",
       "    </tr>\n",
       "    <tr>\n",
       "      <th>7</th>\n",
       "      <td>56</td>\n",
       "    </tr>\n",
       "    <tr>\n",
       "      <th>2</th>\n",
       "      <td>29</td>\n",
       "    </tr>\n",
       "    <tr>\n",
       "      <th>0</th>\n",
       "      <td>10</td>\n",
       "    </tr>\n",
       "    <tr>\n",
       "      <th>5</th>\n",
       "      <td>2</td>\n",
       "    </tr>\n",
       "    <tr>\n",
       "      <th>6</th>\n",
       "      <td>1</td>\n",
       "    </tr>\n",
       "  </tbody>\n",
       "</table>\n",
       "</div>"
      ],
      "text/plain": [
       "    0\n",
       "3  94\n",
       "1  91\n",
       "4  63\n",
       "7  56\n",
       "2  29\n",
       "0  10\n",
       "5   2\n",
       "6   1"
      ]
     },
     "execution_count": 86,
     "metadata": {},
     "output_type": "execute_result"
    }
   ],
   "source": [
    "df.sort_values(by=0,ascending = False)"
   ]
  },
  {
   "cell_type": "markdown",
   "metadata": {},
   "source": [
    "## Task -2"
   ]
  },
  {
   "cell_type": "markdown",
   "metadata": {},
   "source": [
    "Creating a numpy array containing 10 float numbers from 1 to 50"
   ]
  },
  {
   "cell_type": "code",
   "execution_count": 35,
   "metadata": {},
   "outputs": [
    {
     "name": "stdout",
     "output_type": "stream",
     "text": [
      "[28.97428117 40.03167239  6.29880515  1.06850485 34.87333199 13.45359714\n",
      " 42.76996046 16.94432576 28.35985222 35.23776553]\n"
     ]
    }
   ],
   "source": [
    "array2 = np.random.rand(10) * 49 +1\n",
    "print(array2)"
   ]
  },
  {
   "cell_type": "markdown",
   "metadata": {},
   "source": [
    "reshaping it to 2x5 matrix"
   ]
  },
  {
   "cell_type": "code",
   "execution_count": 37,
   "metadata": {},
   "outputs": [
    {
     "name": "stdout",
     "output_type": "stream",
     "text": [
      "[[28.97428117 40.03167239  6.29880515  1.06850485 34.87333199]\n",
      " [13.45359714 42.76996046 16.94432576 28.35985222 35.23776553]]\n"
     ]
    }
   ],
   "source": [
    "rearray2= array2.reshape(2,5)\n",
    "print(rearray2)"
   ]
  },
  {
   "cell_type": "markdown",
   "metadata": {},
   "source": [
    "Calculating max, min,sum, mean and standard deviation in both axes"
   ]
  },
  {
   "cell_type": "code",
   "execution_count": 90,
   "metadata": {},
   "outputs": [
    {
     "name": "stdout",
     "output_type": "stream",
     "text": [
      "Maximum values [40.03167239 42.76996046]\n",
      "Minimum values [ 1.06850485 13.45359714]\n",
      "Mean [22.24931911 27.35310022]\n",
      "Standard Deviation [15.64511868 10.9763368 ]\n",
      "Sum [111.24659554 136.76550111]\n"
     ]
    }
   ],
   "source": [
    "print(f'Maximum values {rearray2.max(axis=1)}')\n",
    "print(f'Minimum values {rearray2.min(axis=1)}')\n",
    "print(f'Mean {rearray2.mean(axis=1)}')\n",
    "print(f'Standard Deviation {rearray2.std(axis=1)}')\n",
    "print(f'Sum {rearray2.sum(axis=1)}')"
   ]
  },
  {
   "cell_type": "markdown",
   "metadata": {},
   "source": [
    "## Task - 3"
   ]
  },
  {
   "cell_type": "markdown",
   "metadata": {},
   "source": [
    "Creating a fruits dataframe from dictionary"
   ]
  },
  {
   "cell_type": "code",
   "execution_count": 105,
   "metadata": {},
   "outputs": [
    {
     "name": "stdout",
     "output_type": "stream",
     "text": [
      "        quantity\n",
      "apple          4\n",
      "orange         9\n",
      "cherry         7\n",
      "pine          12\n"
     ]
    }
   ],
   "source": [
    "fruits = {'apple':4,'orange':9,'cherry':7,'pine':12}\n",
    "fruits = pd.DataFrame.from_dict(fruits,orient='index', columns=['quantity'])\n",
    "print(fruits)"
   ]
  },
  {
   "cell_type": "markdown",
   "metadata": {},
   "source": [
    "creating a new column price per unit and assigning random values to it"
   ]
  },
  {
   "cell_type": "code",
   "execution_count": 100,
   "metadata": {},
   "outputs": [
    {
     "name": "stdout",
     "output_type": "stream",
     "text": [
      "        quantity  price/unit\n",
      "apple          4   62.115721\n",
      "orange         9   28.700729\n",
      "cherry         7   23.280650\n",
      "pine          12   40.983930\n"
     ]
    }
   ],
   "source": [
    "fruits['price/unit'] = np.random.uniform(low=15,high=67,size=len(fruits))\n",
    "print(fruits)"
   ]
  },
  {
   "cell_type": "code",
   "execution_count": 103,
   "metadata": {},
   "outputs": [
    {
     "name": "stdout",
     "output_type": "stream",
     "text": [
      "        quantity  price/unit  total_cost\n",
      "apple          4   62.115721  248.462883\n",
      "orange         9   28.700729  258.306559\n",
      "cherry         7   23.280650  162.964547\n",
      "pine          12   40.983930  491.807155\n"
     ]
    }
   ],
   "source": [
    "fruits['total_cost'] = fruits['quantity'] * fruits['price/unit']\n",
    "print(fruits)"
   ]
  },
  {
   "cell_type": "code",
   "execution_count": 104,
   "metadata": {},
   "outputs": [
    {
     "name": "stdout",
     "output_type": "stream",
     "text": [
      "        quantity  price/unit  total_cost\n",
      "pine          12   40.983930  491.807155\n",
      "orange         9   28.700729  258.306559\n",
      "apple          4   62.115721  248.462883\n",
      "cherry         7   23.280650  162.964547\n"
     ]
    }
   ],
   "source": [
    "sorted_fruits= fruits.sort_values(by='total_cost', ascending=False)\n",
    "print(sorted_fruits)"
   ]
  },
  {
   "cell_type": "markdown",
   "metadata": {},
   "source": [
    "## Task - 4"
   ]
  },
  {
   "cell_type": "markdown",
   "metadata": {},
   "source": [
    "Creating a dataframe of colors and frequencies"
   ]
  },
  {
   "cell_type": "code",
   "execution_count": 108,
   "metadata": {},
   "outputs": [
    {
     "name": "stdout",
     "output_type": "stream",
     "text": [
      "         freq\n",
      "yellow      8\n",
      "purple      5\n",
      "teal        6\n",
      "magenta     3\n"
     ]
    }
   ],
   "source": [
    "colours = {'yellow': 8, 'purple': 5, 'teal': 6, 'magenta': 3}\n",
    "colors= pd.DataFrame.from_dict(colours, orient='index', columns=['freq'])\n",
    "print(colors)"
   ]
  },
  {
   "cell_type": "markdown",
   "metadata": {},
   "source": [
    "creating a column to add hexcodes of the colors"
   ]
  },
  {
   "cell_type": "code",
   "execution_count": 112,
   "metadata": {},
   "outputs": [
    {
     "name": "stdout",
     "output_type": "stream",
     "text": [
      "         freq hex_Values\n",
      "yellow      8   #po78561\n",
      "purple      5    #7848ed\n",
      "teal        6   #25588fe\n",
      "magenta     3   #uh71369\n"
     ]
    }
   ],
   "source": [
    "colors['hex_Values'] = ['#po78561','#7848ed','#25588fe','#uh71369']\n",
    "print(colors)"
   ]
  },
  {
   "cell_type": "markdown",
   "metadata": {},
   "source": [
    "Sorting based on frequency in descending"
   ]
  },
  {
   "cell_type": "code",
   "execution_count": 114,
   "metadata": {},
   "outputs": [
    {
     "name": "stdout",
     "output_type": "stream",
     "text": [
      "         freq hex_Values\n",
      "yellow      8   #po78561\n",
      "teal        6   #25588fe\n",
      "purple      5    #7848ed\n",
      "magenta     3   #uh71369\n"
     ]
    }
   ],
   "source": [
    "sorted_Colors = colors.sort_values(by='freq',ascending=False)\n",
    "print(sorted_Colors)"
   ]
  },
  {
   "cell_type": "markdown",
   "metadata": {},
   "source": [
    "Calculating cumulative sum of frequencies"
   ]
  },
  {
   "cell_type": "code",
   "execution_count": 115,
   "metadata": {},
   "outputs": [
    {
     "name": "stdout",
     "output_type": "stream",
     "text": [
      "yellow      8\n",
      "purple     13\n",
      "teal       19\n",
      "magenta    22\n",
      "Name: freq, dtype: int64\n"
     ]
    }
   ],
   "source": [
    "cumulative_freq = colors['freq'].cumsum()\n",
    "print(cumulative_freq)"
   ]
  }
 ],
 "metadata": {
  "kernelspec": {
   "display_name": "Python 3",
   "language": "python",
   "name": "python3"
  },
  "language_info": {
   "codemirror_mode": {
    "name": "ipython",
    "version": 3
   },
   "file_extension": ".py",
   "mimetype": "text/x-python",
   "name": "python",
   "nbconvert_exporter": "python",
   "pygments_lexer": "ipython3",
   "version": "3.12.0"
  }
 },
 "nbformat": 4,
 "nbformat_minor": 2
}
