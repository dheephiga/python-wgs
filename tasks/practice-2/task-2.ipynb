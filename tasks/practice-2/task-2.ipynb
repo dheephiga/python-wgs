{
 "cells": [
  {
   "cell_type": "code",
   "execution_count": 2,
   "metadata": {},
   "outputs": [],
   "source": [
    "import numpy as np\n",
    "import pandas as pd"
   ]
  },
  {
   "cell_type": "markdown",
   "metadata": {},
   "source": [
    "## Array Operations\n"
   ]
  },
  {
   "cell_type": "code",
   "execution_count": 11,
   "metadata": {},
   "outputs": [
    {
     "name": "stdout",
     "output_type": "stream",
     "text": [
      "[[8 2 5]\n",
      " [8 4 6]\n",
      " [5 4 2]]\n",
      "[[4 8 5]\n",
      " [2 8 6]\n",
      " [3 8 5]]\n"
     ]
    }
   ],
   "source": [
    "arr1 = np.random.randint(10,size=(3,3))\n",
    "arr2 = np.random.randint(10,size=(3,3))\n",
    "print(arr1)\n",
    "print(arr2)"
   ]
  },
  {
   "cell_type": "code",
   "execution_count": 12,
   "metadata": {},
   "outputs": [
    {
     "name": "stdout",
     "output_type": "stream",
     "text": [
      "[[12 10 10]\n",
      " [10 12 12]\n",
      " [ 8 12  7]]\n",
      "[[12 10 10]\n",
      " [10 12 12]\n",
      " [ 8 12  7]]\n"
     ]
    }
   ],
   "source": [
    "print(arr1+arr2)\n",
    "print(np.add(arr1,arr2))"
   ]
  },
  {
   "cell_type": "code",
   "execution_count": 15,
   "metadata": {},
   "outputs": [
    {
     "name": "stdout",
     "output_type": "stream",
     "text": [
      "[[ 4 -6  0]\n",
      " [ 6 -4  0]\n",
      " [ 2 -4 -3]]\n",
      "[[ 4 -6  0]\n",
      " [ 6 -4  0]\n",
      " [ 2 -4 -3]]\n"
     ]
    }
   ],
   "source": [
    "print(arr1-arr2)\n",
    "print(np.subtract(arr1,arr2))"
   ]
  },
  {
   "cell_type": "code",
   "execution_count": 13,
   "metadata": {},
   "outputs": [
    {
     "name": "stdout",
     "output_type": "stream",
     "text": [
      "[[ 51 120  77]\n",
      " [ 58 144  94]\n",
      " [ 34  88  59]]\n",
      "[[32 16 25]\n",
      " [16 32 36]\n",
      " [15 32 10]]\n"
     ]
    }
   ],
   "source": [
    "print(np.dot(arr1,arr2))\n",
    "print(np.multiply(arr1,arr2))"
   ]
  },
  {
   "cell_type": "code",
   "execution_count": 14,
   "metadata": {},
   "outputs": [
    {
     "name": "stdout",
     "output_type": "stream",
     "text": [
      "[[0 2 0]\n",
      " [0 4 0]\n",
      " [2 4 2]]\n"
     ]
    }
   ],
   "source": [
    "print(np.mod(arr1,arr2))"
   ]
  },
  {
   "cell_type": "markdown",
   "metadata": {},
   "source": [
    "## Statistical Analysis"
   ]
  },
  {
   "cell_type": "code",
   "execution_count": 26,
   "metadata": {},
   "outputs": [
    {
     "name": "stdout",
     "output_type": "stream",
     "text": [
      "[2 1 8 6 8 1 7 9 6 1 0 6 3 5 3 8 6 6 0 8]\n"
     ]
    }
   ],
   "source": [
    "array = np.array(np.random.randint(10,size=20))\n",
    "print(array)"
   ]
  },
  {
   "cell_type": "code",
   "execution_count": 31,
   "metadata": {},
   "outputs": [
    {
     "name": "stdout",
     "output_type": "stream",
     "text": [
      "Median of array = 6.0\n",
      "Mean of array = 4.7\n",
      "Standard deviation of array = 2.951270912674741\n",
      "Variance of array = 8.709999999999999\n"
     ]
    }
   ],
   "source": [
    "print(f'Median of array = {np.median(array)}')\n",
    "print(f'Mean of array = {np.mean(array)}')\n",
    "print(f'Standard deviation of array = {np.std(array)}')\n",
    "print(f'Variance of array = {np.var(array)}')"
   ]
  },
  {
   "cell_type": "markdown",
   "metadata": {},
   "source": [
    "## Matrix Manipulation"
   ]
  },
  {
   "cell_type": "code",
   "execution_count": null,
   "metadata": {},
   "outputs": [],
   "source": []
  }
 ],
 "metadata": {
  "kernelspec": {
   "display_name": "Python 3",
   "language": "python",
   "name": "python3"
  },
  "language_info": {
   "codemirror_mode": {
    "name": "ipython",
    "version": 3
   },
   "file_extension": ".py",
   "mimetype": "text/x-python",
   "name": "python",
   "nbconvert_exporter": "python",
   "pygments_lexer": "ipython3",
   "version": "3.12.0"
  }
 },
 "nbformat": 4,
 "nbformat_minor": 2
}
