{
 "cells": [
  {
   "cell_type": "code",
   "execution_count": 2,
   "metadata": {},
   "outputs": [],
   "source": [
    "import numpy as np\n",
    "import pandas as pd"
   ]
  },
  {
   "cell_type": "code",
   "execution_count": 18,
   "metadata": {},
   "outputs": [],
   "source": [
    "arr1 = np.random.randint(10,size=(3,3))\n",
    "arr2 = np.random.randint(10,size=(3,3))"
   ]
  },
  {
   "cell_type": "code",
   "execution_count": 21,
   "metadata": {},
   "outputs": [
    {
     "name": "stdout",
     "output_type": "stream",
     "text": [
      "[[8 7 7]\n",
      " [6 8 8]\n",
      " [0 8 1]]\n",
      "[[0 5 8]\n",
      " [9 2 8]\n",
      " [9 9 5]]\n"
     ]
    }
   ],
   "source": [
    "print(arr1)\n",
    "print(arr2)"
   ]
  },
  {
   "cell_type": "code",
   "execution_count": 19,
   "metadata": {},
   "outputs": [
    {
     "name": "stdout",
     "output_type": "stream",
     "text": [
      "[[ 8 12 15]\n",
      " [15 10 16]\n",
      " [ 9 17  6]]\n",
      "[[ 8 12 15]\n",
      " [15 10 16]\n",
      " [ 9 17  6]]\n"
     ]
    }
   ],
   "source": [
    "print(arr1+arr2)\n",
    "print(np.add(arr1,arr2))"
   ]
  },
  {
   "cell_type": "code",
   "execution_count": 20,
   "metadata": {},
   "outputs": [
    {
     "name": "stdout",
     "output_type": "stream",
     "text": [
      "[[126 117 155]\n",
      " [144 118 152]\n",
      " [ 81  25  69]]\n",
      "[[ 0 35 56]\n",
      " [54 16 64]\n",
      " [ 0 72  5]]\n",
      "[[ 0 35 56]\n",
      " [54 16 64]\n",
      " [ 0 72  5]]\n"
     ]
    }
   ],
   "source": [
    "print(np.dot(arr1,arr2))\n",
    "print(np.multiply(arr1,arr2))"
   ]
  },
  {
   "cell_type": "code",
   "execution_count": 27,
   "metadata": {},
   "outputs": [
    {
     "name": "stdout",
     "output_type": "stream",
     "text": [
      "[[       inf 1.4        0.875     ]\n",
      " [0.66666667 4.         1.        ]\n",
      " [0.         0.88888889 0.2       ]]\n",
      "[[0 2 7]\n",
      " [6 0 0]\n",
      " [0 8 1]]\n"
     ]
    },
    {
     "name": "stderr",
     "output_type": "stream",
     "text": [
      "C:\\Users\\Anitha\\AppData\\Local\\Temp\\ipykernel_4868\\522110001.py:1: RuntimeWarning: divide by zero encountered in divide\n",
      "  print(arr1/arr2)\n",
      "C:\\Users\\Anitha\\AppData\\Local\\Temp\\ipykernel_4868\\522110001.py:2: RuntimeWarning: divide by zero encountered in remainder\n",
      "  print(np.mod(arr1,arr2))\n"
     ]
    }
   ],
   "source": [
    "print(arr1/arr2)\n",
    "print(np.mod(arr1,arr2))"
   ]
  },
  {
   "cell_type": "code",
   "execution_count": null,
   "metadata": {},
   "outputs": [],
   "source": []
  }
 ],
 "metadata": {
  "kernelspec": {
   "display_name": "Python 3",
   "language": "python",
   "name": "python3"
  },
  "language_info": {
   "codemirror_mode": {
    "name": "ipython",
    "version": 3
   },
   "file_extension": ".py",
   "mimetype": "text/x-python",
   "name": "python",
   "nbconvert_exporter": "python",
   "pygments_lexer": "ipython3",
   "version": "3.12.0"
  }
 },
 "nbformat": 4,
 "nbformat_minor": 2
}
