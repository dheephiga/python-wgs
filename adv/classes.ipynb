{
 "cells": [
  {
   "cell_type": "code",
   "execution_count": 1,
   "metadata": {},
   "outputs": [
    {
     "name": "stdout",
     "output_type": "stream",
     "text": [
      "corey.schafer@company.com\n"
     ]
    }
   ],
   "source": [
    "class Employee:\n",
    "    def __init__(self, first_name, last_name, pay):\n",
    "        self.first_name = first_name\n",
    "        self.last_name = last_name\n",
    "        self.pay = pay\n",
    "        self.email = first_name + \".\" + last_name + \"@company.com\"\n",
    "\n",
    "\n",
    "emp1 = Employee(\"corey\", \"schafer\", 54000)\n",
    "# emp2 = Employee()\n",
    "print(emp1.email)"
   ]
  },
  {
   "cell_type": "code",
   "execution_count": 36,
   "metadata": {},
   "outputs": [
    {
     "ename": "AttributeError",
     "evalue": "property 'model' of 'Car' object has no setter",
     "output_type": "error",
     "traceback": [
      "\u001b[1;31m---------------------------------------------------------------------------\u001b[0m",
      "\u001b[1;31mAttributeError\u001b[0m                            Traceback (most recent call last)",
      "Cell \u001b[1;32mIn[36], line 45\u001b[0m\n\u001b[0;32m     41\u001b[0m         \u001b[38;5;28;01mreturn\u001b[39;00m \u001b[38;5;124m\"\u001b[39m\u001b[38;5;124mElectric Charge\u001b[39m\u001b[38;5;124m\"\u001b[39m\n\u001b[0;32m     44\u001b[0m myCar \u001b[38;5;241m=\u001b[39m Car(\u001b[38;5;124m'\u001b[39m\u001b[38;5;124mNissan\u001b[39m\u001b[38;5;124m'\u001b[39m,\u001b[38;5;124m'\u001b[39m\u001b[38;5;124mSunny\u001b[39m\u001b[38;5;124m'\u001b[39m)\n\u001b[1;32m---> 45\u001b[0m \u001b[43mmyCar\u001b[49m\u001b[38;5;241;43m.\u001b[39;49m\u001b[43mmodel\u001b[49m \u001b[38;5;241m=\u001b[39m \u001b[38;5;124m'\u001b[39m\u001b[38;5;124mheye\u001b[39m\u001b[38;5;124m'\u001b[39m\n\u001b[0;32m     46\u001b[0m \u001b[38;5;66;03m# print(myCar.brand)\u001b[39;00m\n\u001b[0;32m     47\u001b[0m \u001b[38;5;28mprint\u001b[39m(myCar\u001b[38;5;241m.\u001b[39mmodel())\n",
      "\u001b[1;31mAttributeError\u001b[0m: property 'model' of 'Car' object has no setter"
     ]
    }
   ],
   "source": [
    "class Car:\n",
    "    total_car = 0\n",
    "\n",
    "    def __init__(self, brand, model):\n",
    "\n",
    "\n",
    "        self.__brand = brand\n",
    "\n",
    "\n",
    "        self.__model = model\n",
    "        Car.total_car += 1\n",
    "\n",
    "\n",
    "    # def get_brand(self):\n",
    "\n",
    "\n",
    "    #     return 'private bro' + self.__brand\n",
    "\n",
    "\n",
    "    def get_brand(self):\n",
    "\n",
    "\n",
    "        return self.__brand + \"!\"\n",
    "\n",
    "    def full_details(self):\n",
    "\n",
    "\n",
    "        # print(f'Your car brand is: {self.brand}, model is: {self.model}')\n",
    "\n",
    "        return f\"Your car brand is: {self.__brand}, model is: {self.model}\"\n",
    "\n",
    "    def fuel_type(self):\n",
    "        return \"Petrol or Diesel\"\n",
    "\n",
    "    @staticmethod\n",
    "    def description():\n",
    "        return \"cars for speeed\"\n",
    "\n",
    "    @property\n",
    "    def model(self):\n",
    "        return self.__model\n",
    "\n",
    "\n",
    "\n",
    "class ElectricCar(Car):\n",
    "\n",
    "\n",
    "    def __init__(self, brand, model, battery_size):\n",
    "\n",
    "\n",
    "        super().__init__(brand, model)\n",
    "\n",
    "\n",
    "        self.battery_size = battery_size\n",
    "\n",
    "    def added(self):\n",
    "\n",
    "        a = super().full_details()\n",
    "\n",
    "        return a + f\" ,batterySize is: {self.battery_size}\"\n",
    "\n",
    "    def fuel_type(self):\n",
    "        return \"Electric Charge\"\n",
    "\n",
    "\n",
    "myCar = Car(\"Nissan\", \"Sunny\")\n",
    "myCar.model = \"heye\"\n",
    "# print(myCar.brand)\n",
    "print(myCar.model())\n",
    "\n",
    "# myCar.full_details()\n",
    "# print(myCar.full_details())\n",
    "\n",
    "\n",
    "\n",
    "myCar2 = Car(\"Jaguar\", \"Jag\")\n",
    "\n",
    "# print(myCar2.brand)\n",
    "# print(myCar2.model)\n",
    "\n",
    "myEc = ElectricCar(\"Tesla\", \"Model S\", \"85kWh\")\n",
    "# print(myEc.added())\n",
    "# print(myEc.__brand)\n",
    "# print(myEc.gc_brand())\n",
    "# print(myEc.get_brand())\n",
    "# print(myEc.fuel_type())\n",
    "# print(myCar.description())\n",
    "# print(Car.description())\n",
    "# print(Car.total_car)"
   ]
  }
 ],
 "metadata": {
  "kernelspec": {
   "display_name": "Python 3",
   "language": "python",
   "name": "python3"
  },
  "language_info": {
   "codemirror_mode": {
    "name": "ipython",
    "version": 3
   },
   "file_extension": ".py",
   "mimetype": "text/x-python",
   "name": "python",
   "nbconvert_exporter": "python",
   "pygments_lexer": "ipython3",
   "version": "3.12.0"
  }
 },
 "nbformat": 4,
 "nbformat_minor": 2
}
