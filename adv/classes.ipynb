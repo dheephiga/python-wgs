{
 "cells": [
  {
   "cell_type": "code",
   "execution_count": 1,
   "metadata": {},
   "outputs": [
    {
     "name": "stdout",
     "output_type": "stream",
     "text": [
      "corey.schafer@company.com\n"
     ]
    }
   ],
   "source": [
    "class Employee:\n",
    "    def __init__(self, first_name, last_name, pay):\n",
    "        self.first_name = first_name\n",
    "        self.last_name = last_name\n",
    "        self.pay = pay\n",
    "        self.email = first_name + \".\" + last_name + \"@company.com\"\n",
    "\n",
    "\n",
    "emp1 = Employee(\"corey\", \"schafer\", 54000)\n",
    "# emp2 = Employee()\n",
    "print(emp1.email)"
   ]
  },
  {
   "cell_type": "code",
   "execution_count": 19,
   "metadata": {},
   "outputs": [
    {
     "ename": "AttributeError",
     "evalue": "'ElectricCar' object has no attribute '__brand'",
     "output_type": "error",
     "traceback": [
      "\u001b[1;31m---------------------------------------------------------------------------\u001b[0m",
      "\u001b[1;31mAttributeError\u001b[0m                            Traceback (most recent call last)",
      "Cell \u001b[1;32mIn[19], line 36\u001b[0m\n\u001b[0;32m     34\u001b[0m myEc \u001b[38;5;241m=\u001b[39m ElectricCar(\u001b[38;5;124m'\u001b[39m\u001b[38;5;124mTesla\u001b[39m\u001b[38;5;124m'\u001b[39m,\u001b[38;5;124m'\u001b[39m\u001b[38;5;124mModel S\u001b[39m\u001b[38;5;124m'\u001b[39m,\u001b[38;5;124m'\u001b[39m\u001b[38;5;124m85kWh\u001b[39m\u001b[38;5;124m'\u001b[39m)\n\u001b[0;32m     35\u001b[0m \u001b[38;5;66;03m# print(myEc.added())\u001b[39;00m\n\u001b[1;32m---> 36\u001b[0m \u001b[38;5;28mprint\u001b[39m(\u001b[43mmyEc\u001b[49m\u001b[38;5;241;43m.\u001b[39;49m\u001b[43m__brand\u001b[49m)\n\u001b[0;32m     37\u001b[0m \u001b[38;5;28mprint\u001b[39m(myEc\u001b[38;5;241m.\u001b[39mget_brand())\n",
      "\u001b[1;31mAttributeError\u001b[0m: 'ElectricCar' object has no attribute '__brand'"
     ]
    }
   ],
   "source": [
    "class Car:\n",
    "    def __init__(self, brand,model):\n",
    "        self.__brand = brand\n",
    "        self.model = model\n",
    "        \n",
    "    def set_brand(self):\n",
    "        pass\n",
    "    \n",
    "    def get_brand(self):\n",
    "        return self.__brand + '!'\n",
    "    \n",
    "    \n",
    "    def full_details(self):\n",
    "        # print(f'Your car brand is: {self.brand}, model is: {self.model}')\n",
    "        return (f'Your car brand is: {self.brand}, model is: {self.model}')\n",
    "\n",
    "class ElectricCar(Car):\n",
    "    def __init__(self, brand, model, battery_size):\n",
    "        super().__init__(brand,model)\n",
    "        self.battery_size = battery_size\n",
    "\n",
    "    def added(self):\n",
    "        a  = super().full_details()\n",
    "        return (a+f' ,batterySize is: {self.battery_size}')\n",
    "\n",
    "\n",
    "# myCar = Car('Nissan','Sunny')\n",
    "# print(myCar.brand)\n",
    "# print(myCar.model)\n",
    "# myCar.full_details()\n",
    "# print(myCar.full_details())\n",
    "\n",
    "# myCar2 = Car('Jaguar','Jag')\n",
    "# print(myCar2.brand)\n",
    "# print(myCar2.model)\n",
    "\n",
    "myEc = ElectricCar('Tesla','Model S','85kWh')\n",
    "# print(myEc.added())\n",
    "print(myEc.__brand)\n",
    "print(myEc.get_brand())"
   ]
  },
  {
   "cell_type": "code",
   "execution_count": null,
   "metadata": {},
   "outputs": [],
   "source": []
  }
 ],
 "metadata": {
  "kernelspec": {
   "display_name": "Python 3",
   "language": "python",
   "name": "python3"
  },
  "language_info": {
   "codemirror_mode": {
    "name": "ipython",
    "version": 3
   },
   "file_extension": ".py",
   "mimetype": "text/x-python",
   "name": "python",
   "nbconvert_exporter": "python",
   "pygments_lexer": "ipython3",
   "version": "3.12.0"
  }
 },
 "nbformat": 4,
 "nbformat_minor": 2
}
