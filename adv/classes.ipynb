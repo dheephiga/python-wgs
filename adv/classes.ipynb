{
 "cells": [
  {
   "cell_type": "code",
   "execution_count": 1,
   "metadata": {},
   "outputs": [
    {
     "name": "stdout",
     "output_type": "stream",
     "text": [
      "corey.schafer@company.com\n"
     ]
    }
   ],
   "source": [
    "class Employee:\n",
    "    def __init__(self, first_name, last_name, pay):\n",
    "        self.first_name = first_name\n",
    "        self.last_name = last_name\n",
    "        self.pay = pay\n",
    "        self.email = first_name + \".\" + last_name + \"@company.com\"\n",
    "\n",
    "\n",
    "emp1 = Employee(\"corey\", \"schafer\", 54000)\n",
    "# emp2 = Employee()\n",
    "print(emp1.email)"
   ]
  },
  {
   "cell_type": "code",
   "execution_count": 27,
   "metadata": {},
   "outputs": [
    {
     "name": "stdout",
     "output_type": "stream",
     "text": [
      "cars for speeed\n",
      "cars for speeed\n",
      "3\n"
     ]
    }
   ],
   "source": [
    "class Car:\n",
    "    total_car = 0\n",
    "    \n",
    "    def __init__(self, brand,model):\n",
    "        self.__brand = brand\n",
    "        self.model = model\n",
    "        Car.total_car +=1\n",
    "        \n",
    "    # def get_brand(self):\n",
    "    #     return 'private bro' + self.__brand\n",
    "    \n",
    "    def get_brand(self):\n",
    "        return self.__brand + '!'\n",
    "    \n",
    "    \n",
    "    def full_details(self):\n",
    "        # print(f'Your car brand is: {self.brand}, model is: {self.model}')\n",
    "        return (f'Your car brand is: {self.brand}, model is: {self.model}')\n",
    "    \n",
    "    def fuel_type(self):\n",
    "        return 'Petrol or Diesel'\n",
    "    \n",
    "    @staticmethod\n",
    "    def description():\n",
    "        return 'cars for speeed'\n",
    "\n",
    "class ElectricCar(Car):\n",
    "    def __init__(self, brand, model, battery_size):\n",
    "        super().__init__(brand,model)\n",
    "        self.battery_size = battery_size\n",
    "\n",
    "    def added(self):\n",
    "        a  = super().full_details()\n",
    "        return (a+f' ,batterySize is: {self.battery_size}')\n",
    "    \n",
    "    def fuel_type(self):\n",
    "        return \"Electric Charge\"\n",
    "\n",
    "\n",
    "myCar = Car('Nissan','Sunny')\n",
    "# print(myCar.brand)\n",
    "# print(myCar.model)\n",
    "# myCar.full_details()\n",
    "# print(myCar.full_details())\n",
    "\n",
    "\n",
    "myCar2 = Car('Jaguar','Jag')\n",
    "# print(myCar2.brand)\n",
    "# print(myCar2.model)\n",
    "\n",
    "myEc = ElectricCar('Tesla','Model S','85kWh')\n",
    "\n",
    "# print(myEc.added())\n",
    "# print(myEc.__brand)\n",
    "# print(myEc.gc_brand())\n",
    "# print(myEc.get_brand())\n",
    "# print(myEc.fuel_type())\n",
    "print(myCar.description())\n",
    "print(Car.description())\n",
    "print(Car.total_car)\n"
   ]
  },
  {
   "cell_type": "code",
   "execution_count": null,
   "metadata": {},
   "outputs": [],
   "source": []
  }
 ],
 "metadata": {
  "kernelspec": {
   "display_name": "Python 3",
   "language": "python",
   "name": "python3"
  },
  "language_info": {
   "codemirror_mode": {
    "name": "ipython",
    "version": 3
   },
   "file_extension": ".py",
   "mimetype": "text/x-python",
   "name": "python",
   "nbconvert_exporter": "python",
   "pygments_lexer": "ipython3",
   "version": "3.12.0"
  }
 },
 "nbformat": 4,
 "nbformat_minor": 2
}
