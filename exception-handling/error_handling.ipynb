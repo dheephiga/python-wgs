{
 "cells": [
  {
   "cell_type": "code",
   "execution_count": 39,
   "metadata": {},
   "outputs": [
    {
     "ename": "KeyError",
     "evalue": "'six'",
     "output_type": "error",
     "traceback": [
      "\u001b[1;31m---------------------------------------------------------------------------\u001b[0m",
      "\u001b[1;31mKeyError\u001b[0m                                  Traceback (most recent call last)",
      "Cell \u001b[1;32mIn[39], line 7\u001b[0m\n\u001b[0;32m      1\u001b[0m numbers \u001b[38;5;241m=\u001b[39m {\u001b[38;5;124m'\u001b[39m\u001b[38;5;124mone\u001b[39m\u001b[38;5;124m'\u001b[39m:\u001b[38;5;241m1\u001b[39m,\n\u001b[0;32m      2\u001b[0m            \u001b[38;5;124m'\u001b[39m\u001b[38;5;124mtwo\u001b[39m\u001b[38;5;124m'\u001b[39m:\u001b[38;5;241m2\u001b[39m,\n\u001b[0;32m      3\u001b[0m            \u001b[38;5;124m'\u001b[39m\u001b[38;5;124mthree\u001b[39m\u001b[38;5;124m'\u001b[39m:\u001b[38;5;241m3\u001b[39m,\n\u001b[0;32m      4\u001b[0m            \u001b[38;5;124m'\u001b[39m\u001b[38;5;124mfour\u001b[39m\u001b[38;5;124m'\u001b[39m:\u001b[38;5;241m4\u001b[39m,\n\u001b[0;32m      5\u001b[0m            \u001b[38;5;124m'\u001b[39m\u001b[38;5;124mfive\u001b[39m\u001b[38;5;124m'\u001b[39m:\u001b[38;5;241m5\u001b[39m}\n\u001b[0;32m      6\u001b[0m \u001b[38;5;66;03m# print(numbers)\u001b[39;00m\n\u001b[1;32m----> 7\u001b[0m \u001b[38;5;28mprint\u001b[39m(\u001b[43mnumbers\u001b[49m\u001b[43m[\u001b[49m\u001b[38;5;124;43m'\u001b[39;49m\u001b[38;5;124;43msix\u001b[39;49m\u001b[38;5;124;43m'\u001b[39;49m\u001b[43m]\u001b[49m)\n",
      "\u001b[1;31mKeyError\u001b[0m: 'six'"
     ]
    }
   ],
   "source": [
    "numbers = {'one':1,\n",
    "           'two':2,\n",
    "           'three':3,\n",
    "           'four':4,\n",
    "           'five':5}\n",
    "# print(numbers)\n",
    "print(numbers['six'])\n"
   ]
  },
  {
   "cell_type": "markdown",
   "metadata": {},
   "source": [
    "handling key error"
   ]
  },
  {
   "cell_type": "code",
   "execution_count": null,
   "metadata": {},
   "outputs": [],
   "source": [
    "find = 'seven'\n",
    "if find in numbers.keys():\n",
    "    print(numbers[find])\n",
    "else:\n",
    "    print('key doesnt exist')"
   ]
  },
  {
   "cell_type": "code",
   "execution_count": 7,
   "metadata": {},
   "outputs": [
    {
     "ename": "ValueError",
     "evalue": "invalid literal for int() with base 10: 'welcome'",
     "output_type": "error",
     "traceback": [
      "\u001b[1;31m---------------------------------------------------------------------------\u001b[0m",
      "\u001b[1;31mValueError\u001b[0m                                Traceback (most recent call last)",
      "Cell \u001b[1;32mIn[7], line 4\u001b[0m\n\u001b[0;32m      2\u001b[0m b \u001b[38;5;241m=\u001b[39m \u001b[38;5;124m'\u001b[39m\u001b[38;5;124mwelcome\u001b[39m\u001b[38;5;124m'\u001b[39m\n\u001b[0;32m      3\u001b[0m a \u001b[38;5;241m=\u001b[39m \u001b[38;5;28mstr\u001b[39m(a)\n\u001b[1;32m----> 4\u001b[0m b \u001b[38;5;241m=\u001b[39m \u001b[38;5;28;43mint\u001b[39;49m\u001b[43m(\u001b[49m\u001b[43mb\u001b[49m\u001b[43m)\u001b[49m\n\u001b[0;32m      5\u001b[0m \u001b[38;5;28mprint\u001b[39m(a)\n\u001b[0;32m      6\u001b[0m \u001b[38;5;28mprint\u001b[39m(b)\n",
      "\u001b[1;31mValueError\u001b[0m: invalid literal for int() with base 10: 'welcome'"
     ]
    }
   ],
   "source": [
    "a = 15\n",
    "b = 'welcome'\n",
    "a = str(a)\n",
    "b = int(b)\n",
    "print(a)\n",
    "print(b)"
   ]
  },
  {
   "cell_type": "code",
   "execution_count": 8,
   "metadata": {},
   "outputs": [
    {
     "ename": "AttributeError",
     "evalue": "'tuple' object has no attribute 'append'",
     "output_type": "error",
     "traceback": [
      "\u001b[1;31m---------------------------------------------------------------------------\u001b[0m",
      "\u001b[1;31mAttributeError\u001b[0m                            Traceback (most recent call last)",
      "Cell \u001b[1;32mIn[8], line 2\u001b[0m\n\u001b[0;32m      1\u001b[0m c \u001b[38;5;241m=\u001b[39m (\u001b[38;5;124m'\u001b[39m\u001b[38;5;124mty\u001b[39m\u001b[38;5;124m'\u001b[39m,\u001b[38;5;124m'\u001b[39m\u001b[38;5;124mop\u001b[39m\u001b[38;5;124m'\u001b[39m)\n\u001b[1;32m----> 2\u001b[0m \u001b[43mc\u001b[49m\u001b[38;5;241;43m.\u001b[39;49m\u001b[43mappend\u001b[49m(\u001b[38;5;124m'\u001b[39m\u001b[38;5;124mkl\u001b[39m\u001b[38;5;124m'\u001b[39m)\n",
      "\u001b[1;31mAttributeError\u001b[0m: 'tuple' object has no attribute 'append'"
     ]
    }
   ],
   "source": [
    "c = ('ty','op')\n",
    "c.append('kl')"
   ]
  },
  {
   "cell_type": "code",
   "execution_count": 26,
   "metadata": {},
   "outputs": [
    {
     "name": "stdout",
     "output_type": "stream",
     "text": [
      "q is not defined\n"
     ]
    }
   ],
   "source": [
    "if 'q' in locals() and (q or q != 0):\n",
    "    print(q)\n",
    "else:\n",
    "    print('q is not defined')"
   ]
  },
  {
   "cell_type": "code",
   "execution_count": 34,
   "metadata": {},
   "outputs": [
    {
     "ename": "TypeError",
     "evalue": "can only concatenate str (not \"int\") to str",
     "output_type": "error",
     "traceback": [
      "\u001b[1;31m---------------------------------------------------------------------------\u001b[0m",
      "\u001b[1;31mTypeError\u001b[0m                                 Traceback (most recent call last)",
      "Cell \u001b[1;32mIn[34], line 3\u001b[0m\n\u001b[0;32m      1\u001b[0m i \u001b[38;5;241m=\u001b[39m \u001b[38;5;241m9\u001b[39m\n\u001b[0;32m      2\u001b[0m j \u001b[38;5;241m=\u001b[39m \u001b[38;5;124m'\u001b[39m\u001b[38;5;124mop\u001b[39m\u001b[38;5;124m'\u001b[39m\n\u001b[1;32m----> 3\u001b[0m \u001b[38;5;28mprint\u001b[39m(\u001b[43mj\u001b[49m\u001b[38;5;241;43m+\u001b[39;49m\u001b[43mi\u001b[49m)\n",
      "\u001b[1;31mTypeError\u001b[0m: can only concatenate str (not \"int\") to str"
     ]
    }
   ],
   "source": [
    "i = 9\n",
    "j = 'op'\n",
    "print(j+i)"
   ]
  },
  {
   "cell_type": "markdown",
   "metadata": {},
   "source": [
    "handling above erro"
   ]
  },
  {
   "cell_type": "code",
   "execution_count": 35,
   "metadata": {},
   "outputs": [],
   "source": [
    "i = 9\n",
    "j = 'op'\n",
    "if type(i)==type(j):\n",
    "    print(j+i)"
   ]
  },
  {
   "cell_type": "code",
   "execution_count": 37,
   "metadata": {},
   "outputs": [
    {
     "name": "stdout",
     "output_type": "stream",
     "text": [
      "index doesnt exist\n"
     ]
    }
   ],
   "source": [
    "L = [0,9,12,999]\n",
    "x = 1000\n",
    "if x <= len(L):\n",
    "    print(L[x])\n",
    "else:\n",
    "    print('index doesnt exist')"
   ]
  },
  {
   "cell_type": "code",
   "execution_count": null,
   "metadata": {},
   "outputs": [],
   "source": [
    "def safe_divide(a,b):\n",
    "    try:\n",
    "        return a/b\n",
    "    except:\n",
    "        "
   ]
  },
  {
   "cell_type": "code",
   "execution_count": 47,
   "metadata": {},
   "outputs": [
    {
     "name": "stdout",
     "output_type": "stream",
     "text": [
      "Minimum: 0\n",
      "Maximum: 0\n",
      "Sum: 0\n",
      "Average: 0.0\n"
     ]
    }
   ],
   "source": [
    "a = [0]\n",
    "\n",
    "if a:\n",
    "    all_numeric = True\n",
    "    for x in a:\n",
    "        if not isinstance(x, (int, float)):\n",
    "            all_numeric = False\n",
    "            break\n",
    "    if all_numeric:\n",
    "        try:\n",
    "            min_num = min(a)\n",
    "            max_num = max(a)\n",
    "            total = sum(a)\n",
    "            average = total / len(a)  \n",
    "            print(\"Minimum:\", min_num)\n",
    "            print(\"Maximum:\", max_num)\n",
    "            print(\"Sum:\", total)\n",
    "            print(\"Average:\", average)\n",
    "        except ZeroDivisionError:\n",
    "            print(\"Cannot compute average of an empty list\")\n",
    "    else:\n",
    "        print(\"List contains non-numeric values\")\n",
    "else:\n",
    "    print(\"List is empty\")\n"
   ]
  },
  {
   "cell_type": "code",
   "execution_count": 12,
   "metadata": {},
   "outputs": [
    {
     "name": "stdout",
     "output_type": "stream",
     "text": [
      "None\n"
     ]
    }
   ],
   "source": [
    "def fib(n):\n",
    "    if n < 0:\n",
    "        raise ValueError(\"n must be non-negative\")\n",
    "    l = []\n",
    "    a,b = 0,1\n",
    "    while len(l) < n:\n",
    "        a,b = b,a+b\n",
    "        l.append(a)\n",
    "\n"
   ]
  },
  {
   "cell_type": "code",
   "execution_count": null,
   "metadata": {},
   "outputs": [],
   "source": [
    "def fib():\n",
    "    if n < 0:\n",
    "        raise ValueError(\"n must be non-negative\")\n",
    "     elif isinstance(n, float) or isinstance(n, str):\n",
    "        raise TypeError('n should not be a float value or a string value')\n",
    "    \n",
    "    l = []\n",
    "    a,b = 0,1\n",
    "    while len(l) < n:\n",
    "        a,b = b,a+bL.append(a)"
   ]
  },
  {
   "cell_type": "code",
   "execution_count": null,
   "metadata": {},
   "outputs": [],
   "source": [
    "class outOfRange(ValueError):\n",
    "    pass\n",
    "raise outOfRange('Marks is out of the required range')\n",
    "\n",
    "mark1 = int(input())\n",
    "mark2 = int(input())\n",
    "mark3 = int(input())\n",
    "\n",
    "try:\n",
    "    print(mark1+mark2+mark3)\n"
   ]
  },
  {
   "cell_type": "code",
   "execution_count": null,
   "metadata": {},
   "outputs": [],
   "source": [
    "class outOfRange(ValueError):\n",
    "    pass\n",
    "\n",
    "mark1 = int(input(\"Enter mark 1: \"))\n",
    "mark2 = int(input(\"Enter mark 2: \"))\n",
    "mark3 = int(input(\"Enter mark 3: \"))\n",
    "\n",
    "try:\n",
    "    if mark1 < 0 or mark1 > 100:\n",
    "        raise outOfRange('Mark 1 is out of the required range')  \n",
    "    if mark2 < 0 or mark2 > 100:\n",
    "        raise outOfRange('Mark 2 is out of the required range') \n",
    "    if mark3 < 0 or mark3 > 100:\n",
    "        raise outOfRange('Mark 3 is out of the required range')  \n",
    "    \n",
    "    total = mark1 + mark2 + mark3\n",
    "    print(\"Total marks:\", total)\n",
    "except outOfRange as e:\n",
    "    print(\"Error:\", e)\n"
   ]
  }
 ],
 "metadata": {
  "kernelspec": {
   "display_name": "Python 3",
   "language": "python",
   "name": "python3"
  },
  "language_info": {
   "codemirror_mode": {
    "name": "ipython",
    "version": 3
   },
   "file_extension": ".py",
   "mimetype": "text/x-python",
   "name": "python",
   "nbconvert_exporter": "python",
   "pygments_lexer": "ipython3",
   "version": "3.12.0"
  }
 },
 "nbformat": 4,
 "nbformat_minor": 2
}
